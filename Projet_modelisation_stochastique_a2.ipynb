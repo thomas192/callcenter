{
  "nbformat": 4,
  "nbformat_minor": 0,
  "metadata": {
    "colab": {
      "provenance": [],
      "gpuType": "T4"
    },
    "kernelspec": {
      "name": "python3",
      "display_name": "Python 3"
    },
    "language_info": {
      "name": "python"
    },
    "accelerator": "GPU"
  },
  "cells": [
    {
      "cell_type": "code",
      "execution_count": null,
      "metadata": {
        "id": "ijTkLtd94sPE",
        "colab": {
          "base_uri": "https://localhost:8080/"
        },
        "outputId": "3abf2839-d3ed-47bf-b758-6b0d832acd52"
      },
      "outputs": [
        {
          "output_type": "stream",
          "name": "stdout",
          "text": [
            "Collecting pyAgrum\n",
            "  Downloading pyAgrum-1.13.2-cp310-cp310-manylinux2014_x86_64.whl (5.9 MB)\n",
            "\u001b[2K     \u001b[90m━━━━━━━━━━━━━━━━━━━━━━━━━━━━━━━━━━━━━━━━\u001b[0m \u001b[32m5.9/5.9 MB\u001b[0m \u001b[31m18.5 MB/s\u001b[0m eta \u001b[36m0:00:00\u001b[0m\n",
            "\u001b[?25hRequirement already satisfied: numpy in /usr/local/lib/python3.10/dist-packages (from pyAgrum) (1.25.2)\n",
            "Requirement already satisfied: matplotlib in /usr/local/lib/python3.10/dist-packages (from pyAgrum) (3.7.1)\n",
            "Requirement already satisfied: pydot in /usr/local/lib/python3.10/dist-packages (from pyAgrum) (1.4.2)\n",
            "Requirement already satisfied: contourpy>=1.0.1 in /usr/local/lib/python3.10/dist-packages (from matplotlib->pyAgrum) (1.2.1)\n",
            "Requirement already satisfied: cycler>=0.10 in /usr/local/lib/python3.10/dist-packages (from matplotlib->pyAgrum) (0.12.1)\n",
            "Requirement already satisfied: fonttools>=4.22.0 in /usr/local/lib/python3.10/dist-packages (from matplotlib->pyAgrum) (4.51.0)\n",
            "Requirement already satisfied: kiwisolver>=1.0.1 in /usr/local/lib/python3.10/dist-packages (from matplotlib->pyAgrum) (1.4.5)\n",
            "Requirement already satisfied: packaging>=20.0 in /usr/local/lib/python3.10/dist-packages (from matplotlib->pyAgrum) (24.0)\n",
            "Requirement already satisfied: pillow>=6.2.0 in /usr/local/lib/python3.10/dist-packages (from matplotlib->pyAgrum) (9.4.0)\n",
            "Requirement already satisfied: pyparsing>=2.3.1 in /usr/local/lib/python3.10/dist-packages (from matplotlib->pyAgrum) (3.1.2)\n",
            "Requirement already satisfied: python-dateutil>=2.7 in /usr/local/lib/python3.10/dist-packages (from matplotlib->pyAgrum) (2.8.2)\n",
            "Requirement already satisfied: six>=1.5 in /usr/local/lib/python3.10/dist-packages (from python-dateutil>=2.7->matplotlib->pyAgrum) (1.16.0)\n",
            "Installing collected packages: pyAgrum\n",
            "Successfully installed pyAgrum-1.13.2\n"
          ]
        }
      ],
      "source": [
        "!pip install pyAgrum"
      ]
    },
    {
      "cell_type": "code",
      "source": [
        "import pandas as pd\n",
        "import pyAgrum as gum\n",
        "import pyAgrum.lib.notebook as gnb\n",
        "import numpy as np\n",
        "import sys\n",
        "from sklearn.model_selection import train_test_split\n",
        "import matplotlib.pyplot as plt"
      ],
      "metadata": {
        "id": "UiOXHLic5vzE"
      },
      "execution_count": null,
      "outputs": []
    },
    {
      "cell_type": "code",
      "source": [
        "# predict function\n",
        "def predict(bn, data, var_target, show_progress=False):\n",
        "    \"\"\"\n",
        "    This function is used to predict the posterior probability of a target variable from observations\n",
        "    using a bayesian network model.\n",
        "\n",
        "    Inputs:\n",
        "    - =bn=: the predictive model given as a =pyAgrum.BayesNet= object\n",
        "    - =data=: the data containing the observations used to predict the target variable\n",
        "    as a =pandas.DataFrame= object\n",
        "    - =var_target=: the name of the target variable as a =str= object\n",
        "\n",
        "    Returns:\n",
        "    - a =DataFrame= containing the posterior probability distribution of the target\n",
        "    variable given each observation in =data=.\n",
        "    \"\"\"\n",
        "    # Initialize the inference engine\n",
        "    inf_bn = gum.LazyPropagation(bn)\n",
        "    inf_bn.setTargets({var_target})\n",
        "    nb_data = len(data)\n",
        "    target_size = bn.variable(var_target).domainSize()\n",
        "    target_dom = np.array([bn.variable(var_target).label(i)\n",
        "                           for i in range(target_size)])\n",
        "    data_records = data.to_dict(\"records\")\n",
        "    post_prob = np.zeros((nb_data, target_size))\n",
        "    for i in range(nb_data):\n",
        "        # Set the evidence\n",
        "        inf_bn.setEvidence(data_records[i])\n",
        "        # Run inference\n",
        "        inf_bn.makeInference()\n",
        "        # Compute posterior probability of target variable\n",
        "        post_prob[i, :] = inf_bn.posterior(var_target).toarray()\n",
        "        # Erase evidence\n",
        "        inf_bn.eraseAllEvidence()\n",
        "        if show_progress:\n",
        "            sys.stdout.write(\"predict progress: {0:3.0%}\\r\".format(i/nb_data))\n",
        "\n",
        "    post_prob_df = pd.DataFrame(post_prob,\n",
        "                                index=data.index,\n",
        "                                columns=bn.variable(var_target).labels())\n",
        "    post_prob_df.columns.name = var_target\n",
        "    return post_prob_df"
      ],
      "metadata": {
        "id": "KG3VlN5R7XHh"
      },
      "execution_count": null,
      "outputs": []
    },
    {
      "cell_type": "markdown",
      "source": [
        "# Exploration des données"
      ],
      "metadata": {
        "id": "6T_8Bb_s7aVi"
      }
    },
    {
      "cell_type": "code",
      "source": [
        "calls_dfd = {}\n",
        "data_filename = f\"calls_a2.csv.bz2\"\n",
        "print(f\"Chargement du fichier {data_filename}\")\n",
        "calls_dfd[f\"a2\"] = pd.read_csv(\n",
        "    data_filename,\n",
        "    parse_dates=[f\"date_a{k_bis}\" for k_bis in range(1, 3)],\n",
        ")"
      ],
      "metadata": {
        "colab": {
          "base_uri": "https://localhost:8080/"
        },
        "id": "zw22suIQ50PT",
        "outputId": "408d71ff-841c-47d5-b4a3-73a86b9d9045"
      },
      "execution_count": null,
      "outputs": [
        {
          "output_type": "stream",
          "name": "stdout",
          "text": [
            "Chargement du fichier calls_a2.csv.bz2\n"
          ]
        }
      ]
    },
    {
      "cell_type": "code",
      "source": [
        "calls_dfd[\"a2\"].head(5)"
      ],
      "metadata": {
        "id": "KoEiPofS6AXb",
        "colab": {
          "base_uri": "https://localhost:8080/",
          "height": 313
        },
        "outputId": "ae03aa9a-919c-4ecc-d5ac-33529e6f8023"
      },
      "execution_count": null,
      "outputs": [
        {
          "output_type": "execute_result",
          "data": {
            "text/plain": [
              "        lead_id             date_a1 weekday_a1 hour_a1  duration_a1  \\\n",
              "0  fdeae76d3fef 2020-04-03 10:05:49    0Monday     h10            2   \n",
              "1  73c015525161 2020-04-03 10:05:50    0Monday     h10            2   \n",
              "2  c718221df1be 2020-04-03 10:06:01    0Monday     h10            3   \n",
              "3  912712707f41 2020-04-03 10:07:54    0Monday     h10            2   \n",
              "4  6b6797b56ae7 2020-04-03 10:08:05    0Monday     h10            3   \n",
              "\n",
              "   caller_id_a1 lead_answered_a1             date_a2 weekday_a2 hour_a2  \\\n",
              "0  1e540d0ac463               no 2020-04-06 18:28:15  3Thursday     h18   \n",
              "1  159e9c0a04f6               no 2020-04-06 18:28:15  3Thursday     h18   \n",
              "2  da44d3138279               no 2020-04-06 18:28:16  3Thursday     h18   \n",
              "3  1a3960780bb2               no 2020-04-06 18:28:16  3Thursday     h18   \n",
              "4  1a3960780bb2               no 2020-04-06 18:28:16  3Thursday     h18   \n",
              "\n",
              "   duration_a2  caller_id_a2 lead_answered_a2 caller_has_changed_a2  \n",
              "0            2  08fcb33240a2               no                   yes  \n",
              "1            2  f986b4d3e9dd               no                   yes  \n",
              "2            3  b7824c80c481               no                   yes  \n",
              "3            2  385232287fc4               no                   yes  \n",
              "4           23  385232287fc4              yes                   yes  "
            ],
            "text/html": [
              "\n",
              "  <div id=\"df-6ecd27cc-5081-4ece-bfd5-f7a748cbcfe1\" class=\"colab-df-container\">\n",
              "    <div>\n",
              "<style scoped>\n",
              "    .dataframe tbody tr th:only-of-type {\n",
              "        vertical-align: middle;\n",
              "    }\n",
              "\n",
              "    .dataframe tbody tr th {\n",
              "        vertical-align: top;\n",
              "    }\n",
              "\n",
              "    .dataframe thead th {\n",
              "        text-align: right;\n",
              "    }\n",
              "</style>\n",
              "<table border=\"1\" class=\"dataframe\">\n",
              "  <thead>\n",
              "    <tr style=\"text-align: right;\">\n",
              "      <th></th>\n",
              "      <th>lead_id</th>\n",
              "      <th>date_a1</th>\n",
              "      <th>weekday_a1</th>\n",
              "      <th>hour_a1</th>\n",
              "      <th>duration_a1</th>\n",
              "      <th>caller_id_a1</th>\n",
              "      <th>lead_answered_a1</th>\n",
              "      <th>date_a2</th>\n",
              "      <th>weekday_a2</th>\n",
              "      <th>hour_a2</th>\n",
              "      <th>duration_a2</th>\n",
              "      <th>caller_id_a2</th>\n",
              "      <th>lead_answered_a2</th>\n",
              "      <th>caller_has_changed_a2</th>\n",
              "    </tr>\n",
              "  </thead>\n",
              "  <tbody>\n",
              "    <tr>\n",
              "      <th>0</th>\n",
              "      <td>fdeae76d3fef</td>\n",
              "      <td>2020-04-03 10:05:49</td>\n",
              "      <td>0Monday</td>\n",
              "      <td>h10</td>\n",
              "      <td>2</td>\n",
              "      <td>1e540d0ac463</td>\n",
              "      <td>no</td>\n",
              "      <td>2020-04-06 18:28:15</td>\n",
              "      <td>3Thursday</td>\n",
              "      <td>h18</td>\n",
              "      <td>2</td>\n",
              "      <td>08fcb33240a2</td>\n",
              "      <td>no</td>\n",
              "      <td>yes</td>\n",
              "    </tr>\n",
              "    <tr>\n",
              "      <th>1</th>\n",
              "      <td>73c015525161</td>\n",
              "      <td>2020-04-03 10:05:50</td>\n",
              "      <td>0Monday</td>\n",
              "      <td>h10</td>\n",
              "      <td>2</td>\n",
              "      <td>159e9c0a04f6</td>\n",
              "      <td>no</td>\n",
              "      <td>2020-04-06 18:28:15</td>\n",
              "      <td>3Thursday</td>\n",
              "      <td>h18</td>\n",
              "      <td>2</td>\n",
              "      <td>f986b4d3e9dd</td>\n",
              "      <td>no</td>\n",
              "      <td>yes</td>\n",
              "    </tr>\n",
              "    <tr>\n",
              "      <th>2</th>\n",
              "      <td>c718221df1be</td>\n",
              "      <td>2020-04-03 10:06:01</td>\n",
              "      <td>0Monday</td>\n",
              "      <td>h10</td>\n",
              "      <td>3</td>\n",
              "      <td>da44d3138279</td>\n",
              "      <td>no</td>\n",
              "      <td>2020-04-06 18:28:16</td>\n",
              "      <td>3Thursday</td>\n",
              "      <td>h18</td>\n",
              "      <td>3</td>\n",
              "      <td>b7824c80c481</td>\n",
              "      <td>no</td>\n",
              "      <td>yes</td>\n",
              "    </tr>\n",
              "    <tr>\n",
              "      <th>3</th>\n",
              "      <td>912712707f41</td>\n",
              "      <td>2020-04-03 10:07:54</td>\n",
              "      <td>0Monday</td>\n",
              "      <td>h10</td>\n",
              "      <td>2</td>\n",
              "      <td>1a3960780bb2</td>\n",
              "      <td>no</td>\n",
              "      <td>2020-04-06 18:28:16</td>\n",
              "      <td>3Thursday</td>\n",
              "      <td>h18</td>\n",
              "      <td>2</td>\n",
              "      <td>385232287fc4</td>\n",
              "      <td>no</td>\n",
              "      <td>yes</td>\n",
              "    </tr>\n",
              "    <tr>\n",
              "      <th>4</th>\n",
              "      <td>6b6797b56ae7</td>\n",
              "      <td>2020-04-03 10:08:05</td>\n",
              "      <td>0Monday</td>\n",
              "      <td>h10</td>\n",
              "      <td>3</td>\n",
              "      <td>1a3960780bb2</td>\n",
              "      <td>no</td>\n",
              "      <td>2020-04-06 18:28:16</td>\n",
              "      <td>3Thursday</td>\n",
              "      <td>h18</td>\n",
              "      <td>23</td>\n",
              "      <td>385232287fc4</td>\n",
              "      <td>yes</td>\n",
              "      <td>yes</td>\n",
              "    </tr>\n",
              "  </tbody>\n",
              "</table>\n",
              "</div>\n",
              "    <div class=\"colab-df-buttons\">\n",
              "\n",
              "  <div class=\"colab-df-container\">\n",
              "    <button class=\"colab-df-convert\" onclick=\"convertToInteractive('df-6ecd27cc-5081-4ece-bfd5-f7a748cbcfe1')\"\n",
              "            title=\"Convert this dataframe to an interactive table.\"\n",
              "            style=\"display:none;\">\n",
              "\n",
              "  <svg xmlns=\"http://www.w3.org/2000/svg\" height=\"24px\" viewBox=\"0 -960 960 960\">\n",
              "    <path d=\"M120-120v-720h720v720H120Zm60-500h600v-160H180v160Zm220 220h160v-160H400v160Zm0 220h160v-160H400v160ZM180-400h160v-160H180v160Zm440 0h160v-160H620v160ZM180-180h160v-160H180v160Zm440 0h160v-160H620v160Z\"/>\n",
              "  </svg>\n",
              "    </button>\n",
              "\n",
              "  <style>\n",
              "    .colab-df-container {\n",
              "      display:flex;\n",
              "      gap: 12px;\n",
              "    }\n",
              "\n",
              "    .colab-df-convert {\n",
              "      background-color: #E8F0FE;\n",
              "      border: none;\n",
              "      border-radius: 50%;\n",
              "      cursor: pointer;\n",
              "      display: none;\n",
              "      fill: #1967D2;\n",
              "      height: 32px;\n",
              "      padding: 0 0 0 0;\n",
              "      width: 32px;\n",
              "    }\n",
              "\n",
              "    .colab-df-convert:hover {\n",
              "      background-color: #E2EBFA;\n",
              "      box-shadow: 0px 1px 2px rgba(60, 64, 67, 0.3), 0px 1px 3px 1px rgba(60, 64, 67, 0.15);\n",
              "      fill: #174EA6;\n",
              "    }\n",
              "\n",
              "    .colab-df-buttons div {\n",
              "      margin-bottom: 4px;\n",
              "    }\n",
              "\n",
              "    [theme=dark] .colab-df-convert {\n",
              "      background-color: #3B4455;\n",
              "      fill: #D2E3FC;\n",
              "    }\n",
              "\n",
              "    [theme=dark] .colab-df-convert:hover {\n",
              "      background-color: #434B5C;\n",
              "      box-shadow: 0px 1px 3px 1px rgba(0, 0, 0, 0.15);\n",
              "      filter: drop-shadow(0px 1px 2px rgba(0, 0, 0, 0.3));\n",
              "      fill: #FFFFFF;\n",
              "    }\n",
              "  </style>\n",
              "\n",
              "    <script>\n",
              "      const buttonEl =\n",
              "        document.querySelector('#df-6ecd27cc-5081-4ece-bfd5-f7a748cbcfe1 button.colab-df-convert');\n",
              "      buttonEl.style.display =\n",
              "        google.colab.kernel.accessAllowed ? 'block' : 'none';\n",
              "\n",
              "      async function convertToInteractive(key) {\n",
              "        const element = document.querySelector('#df-6ecd27cc-5081-4ece-bfd5-f7a748cbcfe1');\n",
              "        const dataTable =\n",
              "          await google.colab.kernel.invokeFunction('convertToInteractive',\n",
              "                                                    [key], {});\n",
              "        if (!dataTable) return;\n",
              "\n",
              "        const docLinkHtml = 'Like what you see? Visit the ' +\n",
              "          '<a target=\"_blank\" href=https://colab.research.google.com/notebooks/data_table.ipynb>data table notebook</a>'\n",
              "          + ' to learn more about interactive tables.';\n",
              "        element.innerHTML = '';\n",
              "        dataTable['output_type'] = 'display_data';\n",
              "        await google.colab.output.renderOutput(dataTable, element);\n",
              "        const docLink = document.createElement('div');\n",
              "        docLink.innerHTML = docLinkHtml;\n",
              "        element.appendChild(docLink);\n",
              "      }\n",
              "    </script>\n",
              "  </div>\n",
              "\n",
              "\n",
              "<div id=\"df-58f56e43-a3f3-44a5-b0bc-a1c36efeabab\">\n",
              "  <button class=\"colab-df-quickchart\" onclick=\"quickchart('df-58f56e43-a3f3-44a5-b0bc-a1c36efeabab')\"\n",
              "            title=\"Suggest charts\"\n",
              "            style=\"display:none;\">\n",
              "\n",
              "<svg xmlns=\"http://www.w3.org/2000/svg\" height=\"24px\"viewBox=\"0 0 24 24\"\n",
              "     width=\"24px\">\n",
              "    <g>\n",
              "        <path d=\"M19 3H5c-1.1 0-2 .9-2 2v14c0 1.1.9 2 2 2h14c1.1 0 2-.9 2-2V5c0-1.1-.9-2-2-2zM9 17H7v-7h2v7zm4 0h-2V7h2v10zm4 0h-2v-4h2v4z\"/>\n",
              "    </g>\n",
              "</svg>\n",
              "  </button>\n",
              "\n",
              "<style>\n",
              "  .colab-df-quickchart {\n",
              "      --bg-color: #E8F0FE;\n",
              "      --fill-color: #1967D2;\n",
              "      --hover-bg-color: #E2EBFA;\n",
              "      --hover-fill-color: #174EA6;\n",
              "      --disabled-fill-color: #AAA;\n",
              "      --disabled-bg-color: #DDD;\n",
              "  }\n",
              "\n",
              "  [theme=dark] .colab-df-quickchart {\n",
              "      --bg-color: #3B4455;\n",
              "      --fill-color: #D2E3FC;\n",
              "      --hover-bg-color: #434B5C;\n",
              "      --hover-fill-color: #FFFFFF;\n",
              "      --disabled-bg-color: #3B4455;\n",
              "      --disabled-fill-color: #666;\n",
              "  }\n",
              "\n",
              "  .colab-df-quickchart {\n",
              "    background-color: var(--bg-color);\n",
              "    border: none;\n",
              "    border-radius: 50%;\n",
              "    cursor: pointer;\n",
              "    display: none;\n",
              "    fill: var(--fill-color);\n",
              "    height: 32px;\n",
              "    padding: 0;\n",
              "    width: 32px;\n",
              "  }\n",
              "\n",
              "  .colab-df-quickchart:hover {\n",
              "    background-color: var(--hover-bg-color);\n",
              "    box-shadow: 0 1px 2px rgba(60, 64, 67, 0.3), 0 1px 3px 1px rgba(60, 64, 67, 0.15);\n",
              "    fill: var(--button-hover-fill-color);\n",
              "  }\n",
              "\n",
              "  .colab-df-quickchart-complete:disabled,\n",
              "  .colab-df-quickchart-complete:disabled:hover {\n",
              "    background-color: var(--disabled-bg-color);\n",
              "    fill: var(--disabled-fill-color);\n",
              "    box-shadow: none;\n",
              "  }\n",
              "\n",
              "  .colab-df-spinner {\n",
              "    border: 2px solid var(--fill-color);\n",
              "    border-color: transparent;\n",
              "    border-bottom-color: var(--fill-color);\n",
              "    animation:\n",
              "      spin 1s steps(1) infinite;\n",
              "  }\n",
              "\n",
              "  @keyframes spin {\n",
              "    0% {\n",
              "      border-color: transparent;\n",
              "      border-bottom-color: var(--fill-color);\n",
              "      border-left-color: var(--fill-color);\n",
              "    }\n",
              "    20% {\n",
              "      border-color: transparent;\n",
              "      border-left-color: var(--fill-color);\n",
              "      border-top-color: var(--fill-color);\n",
              "    }\n",
              "    30% {\n",
              "      border-color: transparent;\n",
              "      border-left-color: var(--fill-color);\n",
              "      border-top-color: var(--fill-color);\n",
              "      border-right-color: var(--fill-color);\n",
              "    }\n",
              "    40% {\n",
              "      border-color: transparent;\n",
              "      border-right-color: var(--fill-color);\n",
              "      border-top-color: var(--fill-color);\n",
              "    }\n",
              "    60% {\n",
              "      border-color: transparent;\n",
              "      border-right-color: var(--fill-color);\n",
              "    }\n",
              "    80% {\n",
              "      border-color: transparent;\n",
              "      border-right-color: var(--fill-color);\n",
              "      border-bottom-color: var(--fill-color);\n",
              "    }\n",
              "    90% {\n",
              "      border-color: transparent;\n",
              "      border-bottom-color: var(--fill-color);\n",
              "    }\n",
              "  }\n",
              "</style>\n",
              "\n",
              "  <script>\n",
              "    async function quickchart(key) {\n",
              "      const quickchartButtonEl =\n",
              "        document.querySelector('#' + key + ' button');\n",
              "      quickchartButtonEl.disabled = true;  // To prevent multiple clicks.\n",
              "      quickchartButtonEl.classList.add('colab-df-spinner');\n",
              "      try {\n",
              "        const charts = await google.colab.kernel.invokeFunction(\n",
              "            'suggestCharts', [key], {});\n",
              "      } catch (error) {\n",
              "        console.error('Error during call to suggestCharts:', error);\n",
              "      }\n",
              "      quickchartButtonEl.classList.remove('colab-df-spinner');\n",
              "      quickchartButtonEl.classList.add('colab-df-quickchart-complete');\n",
              "    }\n",
              "    (() => {\n",
              "      let quickchartButtonEl =\n",
              "        document.querySelector('#df-58f56e43-a3f3-44a5-b0bc-a1c36efeabab button');\n",
              "      quickchartButtonEl.style.display =\n",
              "        google.colab.kernel.accessAllowed ? 'block' : 'none';\n",
              "    })();\n",
              "  </script>\n",
              "</div>\n",
              "    </div>\n",
              "  </div>\n"
            ],
            "application/vnd.google.colaboratory.intrinsic+json": {
              "type": "dataframe",
              "summary": "{\n  \"name\": \"calls_dfd[\\\"a2\\\"]\",\n  \"rows\": 5,\n  \"fields\": [\n    {\n      \"column\": \"lead_id\",\n      \"properties\": {\n        \"dtype\": \"string\",\n        \"num_unique_values\": 5,\n        \"samples\": [\n          \"73c015525161\",\n          \"6b6797b56ae7\",\n          \"c718221df1be\"\n        ],\n        \"semantic_type\": \"\",\n        \"description\": \"\"\n      }\n    },\n    {\n      \"column\": \"date_a1\",\n      \"properties\": {\n        \"dtype\": \"date\",\n        \"min\": \"2020-04-03 10:05:49\",\n        \"max\": \"2020-04-03 10:08:05\",\n        \"num_unique_values\": 5,\n        \"samples\": [\n          \"2020-04-03 10:05:50\",\n          \"2020-04-03 10:08:05\",\n          \"2020-04-03 10:06:01\"\n        ],\n        \"semantic_type\": \"\",\n        \"description\": \"\"\n      }\n    },\n    {\n      \"column\": \"weekday_a1\",\n      \"properties\": {\n        \"dtype\": \"category\",\n        \"num_unique_values\": 1,\n        \"samples\": [\n          \"0Monday\"\n        ],\n        \"semantic_type\": \"\",\n        \"description\": \"\"\n      }\n    },\n    {\n      \"column\": \"hour_a1\",\n      \"properties\": {\n        \"dtype\": \"category\",\n        \"num_unique_values\": 1,\n        \"samples\": [\n          \"h10\"\n        ],\n        \"semantic_type\": \"\",\n        \"description\": \"\"\n      }\n    },\n    {\n      \"column\": \"duration_a1\",\n      \"properties\": {\n        \"dtype\": \"number\",\n        \"std\": 0,\n        \"min\": 2,\n        \"max\": 3,\n        \"num_unique_values\": 2,\n        \"samples\": [\n          3\n        ],\n        \"semantic_type\": \"\",\n        \"description\": \"\"\n      }\n    },\n    {\n      \"column\": \"caller_id_a1\",\n      \"properties\": {\n        \"dtype\": \"string\",\n        \"num_unique_values\": 4,\n        \"samples\": [\n          \"159e9c0a04f6\"\n        ],\n        \"semantic_type\": \"\",\n        \"description\": \"\"\n      }\n    },\n    {\n      \"column\": \"lead_answered_a1\",\n      \"properties\": {\n        \"dtype\": \"category\",\n        \"num_unique_values\": 1,\n        \"samples\": [\n          \"no\"\n        ],\n        \"semantic_type\": \"\",\n        \"description\": \"\"\n      }\n    },\n    {\n      \"column\": \"date_a2\",\n      \"properties\": {\n        \"dtype\": \"date\",\n        \"min\": \"2020-04-06 18:28:15\",\n        \"max\": \"2020-04-06 18:28:16\",\n        \"num_unique_values\": 2,\n        \"samples\": [\n          \"2020-04-06 18:28:16\"\n        ],\n        \"semantic_type\": \"\",\n        \"description\": \"\"\n      }\n    },\n    {\n      \"column\": \"weekday_a2\",\n      \"properties\": {\n        \"dtype\": \"category\",\n        \"num_unique_values\": 1,\n        \"samples\": [\n          \"3Thursday\"\n        ],\n        \"semantic_type\": \"\",\n        \"description\": \"\"\n      }\n    },\n    {\n      \"column\": \"hour_a2\",\n      \"properties\": {\n        \"dtype\": \"category\",\n        \"num_unique_values\": 1,\n        \"samples\": [\n          \"h18\"\n        ],\n        \"semantic_type\": \"\",\n        \"description\": \"\"\n      }\n    },\n    {\n      \"column\": \"duration_a2\",\n      \"properties\": {\n        \"dtype\": \"number\",\n        \"std\": 9,\n        \"min\": 2,\n        \"max\": 23,\n        \"num_unique_values\": 3,\n        \"samples\": [\n          2\n        ],\n        \"semantic_type\": \"\",\n        \"description\": \"\"\n      }\n    },\n    {\n      \"column\": \"caller_id_a2\",\n      \"properties\": {\n        \"dtype\": \"string\",\n        \"num_unique_values\": 4,\n        \"samples\": [\n          \"f986b4d3e9dd\"\n        ],\n        \"semantic_type\": \"\",\n        \"description\": \"\"\n      }\n    },\n    {\n      \"column\": \"lead_answered_a2\",\n      \"properties\": {\n        \"dtype\": \"category\",\n        \"num_unique_values\": 2,\n        \"samples\": [\n          \"yes\"\n        ],\n        \"semantic_type\": \"\",\n        \"description\": \"\"\n      }\n    },\n    {\n      \"column\": \"caller_has_changed_a2\",\n      \"properties\": {\n        \"dtype\": \"category\",\n        \"num_unique_values\": 1,\n        \"samples\": [\n          \"yes\"\n        ],\n        \"semantic_type\": \"\",\n        \"description\": \"\"\n      }\n    }\n  ]\n}"
            }
          },
          "metadata": {},
          "execution_count": 5
        }
      ]
    },
    {
      "cell_type": "code",
      "source": [
        "calls_dfd[\"a2\"].describe(include=\"O\")"
      ],
      "metadata": {
        "id": "tf7WNLPU6FOo",
        "colab": {
          "base_uri": "https://localhost:8080/",
          "height": 195
        },
        "outputId": "5726f7ed-302e-489a-e807-34fe28b2e82c"
      },
      "execution_count": null,
      "outputs": [
        {
          "output_type": "execute_result",
          "data": {
            "text/plain": [
              "             lead_id  weekday_a1  hour_a1  caller_id_a1 lead_answered_a1  \\\n",
              "count        2824096     2824096  2824096       2824096          2824096   \n",
              "unique       2761053           5        9           900                1   \n",
              "top     40f09fe86afe  2Wednesday      h11  094fd601829a               no   \n",
              "freq               3      620362   371260         56839          2824096   \n",
              "\n",
              "       weekday_a2  hour_a2  caller_id_a2 lead_answered_a2  \\\n",
              "count     2824096  2824096       2824096          2824096   \n",
              "unique          5        9           987                2   \n",
              "top     3Thursday      h11  094fd601829a               no   \n",
              "freq       711154   387335         56846          2378305   \n",
              "\n",
              "       caller_has_changed_a2  \n",
              "count                2824096  \n",
              "unique                     2  \n",
              "top                      yes  \n",
              "freq                 2750376  "
            ],
            "text/html": [
              "\n",
              "  <div id=\"df-065d4f39-712b-4173-b14d-0ca7a19a2f34\" class=\"colab-df-container\">\n",
              "    <div>\n",
              "<style scoped>\n",
              "    .dataframe tbody tr th:only-of-type {\n",
              "        vertical-align: middle;\n",
              "    }\n",
              "\n",
              "    .dataframe tbody tr th {\n",
              "        vertical-align: top;\n",
              "    }\n",
              "\n",
              "    .dataframe thead th {\n",
              "        text-align: right;\n",
              "    }\n",
              "</style>\n",
              "<table border=\"1\" class=\"dataframe\">\n",
              "  <thead>\n",
              "    <tr style=\"text-align: right;\">\n",
              "      <th></th>\n",
              "      <th>lead_id</th>\n",
              "      <th>weekday_a1</th>\n",
              "      <th>hour_a1</th>\n",
              "      <th>caller_id_a1</th>\n",
              "      <th>lead_answered_a1</th>\n",
              "      <th>weekday_a2</th>\n",
              "      <th>hour_a2</th>\n",
              "      <th>caller_id_a2</th>\n",
              "      <th>lead_answered_a2</th>\n",
              "      <th>caller_has_changed_a2</th>\n",
              "    </tr>\n",
              "  </thead>\n",
              "  <tbody>\n",
              "    <tr>\n",
              "      <th>count</th>\n",
              "      <td>2824096</td>\n",
              "      <td>2824096</td>\n",
              "      <td>2824096</td>\n",
              "      <td>2824096</td>\n",
              "      <td>2824096</td>\n",
              "      <td>2824096</td>\n",
              "      <td>2824096</td>\n",
              "      <td>2824096</td>\n",
              "      <td>2824096</td>\n",
              "      <td>2824096</td>\n",
              "    </tr>\n",
              "    <tr>\n",
              "      <th>unique</th>\n",
              "      <td>2761053</td>\n",
              "      <td>5</td>\n",
              "      <td>9</td>\n",
              "      <td>900</td>\n",
              "      <td>1</td>\n",
              "      <td>5</td>\n",
              "      <td>9</td>\n",
              "      <td>987</td>\n",
              "      <td>2</td>\n",
              "      <td>2</td>\n",
              "    </tr>\n",
              "    <tr>\n",
              "      <th>top</th>\n",
              "      <td>40f09fe86afe</td>\n",
              "      <td>2Wednesday</td>\n",
              "      <td>h11</td>\n",
              "      <td>094fd601829a</td>\n",
              "      <td>no</td>\n",
              "      <td>3Thursday</td>\n",
              "      <td>h11</td>\n",
              "      <td>094fd601829a</td>\n",
              "      <td>no</td>\n",
              "      <td>yes</td>\n",
              "    </tr>\n",
              "    <tr>\n",
              "      <th>freq</th>\n",
              "      <td>3</td>\n",
              "      <td>620362</td>\n",
              "      <td>371260</td>\n",
              "      <td>56839</td>\n",
              "      <td>2824096</td>\n",
              "      <td>711154</td>\n",
              "      <td>387335</td>\n",
              "      <td>56846</td>\n",
              "      <td>2378305</td>\n",
              "      <td>2750376</td>\n",
              "    </tr>\n",
              "  </tbody>\n",
              "</table>\n",
              "</div>\n",
              "    <div class=\"colab-df-buttons\">\n",
              "\n",
              "  <div class=\"colab-df-container\">\n",
              "    <button class=\"colab-df-convert\" onclick=\"convertToInteractive('df-065d4f39-712b-4173-b14d-0ca7a19a2f34')\"\n",
              "            title=\"Convert this dataframe to an interactive table.\"\n",
              "            style=\"display:none;\">\n",
              "\n",
              "  <svg xmlns=\"http://www.w3.org/2000/svg\" height=\"24px\" viewBox=\"0 -960 960 960\">\n",
              "    <path d=\"M120-120v-720h720v720H120Zm60-500h600v-160H180v160Zm220 220h160v-160H400v160Zm0 220h160v-160H400v160ZM180-400h160v-160H180v160Zm440 0h160v-160H620v160ZM180-180h160v-160H180v160Zm440 0h160v-160H620v160Z\"/>\n",
              "  </svg>\n",
              "    </button>\n",
              "\n",
              "  <style>\n",
              "    .colab-df-container {\n",
              "      display:flex;\n",
              "      gap: 12px;\n",
              "    }\n",
              "\n",
              "    .colab-df-convert {\n",
              "      background-color: #E8F0FE;\n",
              "      border: none;\n",
              "      border-radius: 50%;\n",
              "      cursor: pointer;\n",
              "      display: none;\n",
              "      fill: #1967D2;\n",
              "      height: 32px;\n",
              "      padding: 0 0 0 0;\n",
              "      width: 32px;\n",
              "    }\n",
              "\n",
              "    .colab-df-convert:hover {\n",
              "      background-color: #E2EBFA;\n",
              "      box-shadow: 0px 1px 2px rgba(60, 64, 67, 0.3), 0px 1px 3px 1px rgba(60, 64, 67, 0.15);\n",
              "      fill: #174EA6;\n",
              "    }\n",
              "\n",
              "    .colab-df-buttons div {\n",
              "      margin-bottom: 4px;\n",
              "    }\n",
              "\n",
              "    [theme=dark] .colab-df-convert {\n",
              "      background-color: #3B4455;\n",
              "      fill: #D2E3FC;\n",
              "    }\n",
              "\n",
              "    [theme=dark] .colab-df-convert:hover {\n",
              "      background-color: #434B5C;\n",
              "      box-shadow: 0px 1px 3px 1px rgba(0, 0, 0, 0.15);\n",
              "      filter: drop-shadow(0px 1px 2px rgba(0, 0, 0, 0.3));\n",
              "      fill: #FFFFFF;\n",
              "    }\n",
              "  </style>\n",
              "\n",
              "    <script>\n",
              "      const buttonEl =\n",
              "        document.querySelector('#df-065d4f39-712b-4173-b14d-0ca7a19a2f34 button.colab-df-convert');\n",
              "      buttonEl.style.display =\n",
              "        google.colab.kernel.accessAllowed ? 'block' : 'none';\n",
              "\n",
              "      async function convertToInteractive(key) {\n",
              "        const element = document.querySelector('#df-065d4f39-712b-4173-b14d-0ca7a19a2f34');\n",
              "        const dataTable =\n",
              "          await google.colab.kernel.invokeFunction('convertToInteractive',\n",
              "                                                    [key], {});\n",
              "        if (!dataTable) return;\n",
              "\n",
              "        const docLinkHtml = 'Like what you see? Visit the ' +\n",
              "          '<a target=\"_blank\" href=https://colab.research.google.com/notebooks/data_table.ipynb>data table notebook</a>'\n",
              "          + ' to learn more about interactive tables.';\n",
              "        element.innerHTML = '';\n",
              "        dataTable['output_type'] = 'display_data';\n",
              "        await google.colab.output.renderOutput(dataTable, element);\n",
              "        const docLink = document.createElement('div');\n",
              "        docLink.innerHTML = docLinkHtml;\n",
              "        element.appendChild(docLink);\n",
              "      }\n",
              "    </script>\n",
              "  </div>\n",
              "\n",
              "\n",
              "<div id=\"df-77622e47-3b24-4de9-9739-581af65a418a\">\n",
              "  <button class=\"colab-df-quickchart\" onclick=\"quickchart('df-77622e47-3b24-4de9-9739-581af65a418a')\"\n",
              "            title=\"Suggest charts\"\n",
              "            style=\"display:none;\">\n",
              "\n",
              "<svg xmlns=\"http://www.w3.org/2000/svg\" height=\"24px\"viewBox=\"0 0 24 24\"\n",
              "     width=\"24px\">\n",
              "    <g>\n",
              "        <path d=\"M19 3H5c-1.1 0-2 .9-2 2v14c0 1.1.9 2 2 2h14c1.1 0 2-.9 2-2V5c0-1.1-.9-2-2-2zM9 17H7v-7h2v7zm4 0h-2V7h2v10zm4 0h-2v-4h2v4z\"/>\n",
              "    </g>\n",
              "</svg>\n",
              "  </button>\n",
              "\n",
              "<style>\n",
              "  .colab-df-quickchart {\n",
              "      --bg-color: #E8F0FE;\n",
              "      --fill-color: #1967D2;\n",
              "      --hover-bg-color: #E2EBFA;\n",
              "      --hover-fill-color: #174EA6;\n",
              "      --disabled-fill-color: #AAA;\n",
              "      --disabled-bg-color: #DDD;\n",
              "  }\n",
              "\n",
              "  [theme=dark] .colab-df-quickchart {\n",
              "      --bg-color: #3B4455;\n",
              "      --fill-color: #D2E3FC;\n",
              "      --hover-bg-color: #434B5C;\n",
              "      --hover-fill-color: #FFFFFF;\n",
              "      --disabled-bg-color: #3B4455;\n",
              "      --disabled-fill-color: #666;\n",
              "  }\n",
              "\n",
              "  .colab-df-quickchart {\n",
              "    background-color: var(--bg-color);\n",
              "    border: none;\n",
              "    border-radius: 50%;\n",
              "    cursor: pointer;\n",
              "    display: none;\n",
              "    fill: var(--fill-color);\n",
              "    height: 32px;\n",
              "    padding: 0;\n",
              "    width: 32px;\n",
              "  }\n",
              "\n",
              "  .colab-df-quickchart:hover {\n",
              "    background-color: var(--hover-bg-color);\n",
              "    box-shadow: 0 1px 2px rgba(60, 64, 67, 0.3), 0 1px 3px 1px rgba(60, 64, 67, 0.15);\n",
              "    fill: var(--button-hover-fill-color);\n",
              "  }\n",
              "\n",
              "  .colab-df-quickchart-complete:disabled,\n",
              "  .colab-df-quickchart-complete:disabled:hover {\n",
              "    background-color: var(--disabled-bg-color);\n",
              "    fill: var(--disabled-fill-color);\n",
              "    box-shadow: none;\n",
              "  }\n",
              "\n",
              "  .colab-df-spinner {\n",
              "    border: 2px solid var(--fill-color);\n",
              "    border-color: transparent;\n",
              "    border-bottom-color: var(--fill-color);\n",
              "    animation:\n",
              "      spin 1s steps(1) infinite;\n",
              "  }\n",
              "\n",
              "  @keyframes spin {\n",
              "    0% {\n",
              "      border-color: transparent;\n",
              "      border-bottom-color: var(--fill-color);\n",
              "      border-left-color: var(--fill-color);\n",
              "    }\n",
              "    20% {\n",
              "      border-color: transparent;\n",
              "      border-left-color: var(--fill-color);\n",
              "      border-top-color: var(--fill-color);\n",
              "    }\n",
              "    30% {\n",
              "      border-color: transparent;\n",
              "      border-left-color: var(--fill-color);\n",
              "      border-top-color: var(--fill-color);\n",
              "      border-right-color: var(--fill-color);\n",
              "    }\n",
              "    40% {\n",
              "      border-color: transparent;\n",
              "      border-right-color: var(--fill-color);\n",
              "      border-top-color: var(--fill-color);\n",
              "    }\n",
              "    60% {\n",
              "      border-color: transparent;\n",
              "      border-right-color: var(--fill-color);\n",
              "    }\n",
              "    80% {\n",
              "      border-color: transparent;\n",
              "      border-right-color: var(--fill-color);\n",
              "      border-bottom-color: var(--fill-color);\n",
              "    }\n",
              "    90% {\n",
              "      border-color: transparent;\n",
              "      border-bottom-color: var(--fill-color);\n",
              "    }\n",
              "  }\n",
              "</style>\n",
              "\n",
              "  <script>\n",
              "    async function quickchart(key) {\n",
              "      const quickchartButtonEl =\n",
              "        document.querySelector('#' + key + ' button');\n",
              "      quickchartButtonEl.disabled = true;  // To prevent multiple clicks.\n",
              "      quickchartButtonEl.classList.add('colab-df-spinner');\n",
              "      try {\n",
              "        const charts = await google.colab.kernel.invokeFunction(\n",
              "            'suggestCharts', [key], {});\n",
              "      } catch (error) {\n",
              "        console.error('Error during call to suggestCharts:', error);\n",
              "      }\n",
              "      quickchartButtonEl.classList.remove('colab-df-spinner');\n",
              "      quickchartButtonEl.classList.add('colab-df-quickchart-complete');\n",
              "    }\n",
              "    (() => {\n",
              "      let quickchartButtonEl =\n",
              "        document.querySelector('#df-77622e47-3b24-4de9-9739-581af65a418a button');\n",
              "      quickchartButtonEl.style.display =\n",
              "        google.colab.kernel.accessAllowed ? 'block' : 'none';\n",
              "    })();\n",
              "  </script>\n",
              "</div>\n",
              "    </div>\n",
              "  </div>\n"
            ],
            "application/vnd.google.colaboratory.intrinsic+json": {
              "type": "dataframe",
              "summary": "{\n  \"name\": \"calls_dfd[\\\"a2\\\"]\",\n  \"rows\": 4,\n  \"fields\": [\n    {\n      \"column\": \"lead_id\",\n      \"properties\": {\n        \"dtype\": \"string\",\n        \"num_unique_values\": 4,\n        \"samples\": [\n          2761053,\n          \"3\",\n          \"2824096\"\n        ],\n        \"semantic_type\": \"\",\n        \"description\": \"\"\n      }\n    },\n    {\n      \"column\": \"weekday_a1\",\n      \"properties\": {\n        \"dtype\": \"string\",\n        \"num_unique_values\": 4,\n        \"samples\": [\n          5,\n          \"620362\",\n          \"2824096\"\n        ],\n        \"semantic_type\": \"\",\n        \"description\": \"\"\n      }\n    },\n    {\n      \"column\": \"hour_a1\",\n      \"properties\": {\n        \"dtype\": \"string\",\n        \"num_unique_values\": 4,\n        \"samples\": [\n          9,\n          \"371260\",\n          \"2824096\"\n        ],\n        \"semantic_type\": \"\",\n        \"description\": \"\"\n      }\n    },\n    {\n      \"column\": \"caller_id_a1\",\n      \"properties\": {\n        \"dtype\": \"string\",\n        \"num_unique_values\": 4,\n        \"samples\": [\n          900,\n          \"56839\",\n          \"2824096\"\n        ],\n        \"semantic_type\": \"\",\n        \"description\": \"\"\n      }\n    },\n    {\n      \"column\": \"lead_answered_a1\",\n      \"properties\": {\n        \"dtype\": \"string\",\n        \"num_unique_values\": 3,\n        \"samples\": [\n          \"2824096\",\n          1,\n          \"no\"\n        ],\n        \"semantic_type\": \"\",\n        \"description\": \"\"\n      }\n    },\n    {\n      \"column\": \"weekday_a2\",\n      \"properties\": {\n        \"dtype\": \"string\",\n        \"num_unique_values\": 4,\n        \"samples\": [\n          5,\n          \"711154\",\n          \"2824096\"\n        ],\n        \"semantic_type\": \"\",\n        \"description\": \"\"\n      }\n    },\n    {\n      \"column\": \"hour_a2\",\n      \"properties\": {\n        \"dtype\": \"string\",\n        \"num_unique_values\": 4,\n        \"samples\": [\n          9,\n          \"387335\",\n          \"2824096\"\n        ],\n        \"semantic_type\": \"\",\n        \"description\": \"\"\n      }\n    },\n    {\n      \"column\": \"caller_id_a2\",\n      \"properties\": {\n        \"dtype\": \"string\",\n        \"num_unique_values\": 4,\n        \"samples\": [\n          987,\n          \"56846\",\n          \"2824096\"\n        ],\n        \"semantic_type\": \"\",\n        \"description\": \"\"\n      }\n    },\n    {\n      \"column\": \"lead_answered_a2\",\n      \"properties\": {\n        \"dtype\": \"string\",\n        \"num_unique_values\": 4,\n        \"samples\": [\n          2,\n          \"2378305\",\n          \"2824096\"\n        ],\n        \"semantic_type\": \"\",\n        \"description\": \"\"\n      }\n    },\n    {\n      \"column\": \"caller_has_changed_a2\",\n      \"properties\": {\n        \"dtype\": \"string\",\n        \"num_unique_values\": 4,\n        \"samples\": [\n          2,\n          \"2750376\",\n          \"2824096\"\n        ],\n        \"semantic_type\": \"\",\n        \"description\": \"\"\n      }\n    }\n  ]\n}"
            }
          },
          "metadata": {},
          "execution_count": 6
        }
      ]
    },
    {
      "cell_type": "code",
      "source": [
        "calls_dfd[\"a2\"][\"lead_answered_a2\"].value_counts()"
      ],
      "metadata": {
        "id": "eVeyOt5t6I8P",
        "colab": {
          "base_uri": "https://localhost:8080/"
        },
        "outputId": "2b15b9ed-76a9-400d-8134-41d96b06447d"
      },
      "execution_count": null,
      "outputs": [
        {
          "output_type": "execute_result",
          "data": {
            "text/plain": [
              "lead_answered_a2\n",
              "no     2378305\n",
              "yes     445791\n",
              "Name: count, dtype: int64"
            ]
          },
          "metadata": {},
          "execution_count": 7
        }
      ]
    },
    {
      "cell_type": "code",
      "source": [
        "len(calls_dfd[\"a2\"])"
      ],
      "metadata": {
        "id": "2fNVGIYp8Na4",
        "colab": {
          "base_uri": "https://localhost:8080/"
        },
        "outputId": "82b1c56f-df7b-4ef4-a13b-6beaadf6d50d"
      },
      "execution_count": null,
      "outputs": [
        {
          "output_type": "execute_result",
          "data": {
            "text/plain": [
              "2824096"
            ]
          },
          "metadata": {},
          "execution_count": 8
        }
      ]
    },
    {
      "cell_type": "markdown",
      "source": [
        "# Préparation des données"
      ],
      "metadata": {
        "id": "BIOUnquB8WW8"
      }
    },
    {
      "cell_type": "code",
      "source": [
        "var_cat = [\"weekday_a1\", \"hour_a1\", \"weekday_a2\", \"hour_a2\", \"caller_has_changed_a2\", \"lead_answered_a2\"]\n",
        "for var in var_cat:\n",
        "    calls_dfd[\"a2\"][var] = calls_dfd[\"a2\"][var].astype('category')\n",
        "\n",
        "calls_dfd[\"a2\"].info()"
      ],
      "metadata": {
        "id": "gjE0KHDG8Sjf",
        "colab": {
          "base_uri": "https://localhost:8080/"
        },
        "outputId": "1d9c1d3b-b562-4630-c5b0-ec5f8ac3cf62"
      },
      "execution_count": null,
      "outputs": [
        {
          "output_type": "stream",
          "name": "stdout",
          "text": [
            "<class 'pandas.core.frame.DataFrame'>\n",
            "RangeIndex: 2824096 entries, 0 to 2824095\n",
            "Data columns (total 14 columns):\n",
            " #   Column                 Dtype         \n",
            "---  ------                 -----         \n",
            " 0   lead_id                object        \n",
            " 1   date_a1                datetime64[ns]\n",
            " 2   weekday_a1             category      \n",
            " 3   hour_a1                category      \n",
            " 4   duration_a1            int64         \n",
            " 5   caller_id_a1           object        \n",
            " 6   lead_answered_a1       object        \n",
            " 7   date_a2                datetime64[ns]\n",
            " 8   weekday_a2             category      \n",
            " 9   hour_a2                category      \n",
            " 10  duration_a2            int64         \n",
            " 11  caller_id_a2           object        \n",
            " 12  lead_answered_a2       category      \n",
            " 13  caller_has_changed_a2  category      \n",
            "dtypes: category(6), datetime64[ns](2), int64(2), object(4)\n",
            "memory usage: 188.5+ MB\n"
          ]
        }
      ]
    },
    {
      "cell_type": "code",
      "source": [
        "var_to_model = [\"weekday_a1\", \"hour_a1\", \"weekday_a2\", \"hour_a2\", \"caller_has_changed_a2\", \"lead_answered_a2\"]\n",
        "\n",
        "X = calls_dfd[\"a2\"][var_to_model]\n",
        "y = calls_dfd[\"a2\"][\"lead_answered_a2\"]\n",
        "\n",
        "X_train, X_test, y_train, y_test = train_test_split(X, y, test_size=0.2, random_state=42)"
      ],
      "metadata": {
        "id": "bBd7dxNbIMGa"
      },
      "execution_count": null,
      "outputs": []
    },
    {
      "cell_type": "code",
      "source": [
        "X_test = X_test.drop(columns=['lead_answered_a2'])\n",
        "X_test"
      ],
      "metadata": {
        "id": "PZbgorf5CA6O",
        "colab": {
          "base_uri": "https://localhost:8080/",
          "height": 424
        },
        "outputId": "6e9af219-29bc-49c0-8034-87d0fa78a647"
      },
      "execution_count": null,
      "outputs": [
        {
          "output_type": "execute_result",
          "data": {
            "text/plain": [
              "         weekday_a1 hour_a1  weekday_a2 hour_a2 caller_has_changed_a2\n",
              "2802135     4Friday     h12     4Friday     h16                   yes\n",
              "1422470     0Monday     h12     0Monday     h16                   yes\n",
              "1899589     0Monday     h10    1Tuesday     h16                   yes\n",
              "2014809  2Wednesday     h12     0Monday     h11                   yes\n",
              "24274       0Monday     h14     4Friday     h10                   yes\n",
              "...             ...     ...         ...     ...                   ...\n",
              "185564   2Wednesday     h15   3Thursday     h10                   yes\n",
              "1381535     4Friday     h16  2Wednesday     h12                   yes\n",
              "137709     1Tuesday     h15  2Wednesday     h18                   yes\n",
              "1073928    1Tuesday     h17  2Wednesday     h18                   yes\n",
              "894420     1Tuesday     h14    1Tuesday     h11                   yes\n",
              "\n",
              "[564820 rows x 5 columns]"
            ],
            "text/html": [
              "\n",
              "  <div id=\"df-3755fac7-a224-4078-8c72-ea612959056c\" class=\"colab-df-container\">\n",
              "    <div>\n",
              "<style scoped>\n",
              "    .dataframe tbody tr th:only-of-type {\n",
              "        vertical-align: middle;\n",
              "    }\n",
              "\n",
              "    .dataframe tbody tr th {\n",
              "        vertical-align: top;\n",
              "    }\n",
              "\n",
              "    .dataframe thead th {\n",
              "        text-align: right;\n",
              "    }\n",
              "</style>\n",
              "<table border=\"1\" class=\"dataframe\">\n",
              "  <thead>\n",
              "    <tr style=\"text-align: right;\">\n",
              "      <th></th>\n",
              "      <th>weekday_a1</th>\n",
              "      <th>hour_a1</th>\n",
              "      <th>weekday_a2</th>\n",
              "      <th>hour_a2</th>\n",
              "      <th>caller_has_changed_a2</th>\n",
              "    </tr>\n",
              "  </thead>\n",
              "  <tbody>\n",
              "    <tr>\n",
              "      <th>2802135</th>\n",
              "      <td>4Friday</td>\n",
              "      <td>h12</td>\n",
              "      <td>4Friday</td>\n",
              "      <td>h16</td>\n",
              "      <td>yes</td>\n",
              "    </tr>\n",
              "    <tr>\n",
              "      <th>1422470</th>\n",
              "      <td>0Monday</td>\n",
              "      <td>h12</td>\n",
              "      <td>0Monday</td>\n",
              "      <td>h16</td>\n",
              "      <td>yes</td>\n",
              "    </tr>\n",
              "    <tr>\n",
              "      <th>1899589</th>\n",
              "      <td>0Monday</td>\n",
              "      <td>h10</td>\n",
              "      <td>1Tuesday</td>\n",
              "      <td>h16</td>\n",
              "      <td>yes</td>\n",
              "    </tr>\n",
              "    <tr>\n",
              "      <th>2014809</th>\n",
              "      <td>2Wednesday</td>\n",
              "      <td>h12</td>\n",
              "      <td>0Monday</td>\n",
              "      <td>h11</td>\n",
              "      <td>yes</td>\n",
              "    </tr>\n",
              "    <tr>\n",
              "      <th>24274</th>\n",
              "      <td>0Monday</td>\n",
              "      <td>h14</td>\n",
              "      <td>4Friday</td>\n",
              "      <td>h10</td>\n",
              "      <td>yes</td>\n",
              "    </tr>\n",
              "    <tr>\n",
              "      <th>...</th>\n",
              "      <td>...</td>\n",
              "      <td>...</td>\n",
              "      <td>...</td>\n",
              "      <td>...</td>\n",
              "      <td>...</td>\n",
              "    </tr>\n",
              "    <tr>\n",
              "      <th>185564</th>\n",
              "      <td>2Wednesday</td>\n",
              "      <td>h15</td>\n",
              "      <td>3Thursday</td>\n",
              "      <td>h10</td>\n",
              "      <td>yes</td>\n",
              "    </tr>\n",
              "    <tr>\n",
              "      <th>1381535</th>\n",
              "      <td>4Friday</td>\n",
              "      <td>h16</td>\n",
              "      <td>2Wednesday</td>\n",
              "      <td>h12</td>\n",
              "      <td>yes</td>\n",
              "    </tr>\n",
              "    <tr>\n",
              "      <th>137709</th>\n",
              "      <td>1Tuesday</td>\n",
              "      <td>h15</td>\n",
              "      <td>2Wednesday</td>\n",
              "      <td>h18</td>\n",
              "      <td>yes</td>\n",
              "    </tr>\n",
              "    <tr>\n",
              "      <th>1073928</th>\n",
              "      <td>1Tuesday</td>\n",
              "      <td>h17</td>\n",
              "      <td>2Wednesday</td>\n",
              "      <td>h18</td>\n",
              "      <td>yes</td>\n",
              "    </tr>\n",
              "    <tr>\n",
              "      <th>894420</th>\n",
              "      <td>1Tuesday</td>\n",
              "      <td>h14</td>\n",
              "      <td>1Tuesday</td>\n",
              "      <td>h11</td>\n",
              "      <td>yes</td>\n",
              "    </tr>\n",
              "  </tbody>\n",
              "</table>\n",
              "<p>564820 rows × 5 columns</p>\n",
              "</div>\n",
              "    <div class=\"colab-df-buttons\">\n",
              "\n",
              "  <div class=\"colab-df-container\">\n",
              "    <button class=\"colab-df-convert\" onclick=\"convertToInteractive('df-3755fac7-a224-4078-8c72-ea612959056c')\"\n",
              "            title=\"Convert this dataframe to an interactive table.\"\n",
              "            style=\"display:none;\">\n",
              "\n",
              "  <svg xmlns=\"http://www.w3.org/2000/svg\" height=\"24px\" viewBox=\"0 -960 960 960\">\n",
              "    <path d=\"M120-120v-720h720v720H120Zm60-500h600v-160H180v160Zm220 220h160v-160H400v160Zm0 220h160v-160H400v160ZM180-400h160v-160H180v160Zm440 0h160v-160H620v160ZM180-180h160v-160H180v160Zm440 0h160v-160H620v160Z\"/>\n",
              "  </svg>\n",
              "    </button>\n",
              "\n",
              "  <style>\n",
              "    .colab-df-container {\n",
              "      display:flex;\n",
              "      gap: 12px;\n",
              "    }\n",
              "\n",
              "    .colab-df-convert {\n",
              "      background-color: #E8F0FE;\n",
              "      border: none;\n",
              "      border-radius: 50%;\n",
              "      cursor: pointer;\n",
              "      display: none;\n",
              "      fill: #1967D2;\n",
              "      height: 32px;\n",
              "      padding: 0 0 0 0;\n",
              "      width: 32px;\n",
              "    }\n",
              "\n",
              "    .colab-df-convert:hover {\n",
              "      background-color: #E2EBFA;\n",
              "      box-shadow: 0px 1px 2px rgba(60, 64, 67, 0.3), 0px 1px 3px 1px rgba(60, 64, 67, 0.15);\n",
              "      fill: #174EA6;\n",
              "    }\n",
              "\n",
              "    .colab-df-buttons div {\n",
              "      margin-bottom: 4px;\n",
              "    }\n",
              "\n",
              "    [theme=dark] .colab-df-convert {\n",
              "      background-color: #3B4455;\n",
              "      fill: #D2E3FC;\n",
              "    }\n",
              "\n",
              "    [theme=dark] .colab-df-convert:hover {\n",
              "      background-color: #434B5C;\n",
              "      box-shadow: 0px 1px 3px 1px rgba(0, 0, 0, 0.15);\n",
              "      filter: drop-shadow(0px 1px 2px rgba(0, 0, 0, 0.3));\n",
              "      fill: #FFFFFF;\n",
              "    }\n",
              "  </style>\n",
              "\n",
              "    <script>\n",
              "      const buttonEl =\n",
              "        document.querySelector('#df-3755fac7-a224-4078-8c72-ea612959056c button.colab-df-convert');\n",
              "      buttonEl.style.display =\n",
              "        google.colab.kernel.accessAllowed ? 'block' : 'none';\n",
              "\n",
              "      async function convertToInteractive(key) {\n",
              "        const element = document.querySelector('#df-3755fac7-a224-4078-8c72-ea612959056c');\n",
              "        const dataTable =\n",
              "          await google.colab.kernel.invokeFunction('convertToInteractive',\n",
              "                                                    [key], {});\n",
              "        if (!dataTable) return;\n",
              "\n",
              "        const docLinkHtml = 'Like what you see? Visit the ' +\n",
              "          '<a target=\"_blank\" href=https://colab.research.google.com/notebooks/data_table.ipynb>data table notebook</a>'\n",
              "          + ' to learn more about interactive tables.';\n",
              "        element.innerHTML = '';\n",
              "        dataTable['output_type'] = 'display_data';\n",
              "        await google.colab.output.renderOutput(dataTable, element);\n",
              "        const docLink = document.createElement('div');\n",
              "        docLink.innerHTML = docLinkHtml;\n",
              "        element.appendChild(docLink);\n",
              "      }\n",
              "    </script>\n",
              "  </div>\n",
              "\n",
              "\n",
              "<div id=\"df-21ae4cd5-5369-4f07-9ded-6b80d8c04ed5\">\n",
              "  <button class=\"colab-df-quickchart\" onclick=\"quickchart('df-21ae4cd5-5369-4f07-9ded-6b80d8c04ed5')\"\n",
              "            title=\"Suggest charts\"\n",
              "            style=\"display:none;\">\n",
              "\n",
              "<svg xmlns=\"http://www.w3.org/2000/svg\" height=\"24px\"viewBox=\"0 0 24 24\"\n",
              "     width=\"24px\">\n",
              "    <g>\n",
              "        <path d=\"M19 3H5c-1.1 0-2 .9-2 2v14c0 1.1.9 2 2 2h14c1.1 0 2-.9 2-2V5c0-1.1-.9-2-2-2zM9 17H7v-7h2v7zm4 0h-2V7h2v10zm4 0h-2v-4h2v4z\"/>\n",
              "    </g>\n",
              "</svg>\n",
              "  </button>\n",
              "\n",
              "<style>\n",
              "  .colab-df-quickchart {\n",
              "      --bg-color: #E8F0FE;\n",
              "      --fill-color: #1967D2;\n",
              "      --hover-bg-color: #E2EBFA;\n",
              "      --hover-fill-color: #174EA6;\n",
              "      --disabled-fill-color: #AAA;\n",
              "      --disabled-bg-color: #DDD;\n",
              "  }\n",
              "\n",
              "  [theme=dark] .colab-df-quickchart {\n",
              "      --bg-color: #3B4455;\n",
              "      --fill-color: #D2E3FC;\n",
              "      --hover-bg-color: #434B5C;\n",
              "      --hover-fill-color: #FFFFFF;\n",
              "      --disabled-bg-color: #3B4455;\n",
              "      --disabled-fill-color: #666;\n",
              "  }\n",
              "\n",
              "  .colab-df-quickchart {\n",
              "    background-color: var(--bg-color);\n",
              "    border: none;\n",
              "    border-radius: 50%;\n",
              "    cursor: pointer;\n",
              "    display: none;\n",
              "    fill: var(--fill-color);\n",
              "    height: 32px;\n",
              "    padding: 0;\n",
              "    width: 32px;\n",
              "  }\n",
              "\n",
              "  .colab-df-quickchart:hover {\n",
              "    background-color: var(--hover-bg-color);\n",
              "    box-shadow: 0 1px 2px rgba(60, 64, 67, 0.3), 0 1px 3px 1px rgba(60, 64, 67, 0.15);\n",
              "    fill: var(--button-hover-fill-color);\n",
              "  }\n",
              "\n",
              "  .colab-df-quickchart-complete:disabled,\n",
              "  .colab-df-quickchart-complete:disabled:hover {\n",
              "    background-color: var(--disabled-bg-color);\n",
              "    fill: var(--disabled-fill-color);\n",
              "    box-shadow: none;\n",
              "  }\n",
              "\n",
              "  .colab-df-spinner {\n",
              "    border: 2px solid var(--fill-color);\n",
              "    border-color: transparent;\n",
              "    border-bottom-color: var(--fill-color);\n",
              "    animation:\n",
              "      spin 1s steps(1) infinite;\n",
              "  }\n",
              "\n",
              "  @keyframes spin {\n",
              "    0% {\n",
              "      border-color: transparent;\n",
              "      border-bottom-color: var(--fill-color);\n",
              "      border-left-color: var(--fill-color);\n",
              "    }\n",
              "    20% {\n",
              "      border-color: transparent;\n",
              "      border-left-color: var(--fill-color);\n",
              "      border-top-color: var(--fill-color);\n",
              "    }\n",
              "    30% {\n",
              "      border-color: transparent;\n",
              "      border-left-color: var(--fill-color);\n",
              "      border-top-color: var(--fill-color);\n",
              "      border-right-color: var(--fill-color);\n",
              "    }\n",
              "    40% {\n",
              "      border-color: transparent;\n",
              "      border-right-color: var(--fill-color);\n",
              "      border-top-color: var(--fill-color);\n",
              "    }\n",
              "    60% {\n",
              "      border-color: transparent;\n",
              "      border-right-color: var(--fill-color);\n",
              "    }\n",
              "    80% {\n",
              "      border-color: transparent;\n",
              "      border-right-color: var(--fill-color);\n",
              "      border-bottom-color: var(--fill-color);\n",
              "    }\n",
              "    90% {\n",
              "      border-color: transparent;\n",
              "      border-bottom-color: var(--fill-color);\n",
              "    }\n",
              "  }\n",
              "</style>\n",
              "\n",
              "  <script>\n",
              "    async function quickchart(key) {\n",
              "      const quickchartButtonEl =\n",
              "        document.querySelector('#' + key + ' button');\n",
              "      quickchartButtonEl.disabled = true;  // To prevent multiple clicks.\n",
              "      quickchartButtonEl.classList.add('colab-df-spinner');\n",
              "      try {\n",
              "        const charts = await google.colab.kernel.invokeFunction(\n",
              "            'suggestCharts', [key], {});\n",
              "      } catch (error) {\n",
              "        console.error('Error during call to suggestCharts:', error);\n",
              "      }\n",
              "      quickchartButtonEl.classList.remove('colab-df-spinner');\n",
              "      quickchartButtonEl.classList.add('colab-df-quickchart-complete');\n",
              "    }\n",
              "    (() => {\n",
              "      let quickchartButtonEl =\n",
              "        document.querySelector('#df-21ae4cd5-5369-4f07-9ded-6b80d8c04ed5 button');\n",
              "      quickchartButtonEl.style.display =\n",
              "        google.colab.kernel.accessAllowed ? 'block' : 'none';\n",
              "    })();\n",
              "  </script>\n",
              "</div>\n",
              "    </div>\n",
              "  </div>\n"
            ],
            "application/vnd.google.colaboratory.intrinsic+json": {
              "type": "dataframe",
              "variable_name": "X_test"
            }
          },
          "metadata": {},
          "execution_count": 11
        }
      ]
    },
    {
      "cell_type": "code",
      "source": [
        "X_test.value_counts()"
      ],
      "metadata": {
        "id": "CEzEUXzvGnNZ",
        "colab": {
          "base_uri": "https://localhost:8080/"
        },
        "outputId": "00dbef64-09be-4fcf-d91a-a046b2f0d41a"
      },
      "execution_count": null,
      "outputs": [
        {
          "output_type": "execute_result",
          "data": {
            "text/plain": [
              "weekday_a1  hour_a1  weekday_a2  hour_a2  caller_has_changed_a2\n",
              "2Wednesday  h12      3Thursday   h15      yes                      4017\n",
              "1Tuesday    h19      2Wednesday  h10      yes                      3740\n",
              "            h11      2Wednesday  h12      yes                      3628\n",
              "            h10      2Wednesday  h11      yes                      3251\n",
              "4Friday     h18      4Friday     h18      yes                      2785\n",
              "                                                                   ... \n",
              "            h11      4Friday     h15      no                          1\n",
              "2Wednesday  h12      2Wednesday  h16      no                          1\n",
              "                                 h12      no                          1\n",
              "                     1Tuesday    h18      no                          1\n",
              "4Friday     h11      2Wednesday  h10      no                          1\n",
              "Name: count, Length: 1962, dtype: int64"
            ]
          },
          "metadata": {},
          "execution_count": 12
        }
      ]
    },
    {
      "cell_type": "markdown",
      "source": [
        "# Préparation du modèle"
      ],
      "metadata": {
        "id": "WZKwmYs3-Cpn"
      }
    },
    {
      "cell_type": "code",
      "source": [
        "var_bn = {}\n",
        "for var in var_to_model:\n",
        "    nb_values = len(calls_dfd[\"a2\"][var].cat.categories)\n",
        "    var_bn[var] = gum.LabelizedVariable(var, var, nb_values)"
      ],
      "metadata": {
        "id": "KMqKU9fO-EJq"
      },
      "execution_count": null,
      "outputs": []
    },
    {
      "cell_type": "code",
      "source": [
        "for var in var_bn:\n",
        "    for i, modalite in enumerate(calls_dfd[\"a2\"][var].cat.categories):\n",
        "        var_bn[var].changeLabel(i, modalite)"
      ],
      "metadata": {
        "id": "xtG8UPPU-Y5I"
      },
      "execution_count": null,
      "outputs": []
    },
    {
      "cell_type": "code",
      "source": [
        "var_bn"
      ],
      "metadata": {
        "id": "vuCi3yJL-bXE",
        "colab": {
          "base_uri": "https://localhost:8080/"
        },
        "outputId": "1f9d07bf-9da5-4d23-febf-f509dedc9eb1"
      },
      "execution_count": null,
      "outputs": [
        {
          "output_type": "execute_result",
          "data": {
            "text/plain": [
              "{'weekday_a1': (pyAgrum.LabelizedVariable@0x5c20656830f0) weekday_a1:Labelized({0Monday|1Tuesday|2Wednesday|3Thursday|4Friday}),\n",
              " 'hour_a1': (pyAgrum.LabelizedVariable@0x5c20663939b0) hour_a1:Labelized({h10|h11|h12|h14|h15|h16|h17|h18|h19}),\n",
              " 'weekday_a2': (pyAgrum.LabelizedVariable@0x5c20674e0aa0) weekday_a2:Labelized({0Monday|1Tuesday|2Wednesday|3Thursday|4Friday}),\n",
              " 'hour_a2': (pyAgrum.LabelizedVariable@0x5c2066bd9f00) hour_a2:Labelized({h10|h11|h12|h14|h15|h16|h17|h18|h19}),\n",
              " 'caller_has_changed_a2': (pyAgrum.LabelizedVariable@0x5c2066836980) caller_has_changed_a2:Labelized({no|yes}),\n",
              " 'lead_answered_a2': (pyAgrum.LabelizedVariable@0x5c2065e09290) lead_answered_a2:Labelized({no|yes})}"
            ]
          },
          "metadata": {},
          "execution_count": 15
        }
      ]
    },
    {
      "cell_type": "markdown",
      "source": [
        "# Modèle naïf"
      ],
      "metadata": {
        "id": "E5tHHGq1_5be"
      }
    },
    {
      "cell_type": "code",
      "source": [
        "# Entrainement\n",
        "bn_naif = gum.BayesNet(\"modele naif\")\n",
        "\n",
        "for var in var_bn.values():\n",
        "    bn_naif.add(var)\n",
        "\n",
        "bn_naif.addArc(\"lead_answered_a2\", \"weekday_a1\")\n",
        "bn_naif.addArc(\"lead_answered_a2\", \"weekday_a2\")\n",
        "bn_naif.addArc(\"lead_answered_a2\", \"hour_a1\")\n",
        "bn_naif.addArc(\"lead_answered_a2\", \"hour_a2\")\n",
        "bn_naif.addArc(\"lead_answered_a2\", \"caller_has_changed_a2\")\n",
        "\n",
        "learner = gum.BNLearner(X_train)\n",
        "\n",
        "learner.fitParameters(bn_naif)"
      ],
      "metadata": {
        "id": "-modCdEN-e96",
        "colab": {
          "base_uri": "https://localhost:8080/"
        },
        "outputId": "40af1ae4-1359-4b67-fe91-0e422140db5d"
      },
      "execution_count": null,
      "outputs": [
        {
          "output_type": "execute_result",
          "data": {
            "text/plain": [
              "(pyAgrum.BNLearner<double>@0x58382273a6c0) Filename       : /tmp/tmpxnxhf9za.csv\n",
              "Size           : (2259276,6)\n",
              "Variables      : weekday_a1[5], hour_a1[9], weekday_a2[5], hour_a2[9], caller_has_changed_a2[2], lead_answered_a2[2]\n",
              "Induced types  : True\n",
              "Missing values : False\n",
              "Algorithm      : MIIC\n",
              "Score          : BDeu  (Not used for constraint-based algorithms)\n",
              "Correction     : MDL  (Not used for score-based algorithms)\n",
              "Prior          : -"
            ]
          },
          "metadata": {},
          "execution_count": 15
        }
      ]
    },
    {
      "cell_type": "code",
      "source": [
        "gnb.showBN(bn_naif, size=10)"
      ],
      "metadata": {
        "id": "tFYctekOGPQ1",
        "colab": {
          "base_uri": "https://localhost:8080/",
          "height": 176
        },
        "outputId": "4166082f-dfe4-4a03-be32-ea0c0afd3986"
      },
      "execution_count": null,
      "outputs": [
        {
          "output_type": "display_data",
          "data": {
            "text/plain": [
              "<IPython.core.display.SVG object>"
            ],
            "image/svg+xml": "<svg xmlns=\"http://www.w3.org/2000/svg\" xmlns:xlink=\"http://www.w3.org/1999/xlink\" width=\"643pt\" height=\"116pt\" viewBox=\"0.00 0.00 642.54 116.00\">\n<g id=\"graph0\" class=\"graph\" transform=\"scale(1 1) rotate(0) translate(4 112)\">\n<title>G</title>\n<!-- caller_has_changed_a2 -->\n<g id=\"node1\" class=\"node\">\n<title>caller_has_changed_a2</title>\n<g id=\"a_node1\"><a xlink:title=\"(4) caller_has_changed_a2\">\n<ellipse fill=\"#404040\" stroke=\"#4a4a4a\" cx=\"92.94\" cy=\"-18\" rx=\"92.88\" ry=\"18\"/>\n<text text-anchor=\"middle\" x=\"92.94\" y=\"-14.3\" font-family=\"Times,serif\" font-size=\"14.00\" fill=\"white\">caller_has_changed_a2</text>\n</a>\n</g>\n</g>\n<!-- weekday_a1 -->\n<g id=\"node2\" class=\"node\">\n<title>weekday_a1</title>\n<g id=\"a_node2\"><a xlink:title=\"(0) weekday_a1\">\n<ellipse fill=\"#404040\" stroke=\"#4a4a4a\" cx=\"258.94\" cy=\"-18\" rx=\"54.69\" ry=\"18\"/>\n<text text-anchor=\"middle\" x=\"258.94\" y=\"-14.3\" font-family=\"Times,serif\" font-size=\"14.00\" fill=\"white\">weekday_a1</text>\n</a>\n</g>\n</g>\n<!-- hour_a2 -->\n<g id=\"node3\" class=\"node\">\n<title>hour_a2</title>\n<g id=\"a_node3\"><a xlink:title=\"(3) hour_a2\">\n<ellipse fill=\"#404040\" stroke=\"#4a4a4a\" cx=\"370.94\" cy=\"-18\" rx=\"39.79\" ry=\"18\"/>\n<text text-anchor=\"middle\" x=\"370.94\" y=\"-14.3\" font-family=\"Times,serif\" font-size=\"14.00\" fill=\"white\">hour_a2</text>\n</a>\n</g>\n</g>\n<!-- hour_a1 -->\n<g id=\"node4\" class=\"node\">\n<title>hour_a1</title>\n<g id=\"a_node4\"><a xlink:title=\"(1) hour_a1\">\n<ellipse fill=\"#404040\" stroke=\"#4a4a4a\" cx=\"467.94\" cy=\"-18\" rx=\"39.79\" ry=\"18\"/>\n<text text-anchor=\"middle\" x=\"467.94\" y=\"-14.3\" font-family=\"Times,serif\" font-size=\"14.00\" fill=\"white\">hour_a1</text>\n</a>\n</g>\n</g>\n<!-- weekday_a2 -->\n<g id=\"node5\" class=\"node\">\n<title>weekday_a2</title>\n<g id=\"a_node5\"><a xlink:title=\"(2) weekday_a2\">\n<ellipse fill=\"#404040\" stroke=\"#4a4a4a\" cx=\"579.94\" cy=\"-18\" rx=\"54.69\" ry=\"18\"/>\n<text text-anchor=\"middle\" x=\"579.94\" y=\"-14.3\" font-family=\"Times,serif\" font-size=\"14.00\" fill=\"white\">weekday_a2</text>\n</a>\n</g>\n</g>\n<!-- lead_answered_a2 -->\n<g id=\"node6\" class=\"node\">\n<title>lead_answered_a2</title>\n<g id=\"a_node6\"><a xlink:title=\"(5) lead_answered_a2\">\n<ellipse fill=\"#404040\" stroke=\"#4a4a4a\" cx=\"370.94\" cy=\"-90\" rx=\"75.29\" ry=\"18\"/>\n<text text-anchor=\"middle\" x=\"370.94\" y=\"-86.3\" font-family=\"Times,serif\" font-size=\"14.00\" fill=\"white\">lead_answered_a2</text>\n</a>\n</g>\n</g>\n<!-- lead_answered_a2&#45;&gt;caller_has_changed_a2 -->\n<g id=\"edge1\" class=\"edge\">\n<title>lead_answered_a2-&gt;caller_has_changed_a2</title>\n<g id=\"a_edge1\"><a xlink:title=\"5 → 4\">\n<path fill=\"none\" stroke=\"#4a4a4a\" d=\"M320.92,-76.4C275.05,-64.85 206.87,-47.69 157.03,-35.14\"/>\n<polygon fill=\"#4a4a4a\" stroke=\"#4a4a4a\" points=\"157.87,-31.74 147.31,-32.69 156.16,-38.53 157.87,-31.74\"/>\n</a>\n</g>\n</g>\n<!-- lead_answered_a2&#45;&gt;weekday_a1 -->\n<g id=\"edge3\" class=\"edge\">\n<title>lead_answered_a2-&gt;weekday_a1</title>\n<g id=\"a_edge3\"><a xlink:title=\"5 → 0\">\n<path fill=\"none\" stroke=\"#4a4a4a\" d=\"M345.25,-72.94C329.41,-63.04 308.94,-50.25 291.91,-39.61\"/>\n<polygon fill=\"#4a4a4a\" stroke=\"#4a4a4a\" points=\"293.7,-36.6 283.36,-34.26 289.99,-42.53 293.7,-36.6\"/>\n</a>\n</g>\n</g>\n<!-- lead_answered_a2&#45;&gt;hour_a2 -->\n<g id=\"edge4\" class=\"edge\">\n<title>lead_answered_a2-&gt;hour_a2</title>\n<g id=\"a_edge4\"><a xlink:title=\"5 → 3\">\n<path fill=\"none\" stroke=\"#4a4a4a\" d=\"M370.94,-71.7C370.94,-63.98 370.94,-54.71 370.94,-46.11\"/>\n<polygon fill=\"#4a4a4a\" stroke=\"#4a4a4a\" points=\"374.44,-46.1 370.94,-36.1 367.44,-46.1 374.44,-46.1\"/>\n</a>\n</g>\n</g>\n<!-- lead_answered_a2&#45;&gt;hour_a1 -->\n<g id=\"edge2\" class=\"edge\">\n<title>lead_answered_a2-&gt;hour_a1</title>\n<g id=\"a_edge2\"><a xlink:title=\"5 → 1\">\n<path fill=\"none\" stroke=\"#4a4a4a\" d=\"M393.44,-72.76C407.1,-62.91 424.67,-50.23 439.31,-39.66\"/>\n<polygon fill=\"#4a4a4a\" stroke=\"#4a4a4a\" points=\"441.49,-42.41 447.55,-33.72 437.39,-36.73 441.49,-42.41\"/>\n</a>\n</g>\n</g>\n<!-- lead_answered_a2&#45;&gt;weekday_a2 -->\n<g id=\"edge5\" class=\"edge\">\n<title>lead_answered_a2-&gt;weekday_a2</title>\n<g id=\"a_edge5\"><a xlink:title=\"5 → 2\">\n<path fill=\"none\" stroke=\"#4a4a4a\" d=\"M412.73,-75C447.58,-63.33 497.18,-46.72 533.31,-34.62\"/>\n<polygon fill=\"#4a4a4a\" stroke=\"#4a4a4a\" points=\"534.75,-37.83 543.12,-31.33 532.52,-31.19 534.75,-37.83\"/>\n</a>\n</g>\n</g>\n</g>\n</svg>"
          },
          "metadata": {}
        }
      ]
    },
    {
      "cell_type": "code",
      "source": [
        "bn_naif.cpt(\"lead_answered_a2\")"
      ],
      "metadata": {
        "id": "rECSVtH-CqGy",
        "colab": {
          "base_uri": "https://localhost:8080/",
          "height": 82
        },
        "outputId": "a74ad03d-4faa-4c9e-bd89-bf3476ff3e52"
      },
      "execution_count": null,
      "outputs": [
        {
          "output_type": "execute_result",
          "data": {
            "text/plain": [
              "(pyAgrum.Potential<double>@0x583822ed52a0) \n",
              "  lead_answered_a2 |\n",
              "no       |yes      |\n",
              "---------|---------|\n",
              " 0.8421  | 0.1579  |"
            ],
            "text/html": [
              "<table style=\"border:1px solid black;border-collapse: collapse;\">\n",
              "<tr style='border:1px solid black;color:black;background-color:#808080'>\n",
              "      <th colspan='2'><center>lead_answered_a2</center></th></tr>\n",
              "<tr><th style='border:1px solid black;border-bottom-style: double;color:black;background-color:#BBBBBB'>\n",
              "      <center>no</center></th><th style='border:1px solid black;border-bottom-style: double;color:black;background-color:#BBBBBB'>\n",
              "      <center>yes</center></th></tr>\n",
              "<tr><td style='color:black;background-color:#93ea64;text-align:right;padding: 3px;'>0.8421</td><td style='color:black;background-color:#ea9364;text-align:right;padding: 3px;'>0.1579</td></tr>\n",
              "</table>"
            ]
          },
          "metadata": {},
          "execution_count": 17
        }
      ]
    },
    {
      "cell_type": "code",
      "source": [
        "print(y_test)"
      ],
      "metadata": {
        "id": "7ATbSrZyql7d",
        "colab": {
          "base_uri": "https://localhost:8080/"
        },
        "outputId": "d25d6570-6528-41ee-922d-ae1d90e4d511"
      },
      "execution_count": null,
      "outputs": [
        {
          "output_type": "stream",
          "name": "stdout",
          "text": [
            "2802135     no\n",
            "1422470     no\n",
            "1899589     no\n",
            "2014809     no\n",
            "24274       no\n",
            "          ... \n",
            "185564      no\n",
            "1381535     no\n",
            "137709      no\n",
            "1073928     no\n",
            "894420     yes\n",
            "Name: lead_answered_a2, Length: 564820, dtype: category\n",
            "Categories (2, object): ['no', 'yes']\n"
          ]
        }
      ]
    },
    {
      "cell_type": "code",
      "source": [
        "# Prédiction\n",
        "pred_prob_naif = predict(\n",
        "                          bn_naif,\n",
        "                          data=X_test,\n",
        "                          var_target=\"lead_answered_a2\",\n",
        "                          show_progress=True\n",
        "                        )\n",
        "\n",
        "pred_var_naif = pred_prob_naif.idxmax(axis=1).rename(\"pred\")"
      ],
      "metadata": {
        "id": "N-4JKSyhB6-B",
        "colab": {
          "base_uri": "https://localhost:8080/"
        },
        "outputId": "2587f32e-f403-4067-b550-487e2c6d954f"
      },
      "execution_count": null,
      "outputs": [
        {
          "output_type": "stream",
          "name": "stdout",
          "text": []
        }
      ]
    },
    {
      "cell_type": "code",
      "source": [
        "print(pred_prob_naif)"
      ],
      "metadata": {
        "id": "9nN9L8Ovr1rq",
        "colab": {
          "base_uri": "https://localhost:8080/"
        },
        "outputId": "76e5835f-35cf-41ba-a484-98f26ac7582c"
      },
      "execution_count": null,
      "outputs": [
        {
          "output_type": "stream",
          "name": "stdout",
          "text": [
            "lead_answered_a2        no       yes\n",
            "2802135           0.848277  0.151723\n",
            "1422470           0.847312  0.152688\n",
            "1899589           0.839840  0.160160\n",
            "2014809           0.853973  0.146027\n",
            "24274             0.846892  0.153108\n",
            "...                    ...       ...\n",
            "185564            0.845540  0.154460\n",
            "1381535           0.836000  0.164000\n",
            "137709            0.833181  0.166819\n",
            "1073928           0.837555  0.162445\n",
            "894420            0.847022  0.152978\n",
            "\n",
            "[564820 rows x 2 columns]\n"
          ]
        }
      ]
    },
    {
      "cell_type": "code",
      "source": [
        "print(pred_var_naif)"
      ],
      "metadata": {
        "id": "YjO9n-AgqjID",
        "colab": {
          "base_uri": "https://localhost:8080/"
        },
        "outputId": "f12ecb8a-d8fd-4cb6-c1d1-f0e2c404b7b6"
      },
      "execution_count": null,
      "outputs": [
        {
          "output_type": "stream",
          "name": "stdout",
          "text": [
            "2802135    no\n",
            "1422470    no\n",
            "1899589    no\n",
            "2014809    no\n",
            "24274      no\n",
            "           ..\n",
            "185564     no\n",
            "1381535    no\n",
            "137709     no\n",
            "1073928    no\n",
            "894420     no\n",
            "Name: pred, Length: 564820, dtype: object\n"
          ]
        }
      ]
    },
    {
      "cell_type": "code",
      "source": [
        "(y_test == pred_var_naif).mean()"
      ],
      "metadata": {
        "colab": {
          "base_uri": "https://localhost:8080/"
        },
        "id": "c5lTvwdiOy-K",
        "outputId": "a194d975-4d3b-4667-ba8a-b981852f926a"
      },
      "execution_count": null,
      "outputs": [
        {
          "output_type": "execute_result",
          "data": {
            "text/plain": [
              "0.8421886618745795"
            ]
          },
          "metadata": {},
          "execution_count": 22
        }
      ]
    },
    {
      "cell_type": "code",
      "source": [
        "# Créer une grille de seuils de décision\n",
        "thresholds = np.linspace(0.16, 0.18, 100)\n",
        "scores_yes = []\n",
        "scores_no = []\n",
        "\n",
        "for thresh in thresholds:\n",
        "    # Prédiction binaire basée sur le seuil\n",
        "    pred_binary_yes = pred_prob_naif['yes'].apply(lambda x: \"yes\" if x > thresh else \"no\")\n",
        "    pred_binary_no = pred_prob_naif['no'].apply(lambda x: \"no\" if x > thresh else \"yes\")\n",
        "\n",
        "    # Calculer l'accuracy pour chaque seuil\n",
        "    score_yes = (y_test == pred_binary_yes).mean()\n",
        "    score_no = (y_test == pred_binary_no).mean()\n",
        "\n",
        "    scores_yes.append(score_yes)\n",
        "    scores_no.append(score_no)\n",
        "\n",
        "# Trouver l'indice du point de croisement\n",
        "abs_diff = np.abs(np.array(scores_yes) - np.array(scores_no))\n",
        "min_diff_idx = np.argmin(abs_diff)  # Index du point le plus proche\n",
        "\n",
        "# Marquer le point de croisement\n",
        "cross_point_threshold = thresholds[min_diff_idx]\n",
        "cross_point_score_yes = scores_yes[min_diff_idx]\n",
        "cross_point_score_no = scores_no[min_diff_idx]\n",
        "\n",
        "print(f\"Threshold optimal: {cross_point_threshold}\")\n",
        "print(f\"Score au seuil optimal (yes): {cross_point_score_yes}\")\n",
        "print(f\"Score au seuil optimal (no): {cross_point_score_no}\")\n",
        "\n",
        "# Plot des résultats\n",
        "plt.figure(figsize=(10, 6))\n",
        "plt.plot(thresholds, scores_yes, label='Accuracy \"yes\"', color='blue')\n",
        "plt.plot(thresholds, scores_no, label='Accuracy \"no\"', color='green')\n",
        "plt.axvline(x=cross_point_threshold, color='red', linestyle='--', label=f'Threshold Optimal: {cross_point_threshold:.2f}')\n",
        "plt.scatter(cross_point_threshold, cross_point_score_yes, color='red', zorder=5)\n",
        "plt.scatter(cross_point_threshold, cross_point_score_no, color='red', zorder=5)\n",
        "plt.text(cross_point_threshold, cross_point_score_yes, f'{cross_point_score_yes:.2f}', fontsize=12, verticalalignment='bottom', horizontalalignment='right')\n",
        "plt.text(cross_point_threshold, cross_point_score_no, f'{cross_point_score_no:.2f}', fontsize=12, verticalalignment='top', horizontalalignment='right')\n",
        "plt.xlabel('Threshold')\n",
        "plt.ylabel('Accuracy')\n",
        "plt.title('Accuracy vs Threshold for Predicting \"yes\" and \"no\"')\n",
        "plt.legend()\n",
        "plt.grid(True)\n",
        "plt.show()\n"
      ],
      "metadata": {
        "colab": {
          "base_uri": "https://localhost:8080/",
          "height": 597
        },
        "id": "UNivuwQz_ZhO",
        "outputId": "95a264e1-cef6-4ecc-f0c9-49bc44a7241e"
      },
      "execution_count": null,
      "outputs": [
        {
          "output_type": "stream",
          "name": "stdout",
          "text": [
            "Threshold optimal: 0.17414141414141412\n",
            "Score au seuil optimal (yes): 0.8421886618745795\n",
            "Score au seuil optimal (no): 0.8421886618745795\n"
          ]
        },
        {
          "output_type": "display_data",
          "data": {
            "text/plain": [
              "<Figure size 1000x600 with 1 Axes>"
            ],
            "image/svg+xml": "<?xml version=\"1.0\" encoding=\"utf-8\" standalone=\"no\"?>\n<!DOCTYPE svg PUBLIC \"-//W3C//DTD SVG 1.1//EN\"\n  \"http://www.w3.org/Graphics/SVG/1.1/DTD/svg11.dtd\">\n<svg xmlns:xlink=\"http://www.w3.org/1999/xlink\" width=\"615.34375pt\" height=\"392.514375pt\" viewBox=\"0 0 615.34375 392.514375\" xmlns=\"http://www.w3.org/2000/svg\" version=\"1.1\">\n <metadata>\n  <rdf:RDF xmlns:dc=\"http://purl.org/dc/elements/1.1/\" xmlns:cc=\"http://creativecommons.org/ns#\" xmlns:rdf=\"http://www.w3.org/1999/02/22-rdf-syntax-ns#\">\n   <cc:Work>\n    <dc:type rdf:resource=\"http://purl.org/dc/dcmitype/StillImage\"/>\n    <dc:date>2024-05-24T06:05:39.651542</dc:date>\n    <dc:format>image/svg+xml</dc:format>\n    <dc:creator>\n     <cc:Agent>\n      <dc:title>Matplotlib v3.7.1, https://matplotlib.org/</dc:title>\n     </cc:Agent>\n    </dc:creator>\n   </cc:Work>\n  </rdf:RDF>\n </metadata>\n <defs>\n  <style type=\"text/css\">*{stroke-linejoin: round; stroke-linecap: butt}</style>\n </defs>\n <g id=\"figure_1\">\n  <g id=\"patch_1\">\n   <path d=\"M 0 392.514375 \nL 615.34375 392.514375 \nL 615.34375 0 \nL 0 0 \nz\n\" style=\"fill: #e0e0e0\"/>\n  </g>\n  <g id=\"axes_1\">\n   <g id=\"patch_2\">\n    <path d=\"M 50.14375 354.958125 \nL 608.14375 354.958125 \nL 608.14375 22.318125 \nL 50.14375 22.318125 \nz\n\" style=\"fill: #ffffff\"/>\n   </g>\n   <g id=\"matplotlib.axis_1\">\n    <g id=\"xtick_1\">\n     <g id=\"line2d_1\">\n      <path d=\"M 75.507386 354.958125 \nL 75.507386 22.318125 \n\" clip-path=\"url(#pbcb7357007)\" style=\"fill: none; stroke: #b0b0b0; stroke-width: 0.8; stroke-linecap: square\"/>\n     </g>\n     <g id=\"line2d_2\">\n      <defs>\n       <path id=\"m9f7dcad476\" d=\"M 0 0 \nL 0 3.5 \n\" style=\"stroke: #000000; stroke-width: 0.8\"/>\n      </defs>\n      <g>\n       <use xlink:href=\"#m9f7dcad476\" x=\"75.507386\" y=\"354.958125\" style=\"stroke: #000000; stroke-width: 0.8\"/>\n      </g>\n     </g>\n     <g id=\"text_1\">\n      <!-- 0.1600 -->\n      <g transform=\"translate(58.012074 369.556562) scale(0.1 -0.1)\">\n       <defs>\n        <path id=\"DejaVuSans-30\" d=\"M 2034 4250 \nQ 1547 4250 1301 3770 \nQ 1056 3291 1056 2328 \nQ 1056 1369 1301 889 \nQ 1547 409 2034 409 \nQ 2525 409 2770 889 \nQ 3016 1369 3016 2328 \nQ 3016 3291 2770 3770 \nQ 2525 4250 2034 4250 \nz\nM 2034 4750 \nQ 2819 4750 3233 4129 \nQ 3647 3509 3647 2328 \nQ 3647 1150 3233 529 \nQ 2819 -91 2034 -91 \nQ 1250 -91 836 529 \nQ 422 1150 422 2328 \nQ 422 3509 836 4129 \nQ 1250 4750 2034 4750 \nz\n\" transform=\"scale(0.015625)\"/>\n        <path id=\"DejaVuSans-2e\" d=\"M 684 794 \nL 1344 794 \nL 1344 0 \nL 684 0 \nL 684 794 \nz\n\" transform=\"scale(0.015625)\"/>\n        <path id=\"DejaVuSans-31\" d=\"M 794 531 \nL 1825 531 \nL 1825 4091 \nL 703 3866 \nL 703 4441 \nL 1819 4666 \nL 2450 4666 \nL 2450 531 \nL 3481 531 \nL 3481 0 \nL 794 0 \nL 794 531 \nz\n\" transform=\"scale(0.015625)\"/>\n        <path id=\"DejaVuSans-36\" d=\"M 2113 2584 \nQ 1688 2584 1439 2293 \nQ 1191 2003 1191 1497 \nQ 1191 994 1439 701 \nQ 1688 409 2113 409 \nQ 2538 409 2786 701 \nQ 3034 994 3034 1497 \nQ 3034 2003 2786 2293 \nQ 2538 2584 2113 2584 \nz\nM 3366 4563 \nL 3366 3988 \nQ 3128 4100 2886 4159 \nQ 2644 4219 2406 4219 \nQ 1781 4219 1451 3797 \nQ 1122 3375 1075 2522 \nQ 1259 2794 1537 2939 \nQ 1816 3084 2150 3084 \nQ 2853 3084 3261 2657 \nQ 3669 2231 3669 1497 \nQ 3669 778 3244 343 \nQ 2819 -91 2113 -91 \nQ 1303 -91 875 529 \nQ 447 1150 447 2328 \nQ 447 3434 972 4092 \nQ 1497 4750 2381 4750 \nQ 2619 4750 2861 4703 \nQ 3103 4656 3366 4563 \nz\n\" transform=\"scale(0.015625)\"/>\n       </defs>\n       <use xlink:href=\"#DejaVuSans-30\"/>\n       <use xlink:href=\"#DejaVuSans-2e\" x=\"63.623047\"/>\n       <use xlink:href=\"#DejaVuSans-31\" x=\"95.410156\"/>\n       <use xlink:href=\"#DejaVuSans-36\" x=\"159.033203\"/>\n       <use xlink:href=\"#DejaVuSans-30\" x=\"222.65625\"/>\n       <use xlink:href=\"#DejaVuSans-30\" x=\"286.279297\"/>\n      </g>\n     </g>\n    </g>\n    <g id=\"xtick_2\">\n     <g id=\"line2d_3\">\n      <path d=\"M 138.916477 354.958125 \nL 138.916477 22.318125 \n\" clip-path=\"url(#pbcb7357007)\" style=\"fill: none; stroke: #b0b0b0; stroke-width: 0.8; stroke-linecap: square\"/>\n     </g>\n     <g id=\"line2d_4\">\n      <g>\n       <use xlink:href=\"#m9f7dcad476\" x=\"138.916477\" y=\"354.958125\" style=\"stroke: #000000; stroke-width: 0.8\"/>\n      </g>\n     </g>\n     <g id=\"text_2\">\n      <!-- 0.1625 -->\n      <g transform=\"translate(121.421165 369.556562) scale(0.1 -0.1)\">\n       <defs>\n        <path id=\"DejaVuSans-32\" d=\"M 1228 531 \nL 3431 531 \nL 3431 0 \nL 469 0 \nL 469 531 \nQ 828 903 1448 1529 \nQ 2069 2156 2228 2338 \nQ 2531 2678 2651 2914 \nQ 2772 3150 2772 3378 \nQ 2772 3750 2511 3984 \nQ 2250 4219 1831 4219 \nQ 1534 4219 1204 4116 \nQ 875 4013 500 3803 \nL 500 4441 \nQ 881 4594 1212 4672 \nQ 1544 4750 1819 4750 \nQ 2544 4750 2975 4387 \nQ 3406 4025 3406 3419 \nQ 3406 3131 3298 2873 \nQ 3191 2616 2906 2266 \nQ 2828 2175 2409 1742 \nQ 1991 1309 1228 531 \nz\n\" transform=\"scale(0.015625)\"/>\n        <path id=\"DejaVuSans-35\" d=\"M 691 4666 \nL 3169 4666 \nL 3169 4134 \nL 1269 4134 \nL 1269 2991 \nQ 1406 3038 1543 3061 \nQ 1681 3084 1819 3084 \nQ 2600 3084 3056 2656 \nQ 3513 2228 3513 1497 \nQ 3513 744 3044 326 \nQ 2575 -91 1722 -91 \nQ 1428 -91 1123 -41 \nQ 819 9 494 109 \nL 494 744 \nQ 775 591 1075 516 \nQ 1375 441 1709 441 \nQ 2250 441 2565 725 \nQ 2881 1009 2881 1497 \nQ 2881 1984 2565 2268 \nQ 2250 2553 1709 2553 \nQ 1456 2553 1204 2497 \nQ 953 2441 691 2322 \nL 691 4666 \nz\n\" transform=\"scale(0.015625)\"/>\n       </defs>\n       <use xlink:href=\"#DejaVuSans-30\"/>\n       <use xlink:href=\"#DejaVuSans-2e\" x=\"63.623047\"/>\n       <use xlink:href=\"#DejaVuSans-31\" x=\"95.410156\"/>\n       <use xlink:href=\"#DejaVuSans-36\" x=\"159.033203\"/>\n       <use xlink:href=\"#DejaVuSans-32\" x=\"222.65625\"/>\n       <use xlink:href=\"#DejaVuSans-35\" x=\"286.279297\"/>\n      </g>\n     </g>\n    </g>\n    <g id=\"xtick_3\">\n     <g id=\"line2d_5\">\n      <path d=\"M 202.325568 354.958125 \nL 202.325568 22.318125 \n\" clip-path=\"url(#pbcb7357007)\" style=\"fill: none; stroke: #b0b0b0; stroke-width: 0.8; stroke-linecap: square\"/>\n     </g>\n     <g id=\"line2d_6\">\n      <g>\n       <use xlink:href=\"#m9f7dcad476\" x=\"202.325568\" y=\"354.958125\" style=\"stroke: #000000; stroke-width: 0.8\"/>\n      </g>\n     </g>\n     <g id=\"text_3\">\n      <!-- 0.1650 -->\n      <g transform=\"translate(184.830256 369.556562) scale(0.1 -0.1)\">\n       <use xlink:href=\"#DejaVuSans-30\"/>\n       <use xlink:href=\"#DejaVuSans-2e\" x=\"63.623047\"/>\n       <use xlink:href=\"#DejaVuSans-31\" x=\"95.410156\"/>\n       <use xlink:href=\"#DejaVuSans-36\" x=\"159.033203\"/>\n       <use xlink:href=\"#DejaVuSans-35\" x=\"222.65625\"/>\n       <use xlink:href=\"#DejaVuSans-30\" x=\"286.279297\"/>\n      </g>\n     </g>\n    </g>\n    <g id=\"xtick_4\">\n     <g id=\"line2d_7\">\n      <path d=\"M 265.734659 354.958125 \nL 265.734659 22.318125 \n\" clip-path=\"url(#pbcb7357007)\" style=\"fill: none; stroke: #b0b0b0; stroke-width: 0.8; stroke-linecap: square\"/>\n     </g>\n     <g id=\"line2d_8\">\n      <g>\n       <use xlink:href=\"#m9f7dcad476\" x=\"265.734659\" y=\"354.958125\" style=\"stroke: #000000; stroke-width: 0.8\"/>\n      </g>\n     </g>\n     <g id=\"text_4\">\n      <!-- 0.1675 -->\n      <g transform=\"translate(248.239347 369.556562) scale(0.1 -0.1)\">\n       <defs>\n        <path id=\"DejaVuSans-37\" d=\"M 525 4666 \nL 3525 4666 \nL 3525 4397 \nL 1831 0 \nL 1172 0 \nL 2766 4134 \nL 525 4134 \nL 525 4666 \nz\n\" transform=\"scale(0.015625)\"/>\n       </defs>\n       <use xlink:href=\"#DejaVuSans-30\"/>\n       <use xlink:href=\"#DejaVuSans-2e\" x=\"63.623047\"/>\n       <use xlink:href=\"#DejaVuSans-31\" x=\"95.410156\"/>\n       <use xlink:href=\"#DejaVuSans-36\" x=\"159.033203\"/>\n       <use xlink:href=\"#DejaVuSans-37\" x=\"222.65625\"/>\n       <use xlink:href=\"#DejaVuSans-35\" x=\"286.279297\"/>\n      </g>\n     </g>\n    </g>\n    <g id=\"xtick_5\">\n     <g id=\"line2d_9\">\n      <path d=\"M 329.14375 354.958125 \nL 329.14375 22.318125 \n\" clip-path=\"url(#pbcb7357007)\" style=\"fill: none; stroke: #b0b0b0; stroke-width: 0.8; stroke-linecap: square\"/>\n     </g>\n     <g id=\"line2d_10\">\n      <g>\n       <use xlink:href=\"#m9f7dcad476\" x=\"329.14375\" y=\"354.958125\" style=\"stroke: #000000; stroke-width: 0.8\"/>\n      </g>\n     </g>\n     <g id=\"text_5\">\n      <!-- 0.1700 -->\n      <g transform=\"translate(311.648438 369.556562) scale(0.1 -0.1)\">\n       <use xlink:href=\"#DejaVuSans-30\"/>\n       <use xlink:href=\"#DejaVuSans-2e\" x=\"63.623047\"/>\n       <use xlink:href=\"#DejaVuSans-31\" x=\"95.410156\"/>\n       <use xlink:href=\"#DejaVuSans-37\" x=\"159.033203\"/>\n       <use xlink:href=\"#DejaVuSans-30\" x=\"222.65625\"/>\n       <use xlink:href=\"#DejaVuSans-30\" x=\"286.279297\"/>\n      </g>\n     </g>\n    </g>\n    <g id=\"xtick_6\">\n     <g id=\"line2d_11\">\n      <path d=\"M 392.552841 354.958125 \nL 392.552841 22.318125 \n\" clip-path=\"url(#pbcb7357007)\" style=\"fill: none; stroke: #b0b0b0; stroke-width: 0.8; stroke-linecap: square\"/>\n     </g>\n     <g id=\"line2d_12\">\n      <g>\n       <use xlink:href=\"#m9f7dcad476\" x=\"392.552841\" y=\"354.958125\" style=\"stroke: #000000; stroke-width: 0.8\"/>\n      </g>\n     </g>\n     <g id=\"text_6\">\n      <!-- 0.1725 -->\n      <g transform=\"translate(375.057528 369.556562) scale(0.1 -0.1)\">\n       <use xlink:href=\"#DejaVuSans-30\"/>\n       <use xlink:href=\"#DejaVuSans-2e\" x=\"63.623047\"/>\n       <use xlink:href=\"#DejaVuSans-31\" x=\"95.410156\"/>\n       <use xlink:href=\"#DejaVuSans-37\" x=\"159.033203\"/>\n       <use xlink:href=\"#DejaVuSans-32\" x=\"222.65625\"/>\n       <use xlink:href=\"#DejaVuSans-35\" x=\"286.279297\"/>\n      </g>\n     </g>\n    </g>\n    <g id=\"xtick_7\">\n     <g id=\"line2d_13\">\n      <path d=\"M 455.961932 354.958125 \nL 455.961932 22.318125 \n\" clip-path=\"url(#pbcb7357007)\" style=\"fill: none; stroke: #b0b0b0; stroke-width: 0.8; stroke-linecap: square\"/>\n     </g>\n     <g id=\"line2d_14\">\n      <g>\n       <use xlink:href=\"#m9f7dcad476\" x=\"455.961932\" y=\"354.958125\" style=\"stroke: #000000; stroke-width: 0.8\"/>\n      </g>\n     </g>\n     <g id=\"text_7\">\n      <!-- 0.1750 -->\n      <g transform=\"translate(438.466619 369.556562) scale(0.1 -0.1)\">\n       <use xlink:href=\"#DejaVuSans-30\"/>\n       <use xlink:href=\"#DejaVuSans-2e\" x=\"63.623047\"/>\n       <use xlink:href=\"#DejaVuSans-31\" x=\"95.410156\"/>\n       <use xlink:href=\"#DejaVuSans-37\" x=\"159.033203\"/>\n       <use xlink:href=\"#DejaVuSans-35\" x=\"222.65625\"/>\n       <use xlink:href=\"#DejaVuSans-30\" x=\"286.279297\"/>\n      </g>\n     </g>\n    </g>\n    <g id=\"xtick_8\">\n     <g id=\"line2d_15\">\n      <path d=\"M 519.371023 354.958125 \nL 519.371023 22.318125 \n\" clip-path=\"url(#pbcb7357007)\" style=\"fill: none; stroke: #b0b0b0; stroke-width: 0.8; stroke-linecap: square\"/>\n     </g>\n     <g id=\"line2d_16\">\n      <g>\n       <use xlink:href=\"#m9f7dcad476\" x=\"519.371023\" y=\"354.958125\" style=\"stroke: #000000; stroke-width: 0.8\"/>\n      </g>\n     </g>\n     <g id=\"text_8\">\n      <!-- 0.1775 -->\n      <g transform=\"translate(501.87571 369.556562) scale(0.1 -0.1)\">\n       <use xlink:href=\"#DejaVuSans-30\"/>\n       <use xlink:href=\"#DejaVuSans-2e\" x=\"63.623047\"/>\n       <use xlink:href=\"#DejaVuSans-31\" x=\"95.410156\"/>\n       <use xlink:href=\"#DejaVuSans-37\" x=\"159.033203\"/>\n       <use xlink:href=\"#DejaVuSans-37\" x=\"222.65625\"/>\n       <use xlink:href=\"#DejaVuSans-35\" x=\"286.279297\"/>\n      </g>\n     </g>\n    </g>\n    <g id=\"xtick_9\">\n     <g id=\"line2d_17\">\n      <path d=\"M 582.780114 354.958125 \nL 582.780114 22.318125 \n\" clip-path=\"url(#pbcb7357007)\" style=\"fill: none; stroke: #b0b0b0; stroke-width: 0.8; stroke-linecap: square\"/>\n     </g>\n     <g id=\"line2d_18\">\n      <g>\n       <use xlink:href=\"#m9f7dcad476\" x=\"582.780114\" y=\"354.958125\" style=\"stroke: #000000; stroke-width: 0.8\"/>\n      </g>\n     </g>\n     <g id=\"text_9\">\n      <!-- 0.1800 -->\n      <g transform=\"translate(565.284801 369.556562) scale(0.1 -0.1)\">\n       <defs>\n        <path id=\"DejaVuSans-38\" d=\"M 2034 2216 \nQ 1584 2216 1326 1975 \nQ 1069 1734 1069 1313 \nQ 1069 891 1326 650 \nQ 1584 409 2034 409 \nQ 2484 409 2743 651 \nQ 3003 894 3003 1313 \nQ 3003 1734 2745 1975 \nQ 2488 2216 2034 2216 \nz\nM 1403 2484 \nQ 997 2584 770 2862 \nQ 544 3141 544 3541 \nQ 544 4100 942 4425 \nQ 1341 4750 2034 4750 \nQ 2731 4750 3128 4425 \nQ 3525 4100 3525 3541 \nQ 3525 3141 3298 2862 \nQ 3072 2584 2669 2484 \nQ 3125 2378 3379 2068 \nQ 3634 1759 3634 1313 \nQ 3634 634 3220 271 \nQ 2806 -91 2034 -91 \nQ 1263 -91 848 271 \nQ 434 634 434 1313 \nQ 434 1759 690 2068 \nQ 947 2378 1403 2484 \nz\nM 1172 3481 \nQ 1172 3119 1398 2916 \nQ 1625 2713 2034 2713 \nQ 2441 2713 2670 2916 \nQ 2900 3119 2900 3481 \nQ 2900 3844 2670 4047 \nQ 2441 4250 2034 4250 \nQ 1625 4250 1398 4047 \nQ 1172 3844 1172 3481 \nz\n\" transform=\"scale(0.015625)\"/>\n       </defs>\n       <use xlink:href=\"#DejaVuSans-30\"/>\n       <use xlink:href=\"#DejaVuSans-2e\" x=\"63.623047\"/>\n       <use xlink:href=\"#DejaVuSans-31\" x=\"95.410156\"/>\n       <use xlink:href=\"#DejaVuSans-38\" x=\"159.033203\"/>\n       <use xlink:href=\"#DejaVuSans-30\" x=\"222.65625\"/>\n       <use xlink:href=\"#DejaVuSans-30\" x=\"286.279297\"/>\n      </g>\n     </g>\n    </g>\n    <g id=\"text_10\">\n     <!-- Threshold -->\n     <g transform=\"translate(304.505469 383.234687) scale(0.1 -0.1)\">\n      <defs>\n       <path id=\"DejaVuSans-54\" d=\"M -19 4666 \nL 3928 4666 \nL 3928 4134 \nL 2272 4134 \nL 2272 0 \nL 1638 0 \nL 1638 4134 \nL -19 4134 \nL -19 4666 \nz\n\" transform=\"scale(0.015625)\"/>\n       <path id=\"DejaVuSans-68\" d=\"M 3513 2113 \nL 3513 0 \nL 2938 0 \nL 2938 2094 \nQ 2938 2591 2744 2837 \nQ 2550 3084 2163 3084 \nQ 1697 3084 1428 2787 \nQ 1159 2491 1159 1978 \nL 1159 0 \nL 581 0 \nL 581 4863 \nL 1159 4863 \nL 1159 2956 \nQ 1366 3272 1645 3428 \nQ 1925 3584 2291 3584 \nQ 2894 3584 3203 3211 \nQ 3513 2838 3513 2113 \nz\n\" transform=\"scale(0.015625)\"/>\n       <path id=\"DejaVuSans-72\" d=\"M 2631 2963 \nQ 2534 3019 2420 3045 \nQ 2306 3072 2169 3072 \nQ 1681 3072 1420 2755 \nQ 1159 2438 1159 1844 \nL 1159 0 \nL 581 0 \nL 581 3500 \nL 1159 3500 \nL 1159 2956 \nQ 1341 3275 1631 3429 \nQ 1922 3584 2338 3584 \nQ 2397 3584 2469 3576 \nQ 2541 3569 2628 3553 \nL 2631 2963 \nz\n\" transform=\"scale(0.015625)\"/>\n       <path id=\"DejaVuSans-65\" d=\"M 3597 1894 \nL 3597 1613 \nL 953 1613 \nQ 991 1019 1311 708 \nQ 1631 397 2203 397 \nQ 2534 397 2845 478 \nQ 3156 559 3463 722 \nL 3463 178 \nQ 3153 47 2828 -22 \nQ 2503 -91 2169 -91 \nQ 1331 -91 842 396 \nQ 353 884 353 1716 \nQ 353 2575 817 3079 \nQ 1281 3584 2069 3584 \nQ 2775 3584 3186 3129 \nQ 3597 2675 3597 1894 \nz\nM 3022 2063 \nQ 3016 2534 2758 2815 \nQ 2500 3097 2075 3097 \nQ 1594 3097 1305 2825 \nQ 1016 2553 972 2059 \nL 3022 2063 \nz\n\" transform=\"scale(0.015625)\"/>\n       <path id=\"DejaVuSans-73\" d=\"M 2834 3397 \nL 2834 2853 \nQ 2591 2978 2328 3040 \nQ 2066 3103 1784 3103 \nQ 1356 3103 1142 2972 \nQ 928 2841 928 2578 \nQ 928 2378 1081 2264 \nQ 1234 2150 1697 2047 \nL 1894 2003 \nQ 2506 1872 2764 1633 \nQ 3022 1394 3022 966 \nQ 3022 478 2636 193 \nQ 2250 -91 1575 -91 \nQ 1294 -91 989 -36 \nQ 684 19 347 128 \nL 347 722 \nQ 666 556 975 473 \nQ 1284 391 1588 391 \nQ 1994 391 2212 530 \nQ 2431 669 2431 922 \nQ 2431 1156 2273 1281 \nQ 2116 1406 1581 1522 \nL 1381 1569 \nQ 847 1681 609 1914 \nQ 372 2147 372 2553 \nQ 372 3047 722 3315 \nQ 1072 3584 1716 3584 \nQ 2034 3584 2315 3537 \nQ 2597 3491 2834 3397 \nz\n\" transform=\"scale(0.015625)\"/>\n       <path id=\"DejaVuSans-6f\" d=\"M 1959 3097 \nQ 1497 3097 1228 2736 \nQ 959 2375 959 1747 \nQ 959 1119 1226 758 \nQ 1494 397 1959 397 \nQ 2419 397 2687 759 \nQ 2956 1122 2956 1747 \nQ 2956 2369 2687 2733 \nQ 2419 3097 1959 3097 \nz\nM 1959 3584 \nQ 2709 3584 3137 3096 \nQ 3566 2609 3566 1747 \nQ 3566 888 3137 398 \nQ 2709 -91 1959 -91 \nQ 1206 -91 779 398 \nQ 353 888 353 1747 \nQ 353 2609 779 3096 \nQ 1206 3584 1959 3584 \nz\n\" transform=\"scale(0.015625)\"/>\n       <path id=\"DejaVuSans-6c\" d=\"M 603 4863 \nL 1178 4863 \nL 1178 0 \nL 603 0 \nL 603 4863 \nz\n\" transform=\"scale(0.015625)\"/>\n       <path id=\"DejaVuSans-64\" d=\"M 2906 2969 \nL 2906 4863 \nL 3481 4863 \nL 3481 0 \nL 2906 0 \nL 2906 525 \nQ 2725 213 2448 61 \nQ 2172 -91 1784 -91 \nQ 1150 -91 751 415 \nQ 353 922 353 1747 \nQ 353 2572 751 3078 \nQ 1150 3584 1784 3584 \nQ 2172 3584 2448 3432 \nQ 2725 3281 2906 2969 \nz\nM 947 1747 \nQ 947 1113 1208 752 \nQ 1469 391 1925 391 \nQ 2381 391 2643 752 \nQ 2906 1113 2906 1747 \nQ 2906 2381 2643 2742 \nQ 2381 3103 1925 3103 \nQ 1469 3103 1208 2742 \nQ 947 2381 947 1747 \nz\n\" transform=\"scale(0.015625)\"/>\n      </defs>\n      <use xlink:href=\"#DejaVuSans-54\"/>\n      <use xlink:href=\"#DejaVuSans-68\" x=\"61.083984\"/>\n      <use xlink:href=\"#DejaVuSans-72\" x=\"124.462891\"/>\n      <use xlink:href=\"#DejaVuSans-65\" x=\"163.326172\"/>\n      <use xlink:href=\"#DejaVuSans-73\" x=\"224.849609\"/>\n      <use xlink:href=\"#DejaVuSans-68\" x=\"276.949219\"/>\n      <use xlink:href=\"#DejaVuSans-6f\" x=\"340.328125\"/>\n      <use xlink:href=\"#DejaVuSans-6c\" x=\"401.509766\"/>\n      <use xlink:href=\"#DejaVuSans-64\" x=\"429.292969\"/>\n     </g>\n    </g>\n   </g>\n   <g id=\"matplotlib.axis_2\">\n    <g id=\"ytick_1\">\n     <g id=\"line2d_19\">\n      <path d=\"M 50.14375 332.004162 \nL 608.14375 332.004162 \n\" clip-path=\"url(#pbcb7357007)\" style=\"fill: none; stroke: #b0b0b0; stroke-width: 0.8; stroke-linecap: square\"/>\n     </g>\n     <g id=\"line2d_20\">\n      <defs>\n       <path id=\"m573445a4f2\" d=\"M 0 0 \nL -3.5 0 \n\" style=\"stroke: #000000; stroke-width: 0.8\"/>\n      </defs>\n      <g>\n       <use xlink:href=\"#m573445a4f2\" x=\"50.14375\" y=\"332.004162\" style=\"stroke: #000000; stroke-width: 0.8\"/>\n      </g>\n     </g>\n     <g id=\"text_11\">\n      <!-- 0.60 -->\n      <g transform=\"translate(20.878125 335.803381) scale(0.1 -0.1)\">\n       <use xlink:href=\"#DejaVuSans-30\"/>\n       <use xlink:href=\"#DejaVuSans-2e\" x=\"63.623047\"/>\n       <use xlink:href=\"#DejaVuSans-36\" x=\"95.410156\"/>\n       <use xlink:href=\"#DejaVuSans-30\" x=\"159.033203\"/>\n      </g>\n     </g>\n    </g>\n    <g id=\"ytick_2\">\n     <g id=\"line2d_21\">\n      <path d=\"M 50.14375 271.190821 \nL 608.14375 271.190821 \n\" clip-path=\"url(#pbcb7357007)\" style=\"fill: none; stroke: #b0b0b0; stroke-width: 0.8; stroke-linecap: square\"/>\n     </g>\n     <g id=\"line2d_22\">\n      <g>\n       <use xlink:href=\"#m573445a4f2\" x=\"50.14375\" y=\"271.190821\" style=\"stroke: #000000; stroke-width: 0.8\"/>\n      </g>\n     </g>\n     <g id=\"text_12\">\n      <!-- 0.65 -->\n      <g transform=\"translate(20.878125 274.990039) scale(0.1 -0.1)\">\n       <use xlink:href=\"#DejaVuSans-30\"/>\n       <use xlink:href=\"#DejaVuSans-2e\" x=\"63.623047\"/>\n       <use xlink:href=\"#DejaVuSans-36\" x=\"95.410156\"/>\n       <use xlink:href=\"#DejaVuSans-35\" x=\"159.033203\"/>\n      </g>\n     </g>\n    </g>\n    <g id=\"ytick_3\">\n     <g id=\"line2d_23\">\n      <path d=\"M 50.14375 210.377479 \nL 608.14375 210.377479 \n\" clip-path=\"url(#pbcb7357007)\" style=\"fill: none; stroke: #b0b0b0; stroke-width: 0.8; stroke-linecap: square\"/>\n     </g>\n     <g id=\"line2d_24\">\n      <g>\n       <use xlink:href=\"#m573445a4f2\" x=\"50.14375\" y=\"210.377479\" style=\"stroke: #000000; stroke-width: 0.8\"/>\n      </g>\n     </g>\n     <g id=\"text_13\">\n      <!-- 0.70 -->\n      <g transform=\"translate(20.878125 214.176698) scale(0.1 -0.1)\">\n       <use xlink:href=\"#DejaVuSans-30\"/>\n       <use xlink:href=\"#DejaVuSans-2e\" x=\"63.623047\"/>\n       <use xlink:href=\"#DejaVuSans-37\" x=\"95.410156\"/>\n       <use xlink:href=\"#DejaVuSans-30\" x=\"159.033203\"/>\n      </g>\n     </g>\n    </g>\n    <g id=\"ytick_4\">\n     <g id=\"line2d_25\">\n      <path d=\"M 50.14375 149.564137 \nL 608.14375 149.564137 \n\" clip-path=\"url(#pbcb7357007)\" style=\"fill: none; stroke: #b0b0b0; stroke-width: 0.8; stroke-linecap: square\"/>\n     </g>\n     <g id=\"line2d_26\">\n      <g>\n       <use xlink:href=\"#m573445a4f2\" x=\"50.14375\" y=\"149.564137\" style=\"stroke: #000000; stroke-width: 0.8\"/>\n      </g>\n     </g>\n     <g id=\"text_14\">\n      <!-- 0.75 -->\n      <g transform=\"translate(20.878125 153.363356) scale(0.1 -0.1)\">\n       <use xlink:href=\"#DejaVuSans-30\"/>\n       <use xlink:href=\"#DejaVuSans-2e\" x=\"63.623047\"/>\n       <use xlink:href=\"#DejaVuSans-37\" x=\"95.410156\"/>\n       <use xlink:href=\"#DejaVuSans-35\" x=\"159.033203\"/>\n      </g>\n     </g>\n    </g>\n    <g id=\"ytick_5\">\n     <g id=\"line2d_27\">\n      <path d=\"M 50.14375 88.750795 \nL 608.14375 88.750795 \n\" clip-path=\"url(#pbcb7357007)\" style=\"fill: none; stroke: #b0b0b0; stroke-width: 0.8; stroke-linecap: square\"/>\n     </g>\n     <g id=\"line2d_28\">\n      <g>\n       <use xlink:href=\"#m573445a4f2\" x=\"50.14375\" y=\"88.750795\" style=\"stroke: #000000; stroke-width: 0.8\"/>\n      </g>\n     </g>\n     <g id=\"text_15\">\n      <!-- 0.80 -->\n      <g transform=\"translate(20.878125 92.550014) scale(0.1 -0.1)\">\n       <use xlink:href=\"#DejaVuSans-30\"/>\n       <use xlink:href=\"#DejaVuSans-2e\" x=\"63.623047\"/>\n       <use xlink:href=\"#DejaVuSans-38\" x=\"95.410156\"/>\n       <use xlink:href=\"#DejaVuSans-30\" x=\"159.033203\"/>\n      </g>\n     </g>\n    </g>\n    <g id=\"ytick_6\">\n     <g id=\"line2d_29\">\n      <path d=\"M 50.14375 27.937453 \nL 608.14375 27.937453 \n\" clip-path=\"url(#pbcb7357007)\" style=\"fill: none; stroke: #b0b0b0; stroke-width: 0.8; stroke-linecap: square\"/>\n     </g>\n     <g id=\"line2d_30\">\n      <g>\n       <use xlink:href=\"#m573445a4f2\" x=\"50.14375\" y=\"27.937453\" style=\"stroke: #000000; stroke-width: 0.8\"/>\n      </g>\n     </g>\n     <g id=\"text_16\">\n      <!-- 0.85 -->\n      <g transform=\"translate(20.878125 31.736672) scale(0.1 -0.1)\">\n       <use xlink:href=\"#DejaVuSans-30\"/>\n       <use xlink:href=\"#DejaVuSans-2e\" x=\"63.623047\"/>\n       <use xlink:href=\"#DejaVuSans-38\" x=\"95.410156\"/>\n       <use xlink:href=\"#DejaVuSans-35\" x=\"159.033203\"/>\n      </g>\n     </g>\n    </g>\n    <g id=\"text_17\">\n     <!-- Accuracy -->\n     <g transform=\"translate(14.798437 211.46625) rotate(-90) scale(0.1 -0.1)\">\n      <defs>\n       <path id=\"DejaVuSans-41\" d=\"M 2188 4044 \nL 1331 1722 \nL 3047 1722 \nL 2188 4044 \nz\nM 1831 4666 \nL 2547 4666 \nL 4325 0 \nL 3669 0 \nL 3244 1197 \nL 1141 1197 \nL 716 0 \nL 50 0 \nL 1831 4666 \nz\n\" transform=\"scale(0.015625)\"/>\n       <path id=\"DejaVuSans-63\" d=\"M 3122 3366 \nL 3122 2828 \nQ 2878 2963 2633 3030 \nQ 2388 3097 2138 3097 \nQ 1578 3097 1268 2742 \nQ 959 2388 959 1747 \nQ 959 1106 1268 751 \nQ 1578 397 2138 397 \nQ 2388 397 2633 464 \nQ 2878 531 3122 666 \nL 3122 134 \nQ 2881 22 2623 -34 \nQ 2366 -91 2075 -91 \nQ 1284 -91 818 406 \nQ 353 903 353 1747 \nQ 353 2603 823 3093 \nQ 1294 3584 2113 3584 \nQ 2378 3584 2631 3529 \nQ 2884 3475 3122 3366 \nz\n\" transform=\"scale(0.015625)\"/>\n       <path id=\"DejaVuSans-75\" d=\"M 544 1381 \nL 544 3500 \nL 1119 3500 \nL 1119 1403 \nQ 1119 906 1312 657 \nQ 1506 409 1894 409 \nQ 2359 409 2629 706 \nQ 2900 1003 2900 1516 \nL 2900 3500 \nL 3475 3500 \nL 3475 0 \nL 2900 0 \nL 2900 538 \nQ 2691 219 2414 64 \nQ 2138 -91 1772 -91 \nQ 1169 -91 856 284 \nQ 544 659 544 1381 \nz\nM 1991 3584 \nL 1991 3584 \nz\n\" transform=\"scale(0.015625)\"/>\n       <path id=\"DejaVuSans-61\" d=\"M 2194 1759 \nQ 1497 1759 1228 1600 \nQ 959 1441 959 1056 \nQ 959 750 1161 570 \nQ 1363 391 1709 391 \nQ 2188 391 2477 730 \nQ 2766 1069 2766 1631 \nL 2766 1759 \nL 2194 1759 \nz\nM 3341 1997 \nL 3341 0 \nL 2766 0 \nL 2766 531 \nQ 2569 213 2275 61 \nQ 1981 -91 1556 -91 \nQ 1019 -91 701 211 \nQ 384 513 384 1019 \nQ 384 1609 779 1909 \nQ 1175 2209 1959 2209 \nL 2766 2209 \nL 2766 2266 \nQ 2766 2663 2505 2880 \nQ 2244 3097 1772 3097 \nQ 1472 3097 1187 3025 \nQ 903 2953 641 2809 \nL 641 3341 \nQ 956 3463 1253 3523 \nQ 1550 3584 1831 3584 \nQ 2591 3584 2966 3190 \nQ 3341 2797 3341 1997 \nz\n\" transform=\"scale(0.015625)\"/>\n       <path id=\"DejaVuSans-79\" d=\"M 2059 -325 \nQ 1816 -950 1584 -1140 \nQ 1353 -1331 966 -1331 \nL 506 -1331 \nL 506 -850 \nL 844 -850 \nQ 1081 -850 1212 -737 \nQ 1344 -625 1503 -206 \nL 1606 56 \nL 191 3500 \nL 800 3500 \nL 1894 763 \nL 2988 3500 \nL 3597 3500 \nL 2059 -325 \nz\n\" transform=\"scale(0.015625)\"/>\n      </defs>\n      <use xlink:href=\"#DejaVuSans-41\"/>\n      <use xlink:href=\"#DejaVuSans-63\" x=\"66.658203\"/>\n      <use xlink:href=\"#DejaVuSans-63\" x=\"121.638672\"/>\n      <use xlink:href=\"#DejaVuSans-75\" x=\"176.619141\"/>\n      <use xlink:href=\"#DejaVuSans-72\" x=\"239.998047\"/>\n      <use xlink:href=\"#DejaVuSans-61\" x=\"281.111328\"/>\n      <use xlink:href=\"#DejaVuSans-63\" x=\"342.390625\"/>\n      <use xlink:href=\"#DejaVuSans-79\" x=\"397.371094\"/>\n     </g>\n    </g>\n   </g>\n   <g id=\"line2d_31\">\n    <path d=\"M 75.507386 339.838125 \nL 80.631353 327.693114 \nL 85.75532 310.481222 \nL 90.879287 294.324482 \nL 96.003254 284.528799 \nL 101.127221 273.751178 \nL 106.251188 264.192366 \nL 111.375155 261.998081 \nL 116.499122 254.721842 \nL 121.623089 244.338288 \nL 126.747056 230.830194 \nL 131.871023 221.437191 \nL 136.99499 209.858517 \nL 142.118957 202.853602 \nL 147.242924 195.426626 \nL 152.36689 184.282933 \nL 157.490857 178.156593 \nL 162.614824 172.415707 \nL 167.738791 162.990403 \nL 172.862758 159.799108 \nL 177.986725 152.807113 \nL 183.110692 146.226412 \nL 188.234659 142.466627 \nL 193.358626 135.638289 \nL 198.482593 129.115729 \nL 203.60656 123.644014 \nL 208.730527 121.236546 \nL 213.854494 117.972036 \nL 218.978461 114.242398 \nL 224.102428 110.14884 \nL 229.226395 108.729769 \nL 234.350362 107.181495 \nL 239.474329 106.656073 \nL 244.598295 100.773064 \nL 249.722262 95.253975 \nL 254.846229 90.221547 \nL 259.970196 78.179899 \nL 265.094163 72.294736 \nL 270.21813 66.306213 \nL 275.342097 62.636869 \nL 280.466064 61.452515 \nL 285.590031 60.959393 \nL 290.713998 60.922786 \nL 295.837965 60.660075 \nL 300.961932 59.057967 \nL 306.085899 58.607912 \nL 311.209866 58.607912 \nL 316.333833 57.016571 \nL 321.4578 56.732326 \nL 326.581767 56.181064 \nL 331.705733 55.268034 \nL 336.8297 50.976367 \nL 341.953667 46.189424 \nL 347.077634 43.958531 \nL 352.201601 39.8499 \nL 357.325568 39.839133 \nL 362.449535 38.109977 \nL 367.573502 38.08629 \nL 372.697469 38.08629 \nL 377.821436 38.08629 \nL 382.945403 38.08629 \nL 388.06937 38.08629 \nL 393.193337 38.08629 \nL 398.317304 38.08629 \nL 403.441271 38.08629 \nL 408.565238 38.08629 \nL 413.689205 37.810658 \nL 418.813171 37.810658 \nL 423.937138 37.810658 \nL 429.061105 37.498419 \nL 434.185072 37.438125 \nL 439.309039 37.438125 \nL 444.433006 37.438125 \nL 449.556973 37.438125 \nL 454.68094 37.438125 \nL 459.804907 37.438125 \nL 464.928874 37.438125 \nL 470.052841 37.438125 \nL 475.176808 37.438125 \nL 480.300775 37.438125 \nL 485.424742 37.438125 \nL 490.548709 37.438125 \nL 495.672676 37.438125 \nL 500.796643 37.438125 \nL 505.92061 37.438125 \nL 511.044576 37.438125 \nL 516.168543 37.438125 \nL 521.29251 37.438125 \nL 526.416477 37.438125 \nL 531.540444 37.438125 \nL 536.664411 37.438125 \nL 541.788378 37.438125 \nL 546.912345 37.438125 \nL 552.036312 37.438125 \nL 557.160279 37.438125 \nL 562.284246 37.438125 \nL 567.408213 37.438125 \nL 572.53218 37.438125 \nL 577.656147 37.438125 \nL 582.780114 37.438125 \n\" clip-path=\"url(#pbcb7357007)\" style=\"fill: none; stroke: #0000ff; stroke-width: 1.5; stroke-linecap: square\"/>\n   </g>\n   <g id=\"line2d_32\">\n    <path d=\"M 75.507386 37.438125 \nL 80.631353 37.438125 \nL 85.75532 37.438125 \nL 90.879287 37.438125 \nL 96.003254 37.438125 \nL 101.127221 37.438125 \nL 106.251188 37.438125 \nL 111.375155 37.438125 \nL 116.499122 37.438125 \nL 121.623089 37.438125 \nL 126.747056 37.438125 \nL 131.871023 37.438125 \nL 136.99499 37.438125 \nL 142.118957 37.438125 \nL 147.242924 37.438125 \nL 152.36689 37.438125 \nL 157.490857 37.438125 \nL 162.614824 37.438125 \nL 167.738791 37.438125 \nL 172.862758 37.438125 \nL 177.986725 37.438125 \nL 183.110692 37.438125 \nL 188.234659 37.438125 \nL 193.358626 37.438125 \nL 198.482593 37.438125 \nL 203.60656 37.438125 \nL 208.730527 37.438125 \nL 213.854494 37.438125 \nL 218.978461 37.438125 \nL 224.102428 37.438125 \nL 229.226395 37.438125 \nL 234.350362 37.438125 \nL 239.474329 37.438125 \nL 244.598295 37.438125 \nL 249.722262 37.438125 \nL 254.846229 37.438125 \nL 259.970196 37.438125 \nL 265.094163 37.438125 \nL 270.21813 37.438125 \nL 275.342097 37.438125 \nL 280.466064 37.438125 \nL 285.590031 37.438125 \nL 290.713998 37.438125 \nL 295.837965 37.438125 \nL 300.961932 37.438125 \nL 306.085899 37.438125 \nL 311.209866 37.438125 \nL 316.333833 37.438125 \nL 321.4578 37.438125 \nL 326.581767 37.438125 \nL 331.705733 37.438125 \nL 336.8297 37.438125 \nL 341.953667 37.438125 \nL 347.077634 37.438125 \nL 352.201601 37.438125 \nL 357.325568 37.438125 \nL 362.449535 37.438125 \nL 367.573502 37.438125 \nL 372.697469 37.438125 \nL 377.821436 37.438125 \nL 382.945403 37.438125 \nL 388.06937 37.438125 \nL 393.193337 37.438125 \nL 398.317304 37.438125 \nL 403.441271 37.438125 \nL 408.565238 37.438125 \nL 413.689205 37.438125 \nL 418.813171 37.438125 \nL 423.937138 37.438125 \nL 429.061105 37.438125 \nL 434.185072 37.438125 \nL 439.309039 37.438125 \nL 444.433006 37.438125 \nL 449.556973 37.438125 \nL 454.68094 37.438125 \nL 459.804907 37.438125 \nL 464.928874 37.438125 \nL 470.052841 37.438125 \nL 475.176808 37.438125 \nL 480.300775 37.438125 \nL 485.424742 37.438125 \nL 490.548709 37.438125 \nL 495.672676 37.438125 \nL 500.796643 37.438125 \nL 505.92061 37.438125 \nL 511.044576 37.438125 \nL 516.168543 37.438125 \nL 521.29251 37.438125 \nL 526.416477 37.438125 \nL 531.540444 37.438125 \nL 536.664411 37.438125 \nL 541.788378 37.438125 \nL 546.912345 37.438125 \nL 552.036312 37.438125 \nL 557.160279 37.438125 \nL 562.284246 37.438125 \nL 567.408213 37.438125 \nL 572.53218 37.438125 \nL 577.656147 37.438125 \nL 582.780114 37.438125 \n\" clip-path=\"url(#pbcb7357007)\" style=\"fill: none; stroke: #008000; stroke-width: 1.5; stroke-linecap: square\"/>\n   </g>\n   <g id=\"line2d_33\">\n    <path d=\"M 434.185072 354.958125 \nL 434.185072 22.318125 \n\" clip-path=\"url(#pbcb7357007)\" style=\"fill: none; stroke-dasharray: 5.55,2.4; stroke-dashoffset: 0; stroke: #ff0000; stroke-width: 1.5\"/>\n   </g>\n   <g id=\"patch_3\">\n    <path d=\"M 50.14375 354.958125 \nL 50.14375 22.318125 \n\" style=\"fill: none; stroke: #000000; stroke-width: 0.8; stroke-linejoin: miter; stroke-linecap: square\"/>\n   </g>\n   <g id=\"patch_4\">\n    <path d=\"M 608.14375 354.958125 \nL 608.14375 22.318125 \n\" style=\"fill: none; stroke: #000000; stroke-width: 0.8; stroke-linejoin: miter; stroke-linecap: square\"/>\n   </g>\n   <g id=\"patch_5\">\n    <path d=\"M 50.14375 354.958125 \nL 608.14375 354.958125 \n\" style=\"fill: none; stroke: #000000; stroke-width: 0.8; stroke-linejoin: miter; stroke-linecap: square\"/>\n   </g>\n   <g id=\"patch_6\">\n    <path d=\"M 50.14375 22.318125 \nL 608.14375 22.318125 \n\" style=\"fill: none; stroke: #000000; stroke-width: 0.8; stroke-linejoin: miter; stroke-linecap: square\"/>\n   </g>\n   <g id=\"text_18\">\n    <!-- 0.84 -->\n    <g transform=\"translate(407.466322 34.9425) scale(0.12 -0.12)\">\n     <defs>\n      <path id=\"DejaVuSans-34\" d=\"M 2419 4116 \nL 825 1625 \nL 2419 1625 \nL 2419 4116 \nz\nM 2253 4666 \nL 3047 4666 \nL 3047 1625 \nL 3713 1625 \nL 3713 1100 \nL 3047 1100 \nL 3047 0 \nL 2419 0 \nL 2419 1100 \nL 313 1100 \nL 313 1709 \nL 2253 4666 \nz\n\" transform=\"scale(0.015625)\"/>\n     </defs>\n     <use xlink:href=\"#DejaVuSans-30\"/>\n     <use xlink:href=\"#DejaVuSans-2e\" x=\"63.623047\"/>\n     <use xlink:href=\"#DejaVuSans-38\" x=\"95.410156\"/>\n     <use xlink:href=\"#DejaVuSans-34\" x=\"159.033203\"/>\n    </g>\n   </g>\n   <g id=\"text_19\">\n    <!-- 0.84 -->\n    <g transform=\"translate(407.466322 46.55625) scale(0.12 -0.12)\">\n     <use xlink:href=\"#DejaVuSans-30\"/>\n     <use xlink:href=\"#DejaVuSans-2e\" x=\"63.623047\"/>\n     <use xlink:href=\"#DejaVuSans-38\" x=\"95.410156\"/>\n     <use xlink:href=\"#DejaVuSans-34\" x=\"159.033203\"/>\n    </g>\n   </g>\n   <g id=\"text_20\">\n    <!-- Accuracy vs Threshold for Predicting \"yes\" and \"no\" -->\n    <g transform=\"translate(173.79625 16.318125) scale(0.12 -0.12)\">\n     <defs>\n      <path id=\"DejaVuSans-20\" transform=\"scale(0.015625)\"/>\n      <path id=\"DejaVuSans-76\" d=\"M 191 3500 \nL 800 3500 \nL 1894 563 \nL 2988 3500 \nL 3597 3500 \nL 2284 0 \nL 1503 0 \nL 191 3500 \nz\n\" transform=\"scale(0.015625)\"/>\n      <path id=\"DejaVuSans-66\" d=\"M 2375 4863 \nL 2375 4384 \nL 1825 4384 \nQ 1516 4384 1395 4259 \nQ 1275 4134 1275 3809 \nL 1275 3500 \nL 2222 3500 \nL 2222 3053 \nL 1275 3053 \nL 1275 0 \nL 697 0 \nL 697 3053 \nL 147 3053 \nL 147 3500 \nL 697 3500 \nL 697 3744 \nQ 697 4328 969 4595 \nQ 1241 4863 1831 4863 \nL 2375 4863 \nz\n\" transform=\"scale(0.015625)\"/>\n      <path id=\"DejaVuSans-50\" d=\"M 1259 4147 \nL 1259 2394 \nL 2053 2394 \nQ 2494 2394 2734 2622 \nQ 2975 2850 2975 3272 \nQ 2975 3691 2734 3919 \nQ 2494 4147 2053 4147 \nL 1259 4147 \nz\nM 628 4666 \nL 2053 4666 \nQ 2838 4666 3239 4311 \nQ 3641 3956 3641 3272 \nQ 3641 2581 3239 2228 \nQ 2838 1875 2053 1875 \nL 1259 1875 \nL 1259 0 \nL 628 0 \nL 628 4666 \nz\n\" transform=\"scale(0.015625)\"/>\n      <path id=\"DejaVuSans-69\" d=\"M 603 3500 \nL 1178 3500 \nL 1178 0 \nL 603 0 \nL 603 3500 \nz\nM 603 4863 \nL 1178 4863 \nL 1178 4134 \nL 603 4134 \nL 603 4863 \nz\n\" transform=\"scale(0.015625)\"/>\n      <path id=\"DejaVuSans-74\" d=\"M 1172 4494 \nL 1172 3500 \nL 2356 3500 \nL 2356 3053 \nL 1172 3053 \nL 1172 1153 \nQ 1172 725 1289 603 \nQ 1406 481 1766 481 \nL 2356 481 \nL 2356 0 \nL 1766 0 \nQ 1100 0 847 248 \nQ 594 497 594 1153 \nL 594 3053 \nL 172 3053 \nL 172 3500 \nL 594 3500 \nL 594 4494 \nL 1172 4494 \nz\n\" transform=\"scale(0.015625)\"/>\n      <path id=\"DejaVuSans-6e\" d=\"M 3513 2113 \nL 3513 0 \nL 2938 0 \nL 2938 2094 \nQ 2938 2591 2744 2837 \nQ 2550 3084 2163 3084 \nQ 1697 3084 1428 2787 \nQ 1159 2491 1159 1978 \nL 1159 0 \nL 581 0 \nL 581 3500 \nL 1159 3500 \nL 1159 2956 \nQ 1366 3272 1645 3428 \nQ 1925 3584 2291 3584 \nQ 2894 3584 3203 3211 \nQ 3513 2838 3513 2113 \nz\n\" transform=\"scale(0.015625)\"/>\n      <path id=\"DejaVuSans-67\" d=\"M 2906 1791 \nQ 2906 2416 2648 2759 \nQ 2391 3103 1925 3103 \nQ 1463 3103 1205 2759 \nQ 947 2416 947 1791 \nQ 947 1169 1205 825 \nQ 1463 481 1925 481 \nQ 2391 481 2648 825 \nQ 2906 1169 2906 1791 \nz\nM 3481 434 \nQ 3481 -459 3084 -895 \nQ 2688 -1331 1869 -1331 \nQ 1566 -1331 1297 -1286 \nQ 1028 -1241 775 -1147 \nL 775 -588 \nQ 1028 -725 1275 -790 \nQ 1522 -856 1778 -856 \nQ 2344 -856 2625 -561 \nQ 2906 -266 2906 331 \nL 2906 616 \nQ 2728 306 2450 153 \nQ 2172 0 1784 0 \nQ 1141 0 747 490 \nQ 353 981 353 1791 \nQ 353 2603 747 3093 \nQ 1141 3584 1784 3584 \nQ 2172 3584 2450 3431 \nQ 2728 3278 2906 2969 \nL 2906 3500 \nL 3481 3500 \nL 3481 434 \nz\n\" transform=\"scale(0.015625)\"/>\n      <path id=\"DejaVuSans-22\" d=\"M 1147 4666 \nL 1147 2931 \nL 616 2931 \nL 616 4666 \nL 1147 4666 \nz\nM 2328 4666 \nL 2328 2931 \nL 1797 2931 \nL 1797 4666 \nL 2328 4666 \nz\n\" transform=\"scale(0.015625)\"/>\n     </defs>\n     <use xlink:href=\"#DejaVuSans-41\"/>\n     <use xlink:href=\"#DejaVuSans-63\" x=\"66.658203\"/>\n     <use xlink:href=\"#DejaVuSans-63\" x=\"121.638672\"/>\n     <use xlink:href=\"#DejaVuSans-75\" x=\"176.619141\"/>\n     <use xlink:href=\"#DejaVuSans-72\" x=\"239.998047\"/>\n     <use xlink:href=\"#DejaVuSans-61\" x=\"281.111328\"/>\n     <use xlink:href=\"#DejaVuSans-63\" x=\"342.390625\"/>\n     <use xlink:href=\"#DejaVuSans-79\" x=\"397.371094\"/>\n     <use xlink:href=\"#DejaVuSans-20\" x=\"456.550781\"/>\n     <use xlink:href=\"#DejaVuSans-76\" x=\"488.337891\"/>\n     <use xlink:href=\"#DejaVuSans-73\" x=\"547.517578\"/>\n     <use xlink:href=\"#DejaVuSans-20\" x=\"599.617188\"/>\n     <use xlink:href=\"#DejaVuSans-54\" x=\"631.404297\"/>\n     <use xlink:href=\"#DejaVuSans-68\" x=\"692.488281\"/>\n     <use xlink:href=\"#DejaVuSans-72\" x=\"755.867188\"/>\n     <use xlink:href=\"#DejaVuSans-65\" x=\"794.730469\"/>\n     <use xlink:href=\"#DejaVuSans-73\" x=\"856.253906\"/>\n     <use xlink:href=\"#DejaVuSans-68\" x=\"908.353516\"/>\n     <use xlink:href=\"#DejaVuSans-6f\" x=\"971.732422\"/>\n     <use xlink:href=\"#DejaVuSans-6c\" x=\"1032.914062\"/>\n     <use xlink:href=\"#DejaVuSans-64\" x=\"1060.697266\"/>\n     <use xlink:href=\"#DejaVuSans-20\" x=\"1124.173828\"/>\n     <use xlink:href=\"#DejaVuSans-66\" x=\"1155.960938\"/>\n     <use xlink:href=\"#DejaVuSans-6f\" x=\"1191.166016\"/>\n     <use xlink:href=\"#DejaVuSans-72\" x=\"1252.347656\"/>\n     <use xlink:href=\"#DejaVuSans-20\" x=\"1293.460938\"/>\n     <use xlink:href=\"#DejaVuSans-50\" x=\"1325.248047\"/>\n     <use xlink:href=\"#DejaVuSans-72\" x=\"1383.800781\"/>\n     <use xlink:href=\"#DejaVuSans-65\" x=\"1422.664062\"/>\n     <use xlink:href=\"#DejaVuSans-64\" x=\"1484.1875\"/>\n     <use xlink:href=\"#DejaVuSans-69\" x=\"1547.664062\"/>\n     <use xlink:href=\"#DejaVuSans-63\" x=\"1575.447266\"/>\n     <use xlink:href=\"#DejaVuSans-74\" x=\"1630.427734\"/>\n     <use xlink:href=\"#DejaVuSans-69\" x=\"1669.636719\"/>\n     <use xlink:href=\"#DejaVuSans-6e\" x=\"1697.419922\"/>\n     <use xlink:href=\"#DejaVuSans-67\" x=\"1760.798828\"/>\n     <use xlink:href=\"#DejaVuSans-20\" x=\"1824.275391\"/>\n     <use xlink:href=\"#DejaVuSans-22\" x=\"1856.0625\"/>\n     <use xlink:href=\"#DejaVuSans-79\" x=\"1902.058594\"/>\n     <use xlink:href=\"#DejaVuSans-65\" x=\"1961.238281\"/>\n     <use xlink:href=\"#DejaVuSans-73\" x=\"2022.761719\"/>\n     <use xlink:href=\"#DejaVuSans-22\" x=\"2074.861328\"/>\n     <use xlink:href=\"#DejaVuSans-20\" x=\"2120.857422\"/>\n     <use xlink:href=\"#DejaVuSans-61\" x=\"2152.644531\"/>\n     <use xlink:href=\"#DejaVuSans-6e\" x=\"2213.923828\"/>\n     <use xlink:href=\"#DejaVuSans-64\" x=\"2277.302734\"/>\n     <use xlink:href=\"#DejaVuSans-20\" x=\"2340.779297\"/>\n     <use xlink:href=\"#DejaVuSans-22\" x=\"2372.566406\"/>\n     <use xlink:href=\"#DejaVuSans-6e\" x=\"2418.5625\"/>\n     <use xlink:href=\"#DejaVuSans-6f\" x=\"2481.941406\"/>\n     <use xlink:href=\"#DejaVuSans-22\" x=\"2543.123047\"/>\n    </g>\n   </g>\n   <g id=\"PathCollection_1\">\n    <defs>\n     <path id=\"m0b56aa5a13\" d=\"M 0 3 \nC 0.795609 3 1.55874 2.683901 2.12132 2.12132 \nC 2.683901 1.55874 3 0.795609 3 0 \nC 3 -0.795609 2.683901 -1.55874 2.12132 -2.12132 \nC 1.55874 -2.683901 0.795609 -3 0 -3 \nC -0.795609 -3 -1.55874 -2.683901 -2.12132 -2.12132 \nC -2.683901 -1.55874 -3 -0.795609 -3 0 \nC -3 0.795609 -2.683901 1.55874 -2.12132 2.12132 \nC -1.55874 2.683901 -0.795609 3 0 3 \nz\n\" style=\"stroke: #ff0000\"/>\n    </defs>\n    <g clip-path=\"url(#pbcb7357007)\">\n     <use xlink:href=\"#m0b56aa5a13\" x=\"434.185072\" y=\"37.438125\" style=\"fill: #ff0000; stroke: #ff0000\"/>\n    </g>\n   </g>\n   <g id=\"PathCollection_2\">\n    <g clip-path=\"url(#pbcb7357007)\">\n     <use xlink:href=\"#m0b56aa5a13\" x=\"434.185072\" y=\"37.438125\" style=\"fill: #ff0000; stroke: #ff0000\"/>\n    </g>\n   </g>\n   <g id=\"legend_1\">\n    <g id=\"patch_7\">\n     <path d=\"M 448.310938 349.958125 \nL 601.14375 349.958125 \nQ 603.14375 349.958125 603.14375 347.958125 \nL 603.14375 304.92375 \nQ 603.14375 302.92375 601.14375 302.92375 \nL 448.310938 302.92375 \nQ 446.310938 302.92375 446.310938 304.92375 \nL 446.310938 347.958125 \nQ 446.310938 349.958125 448.310938 349.958125 \nz\n\" style=\"fill: #ffffff; opacity: 0.8; stroke: #cccccc; stroke-linejoin: miter\"/>\n    </g>\n    <g id=\"line2d_34\">\n     <path d=\"M 450.310938 311.022187 \nL 460.310938 311.022187 \nL 470.310938 311.022187 \n\" style=\"fill: none; stroke: #0000ff; stroke-width: 1.5; stroke-linecap: square\"/>\n    </g>\n    <g id=\"text_21\">\n     <!-- Accuracy \"yes\" -->\n     <g transform=\"translate(478.310938 314.522187) scale(0.1 -0.1)\">\n      <use xlink:href=\"#DejaVuSans-41\"/>\n      <use xlink:href=\"#DejaVuSans-63\" x=\"66.658203\"/>\n      <use xlink:href=\"#DejaVuSans-63\" x=\"121.638672\"/>\n      <use xlink:href=\"#DejaVuSans-75\" x=\"176.619141\"/>\n      <use xlink:href=\"#DejaVuSans-72\" x=\"239.998047\"/>\n      <use xlink:href=\"#DejaVuSans-61\" x=\"281.111328\"/>\n      <use xlink:href=\"#DejaVuSans-63\" x=\"342.390625\"/>\n      <use xlink:href=\"#DejaVuSans-79\" x=\"397.371094\"/>\n      <use xlink:href=\"#DejaVuSans-20\" x=\"456.550781\"/>\n      <use xlink:href=\"#DejaVuSans-22\" x=\"488.337891\"/>\n      <use xlink:href=\"#DejaVuSans-79\" x=\"534.333984\"/>\n      <use xlink:href=\"#DejaVuSans-65\" x=\"593.513672\"/>\n      <use xlink:href=\"#DejaVuSans-73\" x=\"655.037109\"/>\n      <use xlink:href=\"#DejaVuSans-22\" x=\"707.136719\"/>\n     </g>\n    </g>\n    <g id=\"line2d_35\">\n     <path d=\"M 450.310938 325.700312 \nL 460.310938 325.700312 \nL 470.310938 325.700312 \n\" style=\"fill: none; stroke: #008000; stroke-width: 1.5; stroke-linecap: square\"/>\n    </g>\n    <g id=\"text_22\">\n     <!-- Accuracy \"no\" -->\n     <g transform=\"translate(478.310938 329.200312) scale(0.1 -0.1)\">\n      <use xlink:href=\"#DejaVuSans-41\"/>\n      <use xlink:href=\"#DejaVuSans-63\" x=\"66.658203\"/>\n      <use xlink:href=\"#DejaVuSans-63\" x=\"121.638672\"/>\n      <use xlink:href=\"#DejaVuSans-75\" x=\"176.619141\"/>\n      <use xlink:href=\"#DejaVuSans-72\" x=\"239.998047\"/>\n      <use xlink:href=\"#DejaVuSans-61\" x=\"281.111328\"/>\n      <use xlink:href=\"#DejaVuSans-63\" x=\"342.390625\"/>\n      <use xlink:href=\"#DejaVuSans-79\" x=\"397.371094\"/>\n      <use xlink:href=\"#DejaVuSans-20\" x=\"456.550781\"/>\n      <use xlink:href=\"#DejaVuSans-22\" x=\"488.337891\"/>\n      <use xlink:href=\"#DejaVuSans-6e\" x=\"534.333984\"/>\n      <use xlink:href=\"#DejaVuSans-6f\" x=\"597.712891\"/>\n      <use xlink:href=\"#DejaVuSans-22\" x=\"658.894531\"/>\n     </g>\n    </g>\n    <g id=\"line2d_36\">\n     <path d=\"M 450.310938 340.378437 \nL 460.310938 340.378437 \nL 470.310938 340.378437 \n\" style=\"fill: none; stroke-dasharray: 5.55,2.4; stroke-dashoffset: 0; stroke: #ff0000; stroke-width: 1.5\"/>\n    </g>\n    <g id=\"text_23\">\n     <!-- Threshold Optimal: 0.17 -->\n     <g transform=\"translate(478.310938 343.878437) scale(0.1 -0.1)\">\n      <defs>\n       <path id=\"DejaVuSans-4f\" d=\"M 2522 4238 \nQ 1834 4238 1429 3725 \nQ 1025 3213 1025 2328 \nQ 1025 1447 1429 934 \nQ 1834 422 2522 422 \nQ 3209 422 3611 934 \nQ 4013 1447 4013 2328 \nQ 4013 3213 3611 3725 \nQ 3209 4238 2522 4238 \nz\nM 2522 4750 \nQ 3503 4750 4090 4092 \nQ 4678 3434 4678 2328 \nQ 4678 1225 4090 567 \nQ 3503 -91 2522 -91 \nQ 1538 -91 948 565 \nQ 359 1222 359 2328 \nQ 359 3434 948 4092 \nQ 1538 4750 2522 4750 \nz\n\" transform=\"scale(0.015625)\"/>\n       <path id=\"DejaVuSans-70\" d=\"M 1159 525 \nL 1159 -1331 \nL 581 -1331 \nL 581 3500 \nL 1159 3500 \nL 1159 2969 \nQ 1341 3281 1617 3432 \nQ 1894 3584 2278 3584 \nQ 2916 3584 3314 3078 \nQ 3713 2572 3713 1747 \nQ 3713 922 3314 415 \nQ 2916 -91 2278 -91 \nQ 1894 -91 1617 61 \nQ 1341 213 1159 525 \nz\nM 3116 1747 \nQ 3116 2381 2855 2742 \nQ 2594 3103 2138 3103 \nQ 1681 3103 1420 2742 \nQ 1159 2381 1159 1747 \nQ 1159 1113 1420 752 \nQ 1681 391 2138 391 \nQ 2594 391 2855 752 \nQ 3116 1113 3116 1747 \nz\n\" transform=\"scale(0.015625)\"/>\n       <path id=\"DejaVuSans-6d\" d=\"M 3328 2828 \nQ 3544 3216 3844 3400 \nQ 4144 3584 4550 3584 \nQ 5097 3584 5394 3201 \nQ 5691 2819 5691 2113 \nL 5691 0 \nL 5113 0 \nL 5113 2094 \nQ 5113 2597 4934 2840 \nQ 4756 3084 4391 3084 \nQ 3944 3084 3684 2787 \nQ 3425 2491 3425 1978 \nL 3425 0 \nL 2847 0 \nL 2847 2094 \nQ 2847 2600 2669 2842 \nQ 2491 3084 2119 3084 \nQ 1678 3084 1418 2786 \nQ 1159 2488 1159 1978 \nL 1159 0 \nL 581 0 \nL 581 3500 \nL 1159 3500 \nL 1159 2956 \nQ 1356 3278 1631 3431 \nQ 1906 3584 2284 3584 \nQ 2666 3584 2933 3390 \nQ 3200 3197 3328 2828 \nz\n\" transform=\"scale(0.015625)\"/>\n       <path id=\"DejaVuSans-3a\" d=\"M 750 794 \nL 1409 794 \nL 1409 0 \nL 750 0 \nL 750 794 \nz\nM 750 3309 \nL 1409 3309 \nL 1409 2516 \nL 750 2516 \nL 750 3309 \nz\n\" transform=\"scale(0.015625)\"/>\n      </defs>\n      <use xlink:href=\"#DejaVuSans-54\"/>\n      <use xlink:href=\"#DejaVuSans-68\" x=\"61.083984\"/>\n      <use xlink:href=\"#DejaVuSans-72\" x=\"124.462891\"/>\n      <use xlink:href=\"#DejaVuSans-65\" x=\"163.326172\"/>\n      <use xlink:href=\"#DejaVuSans-73\" x=\"224.849609\"/>\n      <use xlink:href=\"#DejaVuSans-68\" x=\"276.949219\"/>\n      <use xlink:href=\"#DejaVuSans-6f\" x=\"340.328125\"/>\n      <use xlink:href=\"#DejaVuSans-6c\" x=\"401.509766\"/>\n      <use xlink:href=\"#DejaVuSans-64\" x=\"429.292969\"/>\n      <use xlink:href=\"#DejaVuSans-20\" x=\"492.769531\"/>\n      <use xlink:href=\"#DejaVuSans-4f\" x=\"524.556641\"/>\n      <use xlink:href=\"#DejaVuSans-70\" x=\"603.267578\"/>\n      <use xlink:href=\"#DejaVuSans-74\" x=\"666.744141\"/>\n      <use xlink:href=\"#DejaVuSans-69\" x=\"705.953125\"/>\n      <use xlink:href=\"#DejaVuSans-6d\" x=\"733.736328\"/>\n      <use xlink:href=\"#DejaVuSans-61\" x=\"831.148438\"/>\n      <use xlink:href=\"#DejaVuSans-6c\" x=\"892.427734\"/>\n      <use xlink:href=\"#DejaVuSans-3a\" x=\"920.210938\"/>\n      <use xlink:href=\"#DejaVuSans-20\" x=\"953.902344\"/>\n      <use xlink:href=\"#DejaVuSans-30\" x=\"985.689453\"/>\n      <use xlink:href=\"#DejaVuSans-2e\" x=\"1049.3125\"/>\n      <use xlink:href=\"#DejaVuSans-31\" x=\"1081.099609\"/>\n      <use xlink:href=\"#DejaVuSans-37\" x=\"1144.722656\"/>\n     </g>\n    </g>\n   </g>\n  </g>\n </g>\n <defs>\n  <clipPath id=\"pbcb7357007\">\n   <rect x=\"50.14375\" y=\"22.318125\" width=\"558\" height=\"332.64\"/>\n  </clipPath>\n </defs>\n</svg>\n"
          },
          "metadata": {}
        }
      ]
    },
    {
      "cell_type": "markdown",
      "source": [
        "# Modèle simple"
      ],
      "metadata": {
        "id": "yWu4lT8GC-m0"
      }
    },
    {
      "cell_type": "code",
      "source": [
        "# Entrainement\n",
        "bn_simple = gum.BayesNet(\"modele simple\")\n",
        "\n",
        "for var in var_bn.values():\n",
        "    bn_simple.add(var)\n",
        "\n",
        "bn_simple.addArc(\"weekday_a1\", \"lead_answered_a2\")\n",
        "bn_simple.addArc(\"weekday_a2\", \"lead_answered_a2\")\n",
        "bn_simple.addArc(\"hour_a1\", \"lead_answered_a2\")\n",
        "bn_simple.addArc(\"hour_a2\", \"lead_answered_a2\")\n",
        "bn_simple.addArc(\"caller_has_changed_a2\", \"lead_answered_a2\")\n",
        "\n",
        "learner = gum.BNLearner(X_train)\n",
        "learner.useSmoothingPrior(1)\n",
        "learner.fitParameters(bn_simple)"
      ],
      "metadata": {
        "id": "UqWFimY4C9oi",
        "colab": {
          "base_uri": "https://localhost:8080/"
        },
        "outputId": "4668f899-ea6d-4471-bdcd-5a095f86ee9a"
      },
      "execution_count": null,
      "outputs": [
        {
          "output_type": "execute_result",
          "data": {
            "text/plain": [
              "(pyAgrum.BNLearner<double>@0x5838298656a0) Filename       : /tmp/tmpug8v_6pq.csv\n",
              "Size           : (2259276,6)\n",
              "Variables      : weekday_a1[5], hour_a1[9], weekday_a2[5], hour_a2[9], caller_has_changed_a2[2], lead_answered_a2[2]\n",
              "Induced types  : True\n",
              "Missing values : False\n",
              "Algorithm      : MIIC\n",
              "Score          : BDeu  (Not used for constraint-based algorithms)\n",
              "Correction     : MDL  (Not used for score-based algorithms)\n",
              "Prior          : Smoothing\n",
              "Prior weight   : 1.000000"
            ]
          },
          "metadata": {},
          "execution_count": 24
        }
      ]
    },
    {
      "cell_type": "code",
      "source": [
        "gnb.showBN(bn_simple, size=10)"
      ],
      "metadata": {
        "id": "L-Dg93wYFj6N",
        "colab": {
          "base_uri": "https://localhost:8080/",
          "height": 176
        },
        "outputId": "2cb01a3f-0e35-4c23-a58b-9bd5004b24e5"
      },
      "execution_count": null,
      "outputs": [
        {
          "output_type": "display_data",
          "data": {
            "text/plain": [
              "<IPython.core.display.SVG object>"
            ],
            "image/svg+xml": "<svg xmlns=\"http://www.w3.org/2000/svg\" xmlns:xlink=\"http://www.w3.org/1999/xlink\" width=\"643pt\" height=\"116pt\" viewBox=\"0.00 0.00 642.54 116.00\">\n<g id=\"graph0\" class=\"graph\" transform=\"scale(1 1) rotate(0) translate(4 112)\">\n<title>G</title>\n<!-- caller_has_changed_a2 -->\n<g id=\"node1\" class=\"node\">\n<title>caller_has_changed_a2</title>\n<g id=\"a_node1\"><a xlink:title=\"(4) caller_has_changed_a2\">\n<ellipse fill=\"#404040\" stroke=\"#4a4a4a\" cx=\"92.94\" cy=\"-90\" rx=\"92.88\" ry=\"18\"/>\n<text text-anchor=\"middle\" x=\"92.94\" y=\"-86.3\" font-family=\"Times,serif\" font-size=\"14.00\" fill=\"white\">caller_has_changed_a2</text>\n</a>\n</g>\n</g>\n<!-- lead_answered_a2 -->\n<g id=\"node6\" class=\"node\">\n<title>lead_answered_a2</title>\n<g id=\"a_node6\"><a xlink:title=\"(5) lead_answered_a2\">\n<ellipse fill=\"#404040\" stroke=\"#4a4a4a\" cx=\"370.94\" cy=\"-18\" rx=\"75.29\" ry=\"18\"/>\n<text text-anchor=\"middle\" x=\"370.94\" y=\"-14.3\" font-family=\"Times,serif\" font-size=\"14.00\" fill=\"white\">lead_answered_a2</text>\n</a>\n</g>\n</g>\n<!-- caller_has_changed_a2&#45;&gt;lead_answered_a2 -->\n<g id=\"edge2\" class=\"edge\">\n<title>caller_has_changed_a2-&gt;lead_answered_a2</title>\n<g id=\"a_edge2\"><a xlink:title=\"4 → 5\">\n<path fill=\"none\" stroke=\"#4a4a4a\" d=\"M147.2,-75.34C194.36,-63.46 262.56,-46.29 311.25,-34.03\"/>\n<polygon fill=\"#4a4a4a\" stroke=\"#4a4a4a\" points=\"312.18,-37.41 321.02,-31.57 310.47,-30.62 312.18,-37.41\"/>\n</a>\n</g>\n</g>\n<!-- weekday_a1 -->\n<g id=\"node2\" class=\"node\">\n<title>weekday_a1</title>\n<g id=\"a_node2\"><a xlink:title=\"(0) weekday_a1\">\n<ellipse fill=\"#404040\" stroke=\"#4a4a4a\" cx=\"258.94\" cy=\"-90\" rx=\"54.69\" ry=\"18\"/>\n<text text-anchor=\"middle\" x=\"258.94\" y=\"-86.3\" font-family=\"Times,serif\" font-size=\"14.00\" fill=\"white\">weekday_a1</text>\n</a>\n</g>\n</g>\n<!-- weekday_a1&#45;&gt;lead_answered_a2 -->\n<g id=\"edge3\" class=\"edge\">\n<title>weekday_a1-&gt;lead_answered_a2</title>\n<g id=\"a_edge3\"><a xlink:title=\"0 → 5\">\n<path fill=\"none\" stroke=\"#4a4a4a\" d=\"M283.24,-73.81C298.8,-64.09 319.23,-51.32 336.46,-40.55\"/>\n<polygon fill=\"#4a4a4a\" stroke=\"#4a4a4a\" points=\"338.5,-43.4 345.13,-35.13 334.79,-37.47 338.5,-43.4\"/>\n</a>\n</g>\n</g>\n<!-- hour_a2 -->\n<g id=\"node3\" class=\"node\">\n<title>hour_a2</title>\n<g id=\"a_node3\"><a xlink:title=\"(3) hour_a2\">\n<ellipse fill=\"#404040\" stroke=\"#4a4a4a\" cx=\"370.94\" cy=\"-90\" rx=\"39.79\" ry=\"18\"/>\n<text text-anchor=\"middle\" x=\"370.94\" y=\"-86.3\" font-family=\"Times,serif\" font-size=\"14.00\" fill=\"white\">hour_a2</text>\n</a>\n</g>\n</g>\n<!-- hour_a2&#45;&gt;lead_answered_a2 -->\n<g id=\"edge5\" class=\"edge\">\n<title>hour_a2-&gt;lead_answered_a2</title>\n<g id=\"a_edge5\"><a xlink:title=\"3 → 5\">\n<path fill=\"none\" stroke=\"#4a4a4a\" d=\"M370.94,-71.7C370.94,-63.98 370.94,-54.71 370.94,-46.11\"/>\n<polygon fill=\"#4a4a4a\" stroke=\"#4a4a4a\" points=\"374.44,-46.1 370.94,-36.1 367.44,-46.1 374.44,-46.1\"/>\n</a>\n</g>\n</g>\n<!-- hour_a1 -->\n<g id=\"node4\" class=\"node\">\n<title>hour_a1</title>\n<g id=\"a_node4\"><a xlink:title=\"(1) hour_a1\">\n<ellipse fill=\"#404040\" stroke=\"#4a4a4a\" cx=\"467.94\" cy=\"-90\" rx=\"39.79\" ry=\"18\"/>\n<text text-anchor=\"middle\" x=\"467.94\" y=\"-86.3\" font-family=\"Times,serif\" font-size=\"14.00\" fill=\"white\">hour_a1</text>\n</a>\n</g>\n</g>\n<!-- hour_a1&#45;&gt;lead_answered_a2 -->\n<g id=\"edge1\" class=\"edge\">\n<title>hour_a1-&gt;lead_answered_a2</title>\n<g id=\"a_edge1\"><a xlink:title=\"1 → 5\">\n<path fill=\"none\" stroke=\"#4a4a4a\" d=\"M447.37,-74.15C434.17,-64.63 416.78,-52.08 401.92,-41.36\"/>\n<polygon fill=\"#4a4a4a\" stroke=\"#4a4a4a\" points=\"403.67,-38.3 393.52,-35.29 399.58,-43.98 403.67,-38.3\"/>\n</a>\n</g>\n</g>\n<!-- weekday_a2 -->\n<g id=\"node5\" class=\"node\">\n<title>weekday_a2</title>\n<g id=\"a_node5\"><a xlink:title=\"(2) weekday_a2\">\n<ellipse fill=\"#404040\" stroke=\"#4a4a4a\" cx=\"579.94\" cy=\"-90\" rx=\"54.69\" ry=\"18\"/>\n<text text-anchor=\"middle\" x=\"579.94\" y=\"-86.3\" font-family=\"Times,serif\" font-size=\"14.00\" fill=\"white\">weekday_a2</text>\n</a>\n</g>\n</g>\n<!-- weekday_a2&#45;&gt;lead_answered_a2 -->\n<g id=\"edge4\" class=\"edge\">\n<title>weekday_a2-&gt;lead_answered_a2</title>\n<g id=\"a_edge4\"><a xlink:title=\"2 → 5\">\n<path fill=\"none\" stroke=\"#4a4a4a\" d=\"M543.06,-76.65C509.6,-65.44 459.94,-48.81 422.55,-36.29\"/>\n<polygon fill=\"#4a4a4a\" stroke=\"#4a4a4a\" points=\"423.44,-32.89 412.84,-33.03 421.21,-39.53 423.44,-32.89\"/>\n</a>\n</g>\n</g>\n</g>\n</svg>"
          },
          "metadata": {}
        }
      ]
    },
    {
      "cell_type": "code",
      "source": [
        "# Prédiction\n",
        "pred_prob_simple = predict(\n",
        "                          bn_simple,\n",
        "                          data=X_test,\n",
        "                          var_target=\"lead_answered_a2\",\n",
        "                          show_progress=True\n",
        "                        )\n",
        "\n",
        "pred_var_simple = pred_prob_simple.idxmax(axis=1).rename(\"pred\")"
      ],
      "metadata": {
        "id": "flRgFoZLGhu9",
        "colab": {
          "base_uri": "https://localhost:8080/"
        },
        "outputId": "503014f1-370e-4476-af04-9a98e46127ac"
      },
      "execution_count": null,
      "outputs": [
        {
          "output_type": "stream",
          "name": "stdout",
          "text": []
        }
      ]
    },
    {
      "cell_type": "code",
      "source": [
        "(y_test == pred_var_simple).mean()"
      ],
      "metadata": {
        "id": "vkzBk_yeG-N4",
        "colab": {
          "base_uri": "https://localhost:8080/"
        },
        "outputId": "a1762f53-d326-4dbb-a360-21ab9f20342d"
      },
      "execution_count": null,
      "outputs": [
        {
          "output_type": "execute_result",
          "data": {
            "text/plain": [
              "0.8421815799723806"
            ]
          },
          "metadata": {},
          "execution_count": 27
        }
      ]
    },
    {
      "cell_type": "code",
      "source": [
        "thresholds = np.linspace(0, 1, 50)\n",
        "scores = []\n",
        "\n",
        "for thresh in thresholds:\n",
        "    pred_binary = pred_prob_simple['yes'].apply(lambda x: \"yes\" if x > thresh else \"no\")\n",
        "    scores.append((y_test == pred_binary).mean())\n",
        "\n",
        "plt.plot(thresholds, scores, 'bo-')\n",
        "plt.xlabel('Threshold')\n",
        "plt.ylabel('Score')\n",
        "plt.show()"
      ],
      "metadata": {
        "id": "vlGjbEwik5eS",
        "colab": {
          "base_uri": "https://localhost:8080/",
          "height": 436
        },
        "outputId": "983f53c6-4949-4404-f1ce-4108d98432ca"
      },
      "execution_count": null,
      "outputs": [
        {
          "output_type": "display_data",
          "data": {
            "text/plain": [
              "<Figure size 640x480 with 1 Axes>"
            ],
            "image/svg+xml": "<?xml version=\"1.0\" encoding=\"utf-8\" standalone=\"no\"?>\n<!DOCTYPE svg PUBLIC \"-//W3C//DTD SVG 1.1//EN\"\n  \"http://www.w3.org/Graphics/SVG/1.1/DTD/svg11.dtd\">\n<svg xmlns:xlink=\"http://www.w3.org/1999/xlink\" width=\"408.10125pt\" height=\"310.86825pt\" viewBox=\"0 0 408.10125 310.86825\" xmlns=\"http://www.w3.org/2000/svg\" version=\"1.1\">\n <metadata>\n  <rdf:RDF xmlns:dc=\"http://purl.org/dc/elements/1.1/\" xmlns:cc=\"http://creativecommons.org/ns#\" xmlns:rdf=\"http://www.w3.org/1999/02/22-rdf-syntax-ns#\">\n   <cc:Work>\n    <dc:type rdf:resource=\"http://purl.org/dc/dcmitype/StillImage\"/>\n    <dc:date>2024-05-24T05:38:28.729450</dc:date>\n    <dc:format>image/svg+xml</dc:format>\n    <dc:creator>\n     <cc:Agent>\n      <dc:title>Matplotlib v3.7.1, https://matplotlib.org/</dc:title>\n     </cc:Agent>\n    </dc:creator>\n   </cc:Work>\n  </rdf:RDF>\n </metadata>\n <defs>\n  <style type=\"text/css\">*{stroke-linejoin: round; stroke-linecap: butt}</style>\n </defs>\n <g id=\"figure_1\">\n  <g id=\"patch_1\">\n   <path d=\"M 0 310.86825 \nL 408.10125 310.86825 \nL 408.10125 0 \nL 0 0 \nz\n\" style=\"fill: #e0e0e0\"/>\n  </g>\n  <g id=\"axes_1\">\n   <g id=\"patch_2\">\n    <path d=\"M 43.78125 273.312 \nL 400.90125 273.312 \nL 400.90125 7.2 \nL 43.78125 7.2 \nz\n\" style=\"fill: #ffffff\"/>\n   </g>\n   <g id=\"matplotlib.axis_1\">\n    <g id=\"xtick_1\">\n     <g id=\"line2d_1\">\n      <defs>\n       <path id=\"m4d51d23713\" d=\"M 0 0 \nL 0 3.5 \n\" style=\"stroke: #000000; stroke-width: 0.8\"/>\n      </defs>\n      <g>\n       <use xlink:href=\"#m4d51d23713\" x=\"60.013977\" y=\"273.312\" style=\"stroke: #000000; stroke-width: 0.8\"/>\n      </g>\n     </g>\n     <g id=\"text_1\">\n      <!-- 0.0 -->\n      <g transform=\"translate(52.062415 287.910437) scale(0.1 -0.1)\">\n       <defs>\n        <path id=\"DejaVuSans-30\" d=\"M 2034 4250 \nQ 1547 4250 1301 3770 \nQ 1056 3291 1056 2328 \nQ 1056 1369 1301 889 \nQ 1547 409 2034 409 \nQ 2525 409 2770 889 \nQ 3016 1369 3016 2328 \nQ 3016 3291 2770 3770 \nQ 2525 4250 2034 4250 \nz\nM 2034 4750 \nQ 2819 4750 3233 4129 \nQ 3647 3509 3647 2328 \nQ 3647 1150 3233 529 \nQ 2819 -91 2034 -91 \nQ 1250 -91 836 529 \nQ 422 1150 422 2328 \nQ 422 3509 836 4129 \nQ 1250 4750 2034 4750 \nz\n\" transform=\"scale(0.015625)\"/>\n        <path id=\"DejaVuSans-2e\" d=\"M 684 794 \nL 1344 794 \nL 1344 0 \nL 684 0 \nL 684 794 \nz\n\" transform=\"scale(0.015625)\"/>\n       </defs>\n       <use xlink:href=\"#DejaVuSans-30\"/>\n       <use xlink:href=\"#DejaVuSans-2e\" x=\"63.623047\"/>\n       <use xlink:href=\"#DejaVuSans-30\" x=\"95.410156\"/>\n      </g>\n     </g>\n    </g>\n    <g id=\"xtick_2\">\n     <g id=\"line2d_2\">\n      <g>\n       <use xlink:href=\"#m4d51d23713\" x=\"124.944886\" y=\"273.312\" style=\"stroke: #000000; stroke-width: 0.8\"/>\n      </g>\n     </g>\n     <g id=\"text_2\">\n      <!-- 0.2 -->\n      <g transform=\"translate(116.993324 287.910437) scale(0.1 -0.1)\">\n       <defs>\n        <path id=\"DejaVuSans-32\" d=\"M 1228 531 \nL 3431 531 \nL 3431 0 \nL 469 0 \nL 469 531 \nQ 828 903 1448 1529 \nQ 2069 2156 2228 2338 \nQ 2531 2678 2651 2914 \nQ 2772 3150 2772 3378 \nQ 2772 3750 2511 3984 \nQ 2250 4219 1831 4219 \nQ 1534 4219 1204 4116 \nQ 875 4013 500 3803 \nL 500 4441 \nQ 881 4594 1212 4672 \nQ 1544 4750 1819 4750 \nQ 2544 4750 2975 4387 \nQ 3406 4025 3406 3419 \nQ 3406 3131 3298 2873 \nQ 3191 2616 2906 2266 \nQ 2828 2175 2409 1742 \nQ 1991 1309 1228 531 \nz\n\" transform=\"scale(0.015625)\"/>\n       </defs>\n       <use xlink:href=\"#DejaVuSans-30\"/>\n       <use xlink:href=\"#DejaVuSans-2e\" x=\"63.623047\"/>\n       <use xlink:href=\"#DejaVuSans-32\" x=\"95.410156\"/>\n      </g>\n     </g>\n    </g>\n    <g id=\"xtick_3\">\n     <g id=\"line2d_3\">\n      <g>\n       <use xlink:href=\"#m4d51d23713\" x=\"189.875795\" y=\"273.312\" style=\"stroke: #000000; stroke-width: 0.8\"/>\n      </g>\n     </g>\n     <g id=\"text_3\">\n      <!-- 0.4 -->\n      <g transform=\"translate(181.924233 287.910437) scale(0.1 -0.1)\">\n       <defs>\n        <path id=\"DejaVuSans-34\" d=\"M 2419 4116 \nL 825 1625 \nL 2419 1625 \nL 2419 4116 \nz\nM 2253 4666 \nL 3047 4666 \nL 3047 1625 \nL 3713 1625 \nL 3713 1100 \nL 3047 1100 \nL 3047 0 \nL 2419 0 \nL 2419 1100 \nL 313 1100 \nL 313 1709 \nL 2253 4666 \nz\n\" transform=\"scale(0.015625)\"/>\n       </defs>\n       <use xlink:href=\"#DejaVuSans-30\"/>\n       <use xlink:href=\"#DejaVuSans-2e\" x=\"63.623047\"/>\n       <use xlink:href=\"#DejaVuSans-34\" x=\"95.410156\"/>\n      </g>\n     </g>\n    </g>\n    <g id=\"xtick_4\">\n     <g id=\"line2d_4\">\n      <g>\n       <use xlink:href=\"#m4d51d23713\" x=\"254.806705\" y=\"273.312\" style=\"stroke: #000000; stroke-width: 0.8\"/>\n      </g>\n     </g>\n     <g id=\"text_4\">\n      <!-- 0.6 -->\n      <g transform=\"translate(246.855142 287.910437) scale(0.1 -0.1)\">\n       <defs>\n        <path id=\"DejaVuSans-36\" d=\"M 2113 2584 \nQ 1688 2584 1439 2293 \nQ 1191 2003 1191 1497 \nQ 1191 994 1439 701 \nQ 1688 409 2113 409 \nQ 2538 409 2786 701 \nQ 3034 994 3034 1497 \nQ 3034 2003 2786 2293 \nQ 2538 2584 2113 2584 \nz\nM 3366 4563 \nL 3366 3988 \nQ 3128 4100 2886 4159 \nQ 2644 4219 2406 4219 \nQ 1781 4219 1451 3797 \nQ 1122 3375 1075 2522 \nQ 1259 2794 1537 2939 \nQ 1816 3084 2150 3084 \nQ 2853 3084 3261 2657 \nQ 3669 2231 3669 1497 \nQ 3669 778 3244 343 \nQ 2819 -91 2113 -91 \nQ 1303 -91 875 529 \nQ 447 1150 447 2328 \nQ 447 3434 972 4092 \nQ 1497 4750 2381 4750 \nQ 2619 4750 2861 4703 \nQ 3103 4656 3366 4563 \nz\n\" transform=\"scale(0.015625)\"/>\n       </defs>\n       <use xlink:href=\"#DejaVuSans-30\"/>\n       <use xlink:href=\"#DejaVuSans-2e\" x=\"63.623047\"/>\n       <use xlink:href=\"#DejaVuSans-36\" x=\"95.410156\"/>\n      </g>\n     </g>\n    </g>\n    <g id=\"xtick_5\">\n     <g id=\"line2d_5\">\n      <g>\n       <use xlink:href=\"#m4d51d23713\" x=\"319.737614\" y=\"273.312\" style=\"stroke: #000000; stroke-width: 0.8\"/>\n      </g>\n     </g>\n     <g id=\"text_5\">\n      <!-- 0.8 -->\n      <g transform=\"translate(311.786051 287.910437) scale(0.1 -0.1)\">\n       <defs>\n        <path id=\"DejaVuSans-38\" d=\"M 2034 2216 \nQ 1584 2216 1326 1975 \nQ 1069 1734 1069 1313 \nQ 1069 891 1326 650 \nQ 1584 409 2034 409 \nQ 2484 409 2743 651 \nQ 3003 894 3003 1313 \nQ 3003 1734 2745 1975 \nQ 2488 2216 2034 2216 \nz\nM 1403 2484 \nQ 997 2584 770 2862 \nQ 544 3141 544 3541 \nQ 544 4100 942 4425 \nQ 1341 4750 2034 4750 \nQ 2731 4750 3128 4425 \nQ 3525 4100 3525 3541 \nQ 3525 3141 3298 2862 \nQ 3072 2584 2669 2484 \nQ 3125 2378 3379 2068 \nQ 3634 1759 3634 1313 \nQ 3634 634 3220 271 \nQ 2806 -91 2034 -91 \nQ 1263 -91 848 271 \nQ 434 634 434 1313 \nQ 434 1759 690 2068 \nQ 947 2378 1403 2484 \nz\nM 1172 3481 \nQ 1172 3119 1398 2916 \nQ 1625 2713 2034 2713 \nQ 2441 2713 2670 2916 \nQ 2900 3119 2900 3481 \nQ 2900 3844 2670 4047 \nQ 2441 4250 2034 4250 \nQ 1625 4250 1398 4047 \nQ 1172 3844 1172 3481 \nz\n\" transform=\"scale(0.015625)\"/>\n       </defs>\n       <use xlink:href=\"#DejaVuSans-30\"/>\n       <use xlink:href=\"#DejaVuSans-2e\" x=\"63.623047\"/>\n       <use xlink:href=\"#DejaVuSans-38\" x=\"95.410156\"/>\n      </g>\n     </g>\n    </g>\n    <g id=\"xtick_6\">\n     <g id=\"line2d_6\">\n      <g>\n       <use xlink:href=\"#m4d51d23713\" x=\"384.668523\" y=\"273.312\" style=\"stroke: #000000; stroke-width: 0.8\"/>\n      </g>\n     </g>\n     <g id=\"text_6\">\n      <!-- 1.0 -->\n      <g transform=\"translate(376.71696 287.910437) scale(0.1 -0.1)\">\n       <defs>\n        <path id=\"DejaVuSans-31\" d=\"M 794 531 \nL 1825 531 \nL 1825 4091 \nL 703 3866 \nL 703 4441 \nL 1819 4666 \nL 2450 4666 \nL 2450 531 \nL 3481 531 \nL 3481 0 \nL 794 0 \nL 794 531 \nz\n\" transform=\"scale(0.015625)\"/>\n       </defs>\n       <use xlink:href=\"#DejaVuSans-31\"/>\n       <use xlink:href=\"#DejaVuSans-2e\" x=\"63.623047\"/>\n       <use xlink:href=\"#DejaVuSans-30\" x=\"95.410156\"/>\n      </g>\n     </g>\n    </g>\n    <g id=\"text_7\">\n     <!-- Threshold -->\n     <g transform=\"translate(197.702969 301.588562) scale(0.1 -0.1)\">\n      <defs>\n       <path id=\"DejaVuSans-54\" d=\"M -19 4666 \nL 3928 4666 \nL 3928 4134 \nL 2272 4134 \nL 2272 0 \nL 1638 0 \nL 1638 4134 \nL -19 4134 \nL -19 4666 \nz\n\" transform=\"scale(0.015625)\"/>\n       <path id=\"DejaVuSans-68\" d=\"M 3513 2113 \nL 3513 0 \nL 2938 0 \nL 2938 2094 \nQ 2938 2591 2744 2837 \nQ 2550 3084 2163 3084 \nQ 1697 3084 1428 2787 \nQ 1159 2491 1159 1978 \nL 1159 0 \nL 581 0 \nL 581 4863 \nL 1159 4863 \nL 1159 2956 \nQ 1366 3272 1645 3428 \nQ 1925 3584 2291 3584 \nQ 2894 3584 3203 3211 \nQ 3513 2838 3513 2113 \nz\n\" transform=\"scale(0.015625)\"/>\n       <path id=\"DejaVuSans-72\" d=\"M 2631 2963 \nQ 2534 3019 2420 3045 \nQ 2306 3072 2169 3072 \nQ 1681 3072 1420 2755 \nQ 1159 2438 1159 1844 \nL 1159 0 \nL 581 0 \nL 581 3500 \nL 1159 3500 \nL 1159 2956 \nQ 1341 3275 1631 3429 \nQ 1922 3584 2338 3584 \nQ 2397 3584 2469 3576 \nQ 2541 3569 2628 3553 \nL 2631 2963 \nz\n\" transform=\"scale(0.015625)\"/>\n       <path id=\"DejaVuSans-65\" d=\"M 3597 1894 \nL 3597 1613 \nL 953 1613 \nQ 991 1019 1311 708 \nQ 1631 397 2203 397 \nQ 2534 397 2845 478 \nQ 3156 559 3463 722 \nL 3463 178 \nQ 3153 47 2828 -22 \nQ 2503 -91 2169 -91 \nQ 1331 -91 842 396 \nQ 353 884 353 1716 \nQ 353 2575 817 3079 \nQ 1281 3584 2069 3584 \nQ 2775 3584 3186 3129 \nQ 3597 2675 3597 1894 \nz\nM 3022 2063 \nQ 3016 2534 2758 2815 \nQ 2500 3097 2075 3097 \nQ 1594 3097 1305 2825 \nQ 1016 2553 972 2059 \nL 3022 2063 \nz\n\" transform=\"scale(0.015625)\"/>\n       <path id=\"DejaVuSans-73\" d=\"M 2834 3397 \nL 2834 2853 \nQ 2591 2978 2328 3040 \nQ 2066 3103 1784 3103 \nQ 1356 3103 1142 2972 \nQ 928 2841 928 2578 \nQ 928 2378 1081 2264 \nQ 1234 2150 1697 2047 \nL 1894 2003 \nQ 2506 1872 2764 1633 \nQ 3022 1394 3022 966 \nQ 3022 478 2636 193 \nQ 2250 -91 1575 -91 \nQ 1294 -91 989 -36 \nQ 684 19 347 128 \nL 347 722 \nQ 666 556 975 473 \nQ 1284 391 1588 391 \nQ 1994 391 2212 530 \nQ 2431 669 2431 922 \nQ 2431 1156 2273 1281 \nQ 2116 1406 1581 1522 \nL 1381 1569 \nQ 847 1681 609 1914 \nQ 372 2147 372 2553 \nQ 372 3047 722 3315 \nQ 1072 3584 1716 3584 \nQ 2034 3584 2315 3537 \nQ 2597 3491 2834 3397 \nz\n\" transform=\"scale(0.015625)\"/>\n       <path id=\"DejaVuSans-6f\" d=\"M 1959 3097 \nQ 1497 3097 1228 2736 \nQ 959 2375 959 1747 \nQ 959 1119 1226 758 \nQ 1494 397 1959 397 \nQ 2419 397 2687 759 \nQ 2956 1122 2956 1747 \nQ 2956 2369 2687 2733 \nQ 2419 3097 1959 3097 \nz\nM 1959 3584 \nQ 2709 3584 3137 3096 \nQ 3566 2609 3566 1747 \nQ 3566 888 3137 398 \nQ 2709 -91 1959 -91 \nQ 1206 -91 779 398 \nQ 353 888 353 1747 \nQ 353 2609 779 3096 \nQ 1206 3584 1959 3584 \nz\n\" transform=\"scale(0.015625)\"/>\n       <path id=\"DejaVuSans-6c\" d=\"M 603 4863 \nL 1178 4863 \nL 1178 0 \nL 603 0 \nL 603 4863 \nz\n\" transform=\"scale(0.015625)\"/>\n       <path id=\"DejaVuSans-64\" d=\"M 2906 2969 \nL 2906 4863 \nL 3481 4863 \nL 3481 0 \nL 2906 0 \nL 2906 525 \nQ 2725 213 2448 61 \nQ 2172 -91 1784 -91 \nQ 1150 -91 751 415 \nQ 353 922 353 1747 \nQ 353 2572 751 3078 \nQ 1150 3584 1784 3584 \nQ 2172 3584 2448 3432 \nQ 2725 3281 2906 2969 \nz\nM 947 1747 \nQ 947 1113 1208 752 \nQ 1469 391 1925 391 \nQ 2381 391 2643 752 \nQ 2906 1113 2906 1747 \nQ 2906 2381 2643 2742 \nQ 2381 3103 1925 3103 \nQ 1469 3103 1208 2742 \nQ 947 2381 947 1747 \nz\n\" transform=\"scale(0.015625)\"/>\n      </defs>\n      <use xlink:href=\"#DejaVuSans-54\"/>\n      <use xlink:href=\"#DejaVuSans-68\" x=\"61.083984\"/>\n      <use xlink:href=\"#DejaVuSans-72\" x=\"124.462891\"/>\n      <use xlink:href=\"#DejaVuSans-65\" x=\"163.326172\"/>\n      <use xlink:href=\"#DejaVuSans-73\" x=\"224.849609\"/>\n      <use xlink:href=\"#DejaVuSans-68\" x=\"276.949219\"/>\n      <use xlink:href=\"#DejaVuSans-6f\" x=\"340.328125\"/>\n      <use xlink:href=\"#DejaVuSans-6c\" x=\"401.509766\"/>\n      <use xlink:href=\"#DejaVuSans-64\" x=\"429.292969\"/>\n     </g>\n    </g>\n   </g>\n   <g id=\"matplotlib.axis_2\">\n    <g id=\"ytick_1\">\n     <g id=\"line2d_7\">\n      <defs>\n       <path id=\"m1d3c4c468e\" d=\"M 0 0 \nL -3.5 0 \n\" style=\"stroke: #000000; stroke-width: 0.8\"/>\n      </defs>\n      <g>\n       <use xlink:href=\"#m1d3c4c468e\" x=\"43.78125\" y=\"246.302763\" style=\"stroke: #000000; stroke-width: 0.8\"/>\n      </g>\n     </g>\n     <g id=\"text_8\">\n      <!-- 0.2 -->\n      <g transform=\"translate(20.878125 250.101982) scale(0.1 -0.1)\">\n       <use xlink:href=\"#DejaVuSans-30\"/>\n       <use xlink:href=\"#DejaVuSans-2e\" x=\"63.623047\"/>\n       <use xlink:href=\"#DejaVuSans-32\" x=\"95.410156\"/>\n      </g>\n     </g>\n    </g>\n    <g id=\"ytick_2\">\n     <g id=\"line2d_8\">\n      <g>\n       <use xlink:href=\"#m1d3c4c468e\" x=\"43.78125\" y=\"210.953842\" style=\"stroke: #000000; stroke-width: 0.8\"/>\n      </g>\n     </g>\n     <g id=\"text_9\">\n      <!-- 0.3 -->\n      <g transform=\"translate(20.878125 214.753061) scale(0.1 -0.1)\">\n       <defs>\n        <path id=\"DejaVuSans-33\" d=\"M 2597 2516 \nQ 3050 2419 3304 2112 \nQ 3559 1806 3559 1356 \nQ 3559 666 3084 287 \nQ 2609 -91 1734 -91 \nQ 1441 -91 1130 -33 \nQ 819 25 488 141 \nL 488 750 \nQ 750 597 1062 519 \nQ 1375 441 1716 441 \nQ 2309 441 2620 675 \nQ 2931 909 2931 1356 \nQ 2931 1769 2642 2001 \nQ 2353 2234 1838 2234 \nL 1294 2234 \nL 1294 2753 \nL 1863 2753 \nQ 2328 2753 2575 2939 \nQ 2822 3125 2822 3475 \nQ 2822 3834 2567 4026 \nQ 2313 4219 1838 4219 \nQ 1578 4219 1281 4162 \nQ 984 4106 628 3988 \nL 628 4550 \nQ 988 4650 1302 4700 \nQ 1616 4750 1894 4750 \nQ 2613 4750 3031 4423 \nQ 3450 4097 3450 3541 \nQ 3450 3153 3228 2886 \nQ 3006 2619 2597 2516 \nz\n\" transform=\"scale(0.015625)\"/>\n       </defs>\n       <use xlink:href=\"#DejaVuSans-30\"/>\n       <use xlink:href=\"#DejaVuSans-2e\" x=\"63.623047\"/>\n       <use xlink:href=\"#DejaVuSans-33\" x=\"95.410156\"/>\n      </g>\n     </g>\n    </g>\n    <g id=\"ytick_3\">\n     <g id=\"line2d_9\">\n      <g>\n       <use xlink:href=\"#m1d3c4c468e\" x=\"43.78125\" y=\"175.604921\" style=\"stroke: #000000; stroke-width: 0.8\"/>\n      </g>\n     </g>\n     <g id=\"text_10\">\n      <!-- 0.4 -->\n      <g transform=\"translate(20.878125 179.40414) scale(0.1 -0.1)\">\n       <use xlink:href=\"#DejaVuSans-30\"/>\n       <use xlink:href=\"#DejaVuSans-2e\" x=\"63.623047\"/>\n       <use xlink:href=\"#DejaVuSans-34\" x=\"95.410156\"/>\n      </g>\n     </g>\n    </g>\n    <g id=\"ytick_4\">\n     <g id=\"line2d_10\">\n      <g>\n       <use xlink:href=\"#m1d3c4c468e\" x=\"43.78125\" y=\"140.256\" style=\"stroke: #000000; stroke-width: 0.8\"/>\n      </g>\n     </g>\n     <g id=\"text_11\">\n      <!-- 0.5 -->\n      <g transform=\"translate(20.878125 144.055219) scale(0.1 -0.1)\">\n       <defs>\n        <path id=\"DejaVuSans-35\" d=\"M 691 4666 \nL 3169 4666 \nL 3169 4134 \nL 1269 4134 \nL 1269 2991 \nQ 1406 3038 1543 3061 \nQ 1681 3084 1819 3084 \nQ 2600 3084 3056 2656 \nQ 3513 2228 3513 1497 \nQ 3513 744 3044 326 \nQ 2575 -91 1722 -91 \nQ 1428 -91 1123 -41 \nQ 819 9 494 109 \nL 494 744 \nQ 775 591 1075 516 \nQ 1375 441 1709 441 \nQ 2250 441 2565 725 \nQ 2881 1009 2881 1497 \nQ 2881 1984 2565 2268 \nQ 2250 2553 1709 2553 \nQ 1456 2553 1204 2497 \nQ 953 2441 691 2322 \nL 691 4666 \nz\n\" transform=\"scale(0.015625)\"/>\n       </defs>\n       <use xlink:href=\"#DejaVuSans-30\"/>\n       <use xlink:href=\"#DejaVuSans-2e\" x=\"63.623047\"/>\n       <use xlink:href=\"#DejaVuSans-35\" x=\"95.410156\"/>\n      </g>\n     </g>\n    </g>\n    <g id=\"ytick_5\">\n     <g id=\"line2d_11\">\n      <g>\n       <use xlink:href=\"#m1d3c4c468e\" x=\"43.78125\" y=\"104.907079\" style=\"stroke: #000000; stroke-width: 0.8\"/>\n      </g>\n     </g>\n     <g id=\"text_12\">\n      <!-- 0.6 -->\n      <g transform=\"translate(20.878125 108.706298) scale(0.1 -0.1)\">\n       <use xlink:href=\"#DejaVuSans-30\"/>\n       <use xlink:href=\"#DejaVuSans-2e\" x=\"63.623047\"/>\n       <use xlink:href=\"#DejaVuSans-36\" x=\"95.410156\"/>\n      </g>\n     </g>\n    </g>\n    <g id=\"ytick_6\">\n     <g id=\"line2d_12\">\n      <g>\n       <use xlink:href=\"#m1d3c4c468e\" x=\"43.78125\" y=\"69.558158\" style=\"stroke: #000000; stroke-width: 0.8\"/>\n      </g>\n     </g>\n     <g id=\"text_13\">\n      <!-- 0.7 -->\n      <g transform=\"translate(20.878125 73.357377) scale(0.1 -0.1)\">\n       <defs>\n        <path id=\"DejaVuSans-37\" d=\"M 525 4666 \nL 3525 4666 \nL 3525 4397 \nL 1831 0 \nL 1172 0 \nL 2766 4134 \nL 525 4134 \nL 525 4666 \nz\n\" transform=\"scale(0.015625)\"/>\n       </defs>\n       <use xlink:href=\"#DejaVuSans-30\"/>\n       <use xlink:href=\"#DejaVuSans-2e\" x=\"63.623047\"/>\n       <use xlink:href=\"#DejaVuSans-37\" x=\"95.410156\"/>\n      </g>\n     </g>\n    </g>\n    <g id=\"ytick_7\">\n     <g id=\"line2d_13\">\n      <g>\n       <use xlink:href=\"#m1d3c4c468e\" x=\"43.78125\" y=\"34.209237\" style=\"stroke: #000000; stroke-width: 0.8\"/>\n      </g>\n     </g>\n     <g id=\"text_14\">\n      <!-- 0.8 -->\n      <g transform=\"translate(20.878125 38.008456) scale(0.1 -0.1)\">\n       <use xlink:href=\"#DejaVuSans-30\"/>\n       <use xlink:href=\"#DejaVuSans-2e\" x=\"63.623047\"/>\n       <use xlink:href=\"#DejaVuSans-38\" x=\"95.410156\"/>\n      </g>\n     </g>\n    </g>\n    <g id=\"text_15\">\n     <!-- Score -->\n     <g transform=\"translate(14.798438 154.258344) rotate(-90) scale(0.1 -0.1)\">\n      <defs>\n       <path id=\"DejaVuSans-53\" d=\"M 3425 4513 \nL 3425 3897 \nQ 3066 4069 2747 4153 \nQ 2428 4238 2131 4238 \nQ 1616 4238 1336 4038 \nQ 1056 3838 1056 3469 \nQ 1056 3159 1242 3001 \nQ 1428 2844 1947 2747 \nL 2328 2669 \nQ 3034 2534 3370 2195 \nQ 3706 1856 3706 1288 \nQ 3706 609 3251 259 \nQ 2797 -91 1919 -91 \nQ 1588 -91 1214 -16 \nQ 841 59 441 206 \nL 441 856 \nQ 825 641 1194 531 \nQ 1563 422 1919 422 \nQ 2459 422 2753 634 \nQ 3047 847 3047 1241 \nQ 3047 1584 2836 1778 \nQ 2625 1972 2144 2069 \nL 1759 2144 \nQ 1053 2284 737 2584 \nQ 422 2884 422 3419 \nQ 422 4038 858 4394 \nQ 1294 4750 2059 4750 \nQ 2388 4750 2728 4690 \nQ 3069 4631 3425 4513 \nz\n\" transform=\"scale(0.015625)\"/>\n       <path id=\"DejaVuSans-63\" d=\"M 3122 3366 \nL 3122 2828 \nQ 2878 2963 2633 3030 \nQ 2388 3097 2138 3097 \nQ 1578 3097 1268 2742 \nQ 959 2388 959 1747 \nQ 959 1106 1268 751 \nQ 1578 397 2138 397 \nQ 2388 397 2633 464 \nQ 2878 531 3122 666 \nL 3122 134 \nQ 2881 22 2623 -34 \nQ 2366 -91 2075 -91 \nQ 1284 -91 818 406 \nQ 353 903 353 1747 \nQ 353 2603 823 3093 \nQ 1294 3584 2113 3584 \nQ 2378 3584 2631 3529 \nQ 2884 3475 3122 3366 \nz\n\" transform=\"scale(0.015625)\"/>\n      </defs>\n      <use xlink:href=\"#DejaVuSans-53\"/>\n      <use xlink:href=\"#DejaVuSans-63\" x=\"63.476562\"/>\n      <use xlink:href=\"#DejaVuSans-6f\" x=\"118.457031\"/>\n      <use xlink:href=\"#DejaVuSans-72\" x=\"179.638672\"/>\n      <use xlink:href=\"#DejaVuSans-65\" x=\"218.501953\"/>\n     </g>\n    </g>\n   </g>\n   <g id=\"line2d_14\">\n    <path d=\"M 60.013977 261.216 \nL 66.63958 261.216 \nL 73.265183 261.201606 \nL 79.890786 261.163429 \nL 86.516389 260.317288 \nL 93.141992 258.877847 \nL 99.767595 253.242747 \nL 106.393198 206.688089 \nL 113.018801 91.716165 \nL 119.644404 48.477228 \nL 126.270007 27.515209 \nL 132.89561 21.088417 \nL 139.521213 20.354302 \nL 146.146816 19.981925 \nL 152.772419 19.436189 \nL 159.398022 19.390502 \nL 166.023625 19.374231 \nL 172.649228 19.344816 \nL 179.274831 19.337306 \nL 185.900434 19.326666 \nL 192.526037 19.322285 \nL 199.15164 19.321034 \nL 205.777243 19.32166 \nL 212.402846 19.32166 \nL 219.028449 19.32166 \nL 225.654051 19.298503 \nL 232.279654 19.298503 \nL 238.905257 19.298503 \nL 245.53086 19.298503 \nL 252.156463 19.298503 \nL 258.782066 19.298503 \nL 265.407669 19.298503 \nL 272.033272 19.298503 \nL 278.658875 19.296 \nL 285.284478 19.296 \nL 291.910081 19.296 \nL 298.535684 19.296 \nL 305.161287 19.296 \nL 311.78689 19.296 \nL 318.412493 19.296 \nL 325.038096 19.296 \nL 331.663699 19.296 \nL 338.289302 19.296 \nL 344.914905 19.296 \nL 351.540508 19.296 \nL 358.166111 19.296 \nL 364.791714 19.296 \nL 371.417317 19.296 \nL 378.04292 19.296 \nL 384.668523 19.296 \n\" clip-path=\"url(#pd223329bba)\" style=\"fill: none; stroke: #0000ff; stroke-width: 1.5; stroke-linecap: square\"/>\n    <defs>\n     <path id=\"m63ef67ce82\" d=\"M 0 3 \nC 0.795609 3 1.55874 2.683901 2.12132 2.12132 \nC 2.683901 1.55874 3 0.795609 3 0 \nC 3 -0.795609 2.683901 -1.55874 2.12132 -2.12132 \nC 1.55874 -2.683901 0.795609 -3 0 -3 \nC -0.795609 -3 -1.55874 -2.683901 -2.12132 -2.12132 \nC -2.683901 -1.55874 -3 -0.795609 -3 0 \nC -3 0.795609 -2.683901 1.55874 -2.12132 2.12132 \nC -1.55874 2.683901 -0.795609 3 0 3 \nz\n\" style=\"stroke: #0000ff\"/>\n    </defs>\n    <g clip-path=\"url(#pd223329bba)\">\n     <use xlink:href=\"#m63ef67ce82\" x=\"60.013977\" y=\"261.216\" style=\"fill: #0000ff; stroke: #0000ff\"/>\n     <use xlink:href=\"#m63ef67ce82\" x=\"66.63958\" y=\"261.216\" style=\"fill: #0000ff; stroke: #0000ff\"/>\n     <use xlink:href=\"#m63ef67ce82\" x=\"73.265183\" y=\"261.201606\" style=\"fill: #0000ff; stroke: #0000ff\"/>\n     <use xlink:href=\"#m63ef67ce82\" x=\"79.890786\" y=\"261.163429\" style=\"fill: #0000ff; stroke: #0000ff\"/>\n     <use xlink:href=\"#m63ef67ce82\" x=\"86.516389\" y=\"260.317288\" style=\"fill: #0000ff; stroke: #0000ff\"/>\n     <use xlink:href=\"#m63ef67ce82\" x=\"93.141992\" y=\"258.877847\" style=\"fill: #0000ff; stroke: #0000ff\"/>\n     <use xlink:href=\"#m63ef67ce82\" x=\"99.767595\" y=\"253.242747\" style=\"fill: #0000ff; stroke: #0000ff\"/>\n     <use xlink:href=\"#m63ef67ce82\" x=\"106.393198\" y=\"206.688089\" style=\"fill: #0000ff; stroke: #0000ff\"/>\n     <use xlink:href=\"#m63ef67ce82\" x=\"113.018801\" y=\"91.716165\" style=\"fill: #0000ff; stroke: #0000ff\"/>\n     <use xlink:href=\"#m63ef67ce82\" x=\"119.644404\" y=\"48.477228\" style=\"fill: #0000ff; stroke: #0000ff\"/>\n     <use xlink:href=\"#m63ef67ce82\" x=\"126.270007\" y=\"27.515209\" style=\"fill: #0000ff; stroke: #0000ff\"/>\n     <use xlink:href=\"#m63ef67ce82\" x=\"132.89561\" y=\"21.088417\" style=\"fill: #0000ff; stroke: #0000ff\"/>\n     <use xlink:href=\"#m63ef67ce82\" x=\"139.521213\" y=\"20.354302\" style=\"fill: #0000ff; stroke: #0000ff\"/>\n     <use xlink:href=\"#m63ef67ce82\" x=\"146.146816\" y=\"19.981925\" style=\"fill: #0000ff; stroke: #0000ff\"/>\n     <use xlink:href=\"#m63ef67ce82\" x=\"152.772419\" y=\"19.436189\" style=\"fill: #0000ff; stroke: #0000ff\"/>\n     <use xlink:href=\"#m63ef67ce82\" x=\"159.398022\" y=\"19.390502\" style=\"fill: #0000ff; stroke: #0000ff\"/>\n     <use xlink:href=\"#m63ef67ce82\" x=\"166.023625\" y=\"19.374231\" style=\"fill: #0000ff; stroke: #0000ff\"/>\n     <use xlink:href=\"#m63ef67ce82\" x=\"172.649228\" y=\"19.344816\" style=\"fill: #0000ff; stroke: #0000ff\"/>\n     <use xlink:href=\"#m63ef67ce82\" x=\"179.274831\" y=\"19.337306\" style=\"fill: #0000ff; stroke: #0000ff\"/>\n     <use xlink:href=\"#m63ef67ce82\" x=\"185.900434\" y=\"19.326666\" style=\"fill: #0000ff; stroke: #0000ff\"/>\n     <use xlink:href=\"#m63ef67ce82\" x=\"192.526037\" y=\"19.322285\" style=\"fill: #0000ff; stroke: #0000ff\"/>\n     <use xlink:href=\"#m63ef67ce82\" x=\"199.15164\" y=\"19.321034\" style=\"fill: #0000ff; stroke: #0000ff\"/>\n     <use xlink:href=\"#m63ef67ce82\" x=\"205.777243\" y=\"19.32166\" style=\"fill: #0000ff; stroke: #0000ff\"/>\n     <use xlink:href=\"#m63ef67ce82\" x=\"212.402846\" y=\"19.32166\" style=\"fill: #0000ff; stroke: #0000ff\"/>\n     <use xlink:href=\"#m63ef67ce82\" x=\"219.028449\" y=\"19.32166\" style=\"fill: #0000ff; stroke: #0000ff\"/>\n     <use xlink:href=\"#m63ef67ce82\" x=\"225.654051\" y=\"19.298503\" style=\"fill: #0000ff; stroke: #0000ff\"/>\n     <use xlink:href=\"#m63ef67ce82\" x=\"232.279654\" y=\"19.298503\" style=\"fill: #0000ff; stroke: #0000ff\"/>\n     <use xlink:href=\"#m63ef67ce82\" x=\"238.905257\" y=\"19.298503\" style=\"fill: #0000ff; stroke: #0000ff\"/>\n     <use xlink:href=\"#m63ef67ce82\" x=\"245.53086\" y=\"19.298503\" style=\"fill: #0000ff; stroke: #0000ff\"/>\n     <use xlink:href=\"#m63ef67ce82\" x=\"252.156463\" y=\"19.298503\" style=\"fill: #0000ff; stroke: #0000ff\"/>\n     <use xlink:href=\"#m63ef67ce82\" x=\"258.782066\" y=\"19.298503\" style=\"fill: #0000ff; stroke: #0000ff\"/>\n     <use xlink:href=\"#m63ef67ce82\" x=\"265.407669\" y=\"19.298503\" style=\"fill: #0000ff; stroke: #0000ff\"/>\n     <use xlink:href=\"#m63ef67ce82\" x=\"272.033272\" y=\"19.298503\" style=\"fill: #0000ff; stroke: #0000ff\"/>\n     <use xlink:href=\"#m63ef67ce82\" x=\"278.658875\" y=\"19.296\" style=\"fill: #0000ff; stroke: #0000ff\"/>\n     <use xlink:href=\"#m63ef67ce82\" x=\"285.284478\" y=\"19.296\" style=\"fill: #0000ff; stroke: #0000ff\"/>\n     <use xlink:href=\"#m63ef67ce82\" x=\"291.910081\" y=\"19.296\" style=\"fill: #0000ff; stroke: #0000ff\"/>\n     <use xlink:href=\"#m63ef67ce82\" x=\"298.535684\" y=\"19.296\" style=\"fill: #0000ff; stroke: #0000ff\"/>\n     <use xlink:href=\"#m63ef67ce82\" x=\"305.161287\" y=\"19.296\" style=\"fill: #0000ff; stroke: #0000ff\"/>\n     <use xlink:href=\"#m63ef67ce82\" x=\"311.78689\" y=\"19.296\" style=\"fill: #0000ff; stroke: #0000ff\"/>\n     <use xlink:href=\"#m63ef67ce82\" x=\"318.412493\" y=\"19.296\" style=\"fill: #0000ff; stroke: #0000ff\"/>\n     <use xlink:href=\"#m63ef67ce82\" x=\"325.038096\" y=\"19.296\" style=\"fill: #0000ff; stroke: #0000ff\"/>\n     <use xlink:href=\"#m63ef67ce82\" x=\"331.663699\" y=\"19.296\" style=\"fill: #0000ff; stroke: #0000ff\"/>\n     <use xlink:href=\"#m63ef67ce82\" x=\"338.289302\" y=\"19.296\" style=\"fill: #0000ff; stroke: #0000ff\"/>\n     <use xlink:href=\"#m63ef67ce82\" x=\"344.914905\" y=\"19.296\" style=\"fill: #0000ff; stroke: #0000ff\"/>\n     <use xlink:href=\"#m63ef67ce82\" x=\"351.540508\" y=\"19.296\" style=\"fill: #0000ff; stroke: #0000ff\"/>\n     <use xlink:href=\"#m63ef67ce82\" x=\"358.166111\" y=\"19.296\" style=\"fill: #0000ff; stroke: #0000ff\"/>\n     <use xlink:href=\"#m63ef67ce82\" x=\"364.791714\" y=\"19.296\" style=\"fill: #0000ff; stroke: #0000ff\"/>\n     <use xlink:href=\"#m63ef67ce82\" x=\"371.417317\" y=\"19.296\" style=\"fill: #0000ff; stroke: #0000ff\"/>\n     <use xlink:href=\"#m63ef67ce82\" x=\"378.04292\" y=\"19.296\" style=\"fill: #0000ff; stroke: #0000ff\"/>\n     <use xlink:href=\"#m63ef67ce82\" x=\"384.668523\" y=\"19.296\" style=\"fill: #0000ff; stroke: #0000ff\"/>\n    </g>\n   </g>\n   <g id=\"patch_3\">\n    <path d=\"M 43.78125 273.312 \nL 43.78125 7.2 \n\" style=\"fill: none; stroke: #000000; stroke-width: 0.8; stroke-linejoin: miter; stroke-linecap: square\"/>\n   </g>\n   <g id=\"patch_4\">\n    <path d=\"M 400.90125 273.312 \nL 400.90125 7.2 \n\" style=\"fill: none; stroke: #000000; stroke-width: 0.8; stroke-linejoin: miter; stroke-linecap: square\"/>\n   </g>\n   <g id=\"patch_5\">\n    <path d=\"M 43.78125 273.312 \nL 400.90125 273.312 \n\" style=\"fill: none; stroke: #000000; stroke-width: 0.8; stroke-linejoin: miter; stroke-linecap: square\"/>\n   </g>\n   <g id=\"patch_6\">\n    <path d=\"M 43.78125 7.2 \nL 400.90125 7.2 \n\" style=\"fill: none; stroke: #000000; stroke-width: 0.8; stroke-linejoin: miter; stroke-linecap: square\"/>\n   </g>\n  </g>\n </g>\n <defs>\n  <clipPath id=\"pd223329bba\">\n   <rect x=\"43.78125\" y=\"7.2\" width=\"357.12\" height=\"266.112\"/>\n  </clipPath>\n </defs>\n</svg>\n"
          },
          "metadata": {}
        }
      ]
    },
    {
      "cell_type": "markdown",
      "source": [
        "#Modèle custom\n"
      ],
      "metadata": {
        "id": "MUQez76Tlsvq"
      }
    },
    {
      "cell_type": "code",
      "source": [
        "# Entrainement\n",
        "bn_custom = gum.BayesNet(\"modele custom\")\n",
        "\n",
        "for var in var_bn.values():\n",
        "    bn_custom.add(var)\n",
        "\n",
        "bn_custom.addArc(\"lead_answered_a2\",\"weekday_a1\")\n",
        "bn_custom.addArc(\"lead_answered_a2\",\"hour_a1\")\n",
        "bn_custom.addArc(\"weekday_a2\", \"caller_has_changed_a2\")\n",
        "bn_custom.addArc(\"hour_a2\", \"caller_has_changed_a2\")\n",
        "bn_custom.addArc(\"caller_has_changed_a2\", \"lead_answered_a2\")\n",
        "\n",
        "learner = gum.BNLearner(X_train)\n",
        "learner.useSmoothingPrior(1)\n",
        "learner.fitParameters(bn_custom)"
      ],
      "metadata": {
        "id": "u1ZFpNxYlsZj",
        "colab": {
          "base_uri": "https://localhost:8080/"
        },
        "outputId": "f5db7e79-b78f-4b60-b28c-f43103da3df2"
      },
      "execution_count": null,
      "outputs": [
        {
          "output_type": "execute_result",
          "data": {
            "text/plain": [
              "(pyAgrum.BNLearner<double>@0x5838392c8d50) Filename       : /tmp/tmpdgwxgwcm.csv\n",
              "Size           : (2259276,6)\n",
              "Variables      : weekday_a1[5], hour_a1[9], weekday_a2[5], hour_a2[9], caller_has_changed_a2[2], lead_answered_a2[2]\n",
              "Induced types  : True\n",
              "Missing values : False\n",
              "Algorithm      : MIIC\n",
              "Score          : BDeu  (Not used for constraint-based algorithms)\n",
              "Correction     : MDL  (Not used for score-based algorithms)\n",
              "Prior          : Smoothing\n",
              "Prior weight   : 1.000000"
            ]
          },
          "metadata": {},
          "execution_count": 29
        }
      ]
    },
    {
      "cell_type": "code",
      "source": [
        "gnb.showBN(bn_custom, size=10)"
      ],
      "metadata": {
        "id": "fNBKtC6ylyxK",
        "colab": {
          "base_uri": "https://localhost:8080/",
          "height": 368
        },
        "outputId": "b489e299-51de-4428-de38-cec8a34ab7e7"
      },
      "execution_count": null,
      "outputs": [
        {
          "output_type": "display_data",
          "data": {
            "text/plain": [
              "<IPython.core.display.SVG object>"
            ],
            "image/svg+xml": "<svg xmlns=\"http://www.w3.org/2000/svg\" xmlns:xlink=\"http://www.w3.org/1999/xlink\" width=\"229pt\" height=\"260pt\" viewBox=\"0.00 0.00 229.19 260.00\">\n<g id=\"graph0\" class=\"graph\" transform=\"scale(1 1) rotate(0) translate(4 256)\">\n<title>G</title>\n<!-- caller_has_changed_a2 -->\n<g id=\"node1\" class=\"node\">\n<title>caller_has_changed_a2</title>\n<g id=\"a_node1\"><a xlink:title=\"(4) caller_has_changed_a2\">\n<ellipse fill=\"#404040\" stroke=\"#4a4a4a\" cx=\"110.6\" cy=\"-162\" rx=\"92.88\" ry=\"18\"/>\n<text text-anchor=\"middle\" x=\"110.6\" y=\"-158.3\" font-family=\"Times,serif\" font-size=\"14.00\" fill=\"white\">caller_has_changed_a2</text>\n</a>\n</g>\n</g>\n<!-- lead_answered_a2 -->\n<g id=\"node6\" class=\"node\">\n<title>lead_answered_a2</title>\n<g id=\"a_node6\"><a xlink:title=\"(5) lead_answered_a2\">\n<ellipse fill=\"#404040\" stroke=\"#4a4a4a\" cx=\"110.6\" cy=\"-90\" rx=\"75.29\" ry=\"18\"/>\n<text text-anchor=\"middle\" x=\"110.6\" y=\"-86.3\" font-family=\"Times,serif\" font-size=\"14.00\" fill=\"white\">lead_answered_a2</text>\n</a>\n</g>\n</g>\n<!-- caller_has_changed_a2&#45;&gt;lead_answered_a2 -->\n<g id=\"edge4\" class=\"edge\">\n<title>caller_has_changed_a2-&gt;lead_answered_a2</title>\n<g id=\"a_edge4\"><a xlink:title=\"4 → 5\">\n<path fill=\"none\" stroke=\"#4a4a4a\" d=\"M110.6,-143.7C110.6,-135.98 110.6,-126.71 110.6,-118.11\"/>\n<polygon fill=\"#4a4a4a\" stroke=\"#4a4a4a\" points=\"114.1,-118.1 110.6,-108.1 107.1,-118.1 114.1,-118.1\"/>\n</a>\n</g>\n</g>\n<!-- weekday_a1 -->\n<g id=\"node2\" class=\"node\">\n<title>weekday_a1</title>\n<g id=\"a_node2\"><a xlink:title=\"(0) weekday_a1\">\n<ellipse fill=\"#404040\" stroke=\"#4a4a4a\" cx=\"54.6\" cy=\"-18\" rx=\"54.69\" ry=\"18\"/>\n<text text-anchor=\"middle\" x=\"54.6\" y=\"-14.3\" font-family=\"Times,serif\" font-size=\"14.00\" fill=\"white\">weekday_a1</text>\n</a>\n</g>\n</g>\n<!-- hour_a2 -->\n<g id=\"node3\" class=\"node\">\n<title>hour_a2</title>\n<g id=\"a_node3\"><a xlink:title=\"(3) hour_a2\">\n<ellipse fill=\"#404040\" stroke=\"#4a4a4a\" cx=\"54.6\" cy=\"-234\" rx=\"39.79\" ry=\"18\"/>\n<text text-anchor=\"middle\" x=\"54.6\" y=\"-230.3\" font-family=\"Times,serif\" font-size=\"14.00\" fill=\"white\">hour_a2</text>\n</a>\n</g>\n</g>\n<!-- hour_a2&#45;&gt;caller_has_changed_a2 -->\n<g id=\"edge2\" class=\"edge\">\n<title>hour_a2-&gt;caller_has_changed_a2</title>\n<g id=\"a_edge2\"><a xlink:title=\"3 → 4\">\n<path fill=\"none\" stroke=\"#4a4a4a\" d=\"M67.58,-216.76C74.38,-208.27 82.85,-197.68 90.48,-188.15\"/>\n<polygon fill=\"#4a4a4a\" stroke=\"#4a4a4a\" points=\"93.38,-190.12 96.9,-180.12 87.92,-185.75 93.38,-190.12\"/>\n</a>\n</g>\n</g>\n<!-- hour_a1 -->\n<g id=\"node4\" class=\"node\">\n<title>hour_a1</title>\n<g id=\"a_node4\"><a xlink:title=\"(1) hour_a1\">\n<ellipse fill=\"#404040\" stroke=\"#4a4a4a\" cx=\"166.6\" cy=\"-18\" rx=\"39.79\" ry=\"18\"/>\n<text text-anchor=\"middle\" x=\"166.6\" y=\"-14.3\" font-family=\"Times,serif\" font-size=\"14.00\" fill=\"white\">hour_a1</text>\n</a>\n</g>\n</g>\n<!-- weekday_a2 -->\n<g id=\"node5\" class=\"node\">\n<title>weekday_a2</title>\n<g id=\"a_node5\"><a xlink:title=\"(2) weekday_a2\">\n<ellipse fill=\"#404040\" stroke=\"#4a4a4a\" cx=\"166.6\" cy=\"-234\" rx=\"54.69\" ry=\"18\"/>\n<text text-anchor=\"middle\" x=\"166.6\" y=\"-230.3\" font-family=\"Times,serif\" font-size=\"14.00\" fill=\"white\">weekday_a2</text>\n</a>\n</g>\n</g>\n<!-- weekday_a2&#45;&gt;caller_has_changed_a2 -->\n<g id=\"edge1\" class=\"edge\">\n<title>weekday_a2-&gt;caller_has_changed_a2</title>\n<g id=\"a_edge1\"><a xlink:title=\"2 → 4\">\n<path fill=\"none\" stroke=\"#4a4a4a\" d=\"M153.32,-216.41C146.52,-207.91 138.09,-197.37 130.53,-187.91\"/>\n<polygon fill=\"#4a4a4a\" stroke=\"#4a4a4a\" points=\"133.14,-185.58 124.16,-179.96 127.67,-189.95 133.14,-185.58\"/>\n</a>\n</g>\n</g>\n<!-- lead_answered_a2&#45;&gt;weekday_a1 -->\n<g id=\"edge5\" class=\"edge\">\n<title>lead_answered_a2-&gt;weekday_a1</title>\n<g id=\"a_edge5\"><a xlink:title=\"5 → 0\">\n<path fill=\"none\" stroke=\"#4a4a4a\" d=\"M97.04,-72.05C90.23,-63.54 81.85,-53.07 74.34,-43.68\"/>\n<polygon fill=\"#4a4a4a\" stroke=\"#4a4a4a\" points=\"77.01,-41.41 68.03,-35.79 71.54,-45.78 77.01,-41.41\"/>\n</a>\n</g>\n</g>\n<!-- lead_answered_a2&#45;&gt;hour_a1 -->\n<g id=\"edge3\" class=\"edge\">\n<title>lead_answered_a2-&gt;hour_a1</title>\n<g id=\"a_edge3\"><a xlink:title=\"5 → 1\">\n<path fill=\"none\" stroke=\"#4a4a4a\" d=\"M124.15,-72.05C131.06,-63.42 139.59,-52.76 147.18,-43.27\"/>\n<polygon fill=\"#4a4a4a\" stroke=\"#4a4a4a\" points=\"150.04,-45.3 153.55,-35.31 144.57,-40.93 150.04,-45.3\"/>\n</a>\n</g>\n</g>\n</g>\n</svg>"
          },
          "metadata": {}
        }
      ]
    },
    {
      "cell_type": "code",
      "source": [
        "# Prédiction\n",
        "pred_prob_custom = predict(\n",
        "                          bn_custom,\n",
        "                          data=X_test,\n",
        "                          var_target=\"lead_answered_a2\",\n",
        "                          show_progress=True\n",
        "                        )\n",
        "\n",
        "pred_var_custom = pred_prob_custom.idxmax(axis=1).rename(\"pred\")"
      ],
      "metadata": {
        "id": "IaAhGe_1l0at",
        "colab": {
          "base_uri": "https://localhost:8080/"
        },
        "outputId": "9d126b38-7752-4c28-fa48-2f4359965e5d"
      },
      "execution_count": null,
      "outputs": [
        {
          "output_type": "stream",
          "name": "stdout",
          "text": []
        }
      ]
    },
    {
      "cell_type": "code",
      "source": [
        "print(pred_var_custom)"
      ],
      "metadata": {
        "id": "aHjNPqNYgWWe",
        "colab": {
          "base_uri": "https://localhost:8080/"
        },
        "outputId": "25d40777-d4b6-47aa-9ce9-47e1f0f71d7f"
      },
      "execution_count": null,
      "outputs": [
        {
          "output_type": "stream",
          "name": "stdout",
          "text": [
            "2802135    no\n",
            "1422470    no\n",
            "1899589    no\n",
            "2014809    no\n",
            "24274      no\n",
            "           ..\n",
            "185564     no\n",
            "1381535    no\n",
            "137709     no\n",
            "1073928    no\n",
            "894420     no\n",
            "Name: pred, Length: 564820, dtype: object\n"
          ]
        }
      ]
    },
    {
      "cell_type": "code",
      "source": [
        "(y_test == pred_var_custom).mean()"
      ],
      "metadata": {
        "id": "9bYuXdYXl2Aq",
        "colab": {
          "base_uri": "https://localhost:8080/"
        },
        "outputId": "46ed658f-eedc-48b7-e159-88b7343c4b9f"
      },
      "execution_count": null,
      "outputs": [
        {
          "output_type": "execute_result",
          "data": {
            "text/plain": [
              "0.8421886618745795"
            ]
          },
          "metadata": {},
          "execution_count": 33
        }
      ]
    },
    {
      "cell_type": "code",
      "source": [
        "# Créer une grille de seuils de décision\n",
        "thresholds = np.linspace(0.16, 0.17, 100)\n",
        "scores_yes = []\n",
        "scores_no = []\n",
        "\n",
        "for thresh in thresholds:\n",
        "    # Prédiction binaire basée sur le seuil\n",
        "    pred_binary_yes = pred_prob_custom['yes'].apply(lambda x: \"yes\" if x > thresh else \"no\")\n",
        "    pred_binary_no = pred_prob_custom['no'].apply(lambda x: \"no\" if x > thresh else \"yes\")\n",
        "\n",
        "    # Calculer l'accuracy pour chaque seuil\n",
        "    score_yes = (y_test == pred_binary_yes).mean()\n",
        "    score_no = (y_test == pred_binary_no).mean()\n",
        "\n",
        "    scores_yes.append(score_yes)\n",
        "    scores_no.append(score_no)\n",
        "\n",
        "# Trouver l'indice du point de croisement\n",
        "abs_diff = np.abs(np.array(scores_yes) - np.array(scores_no))\n",
        "min_diff_idx = np.argmin(abs_diff)  # Index du point le plus proche\n",
        "\n",
        "# Marquer le point de croisement\n",
        "cross_point_threshold = thresholds[min_diff_idx]\n",
        "cross_point_score_yes = scores_yes[min_diff_idx]\n",
        "cross_point_score_no = scores_no[min_diff_idx]\n",
        "\n",
        "print(f\"Threshold optimal: {cross_point_threshold}\")\n",
        "print(f\"Score au seuil optimal (yes): {cross_point_score_yes}\")\n",
        "print(f\"Score au seuil optimal (no): {cross_point_score_no}\")\n",
        "\n",
        "# Plot des résultats\n",
        "plt.figure(figsize=(10, 6))\n",
        "plt.plot(thresholds, scores_yes, label='Accuracy \"yes\"', color='blue')\n",
        "plt.plot(thresholds, scores_no, label='Accuracy \"no\"', color='green')\n",
        "plt.axvline(x=cross_point_threshold, color='red', linestyle='--', label=f'Threshold Optimal: {cross_point_threshold:.2f}')\n",
        "plt.scatter(cross_point_threshold, cross_point_score_yes, color='red', zorder=5)\n",
        "plt.scatter(cross_point_threshold, cross_point_score_no, color='red', zorder=5)\n",
        "plt.text(cross_point_threshold, cross_point_score_yes, f'{cross_point_score_yes:.2f}', fontsize=12, verticalalignment='bottom', horizontalalignment='right')\n",
        "plt.text(cross_point_threshold, cross_point_score_no, f'{cross_point_score_no:.2f}', fontsize=12, verticalalignment='top', horizontalalignment='right')\n",
        "plt.xlabel('Threshold')\n",
        "plt.ylabel('Accuracy')\n",
        "plt.title('Accuracy vs Threshold for Predicting \"yes\" and \"no\"')\n",
        "plt.legend()\n",
        "plt.grid(True)\n",
        "plt.show()"
      ],
      "metadata": {
        "id": "mnrfs144l6BQ",
        "colab": {
          "base_uri": "https://localhost:8080/",
          "height": 617
        },
        "outputId": "e3255e89-684c-4b4f-ed01-60bba871cba6"
      },
      "execution_count": null,
      "outputs": [
        {
          "output_type": "stream",
          "name": "stdout",
          "text": [
            "Threshold optimal: 0.16474747474747475\n",
            "Score au seuil optimal (yes): 0.8421886618745795\n",
            "Score au seuil optimal (no): 0.8421886618745795\n"
          ]
        },
        {
          "output_type": "display_data",
          "data": {
            "text/plain": [
              "<Figure size 1000x600 with 1 Axes>"
            ],
            "image/svg+xml": "<?xml version=\"1.0\" encoding=\"utf-8\" standalone=\"no\"?>\n<!DOCTYPE svg PUBLIC \"-//W3C//DTD SVG 1.1//EN\"\n  \"http://www.w3.org/Graphics/SVG/1.1/DTD/svg11.dtd\">\n<svg xmlns:xlink=\"http://www.w3.org/1999/xlink\" width=\"621.70625pt\" height=\"392.514375pt\" viewBox=\"0 0 621.70625 392.514375\" xmlns=\"http://www.w3.org/2000/svg\" version=\"1.1\">\n <metadata>\n  <rdf:RDF xmlns:dc=\"http://purl.org/dc/elements/1.1/\" xmlns:cc=\"http://creativecommons.org/ns#\" xmlns:rdf=\"http://www.w3.org/1999/02/22-rdf-syntax-ns#\">\n   <cc:Work>\n    <dc:type rdf:resource=\"http://purl.org/dc/dcmitype/StillImage\"/>\n    <dc:date>2024-05-24T06:23:32.504062</dc:date>\n    <dc:format>image/svg+xml</dc:format>\n    <dc:creator>\n     <cc:Agent>\n      <dc:title>Matplotlib v3.7.1, https://matplotlib.org/</dc:title>\n     </cc:Agent>\n    </dc:creator>\n   </cc:Work>\n  </rdf:RDF>\n </metadata>\n <defs>\n  <style type=\"text/css\">*{stroke-linejoin: round; stroke-linecap: butt}</style>\n </defs>\n <g id=\"figure_1\">\n  <g id=\"patch_1\">\n   <path d=\"M 0 392.514375 \nL 621.70625 392.514375 \nL 621.70625 0 \nL 0 0 \nz\n\" style=\"fill: #e0e0e0\"/>\n  </g>\n  <g id=\"axes_1\">\n   <g id=\"patch_2\">\n    <path d=\"M 56.50625 354.958125 \nL 614.50625 354.958125 \nL 614.50625 22.318125 \nL 56.50625 22.318125 \nz\n\" style=\"fill: #ffffff\"/>\n   </g>\n   <g id=\"matplotlib.axis_1\">\n    <g id=\"xtick_1\">\n     <g id=\"line2d_1\">\n      <path d=\"M 81.869886 354.958125 \nL 81.869886 22.318125 \n\" clip-path=\"url(#p8bb1eda33a)\" style=\"fill: none; stroke: #b0b0b0; stroke-width: 0.8; stroke-linecap: square\"/>\n     </g>\n     <g id=\"line2d_2\">\n      <defs>\n       <path id=\"mbe4d0ac6f3\" d=\"M 0 0 \nL 0 3.5 \n\" style=\"stroke: #000000; stroke-width: 0.8\"/>\n      </defs>\n      <g>\n       <use xlink:href=\"#mbe4d0ac6f3\" x=\"81.869886\" y=\"354.958125\" style=\"stroke: #000000; stroke-width: 0.8\"/>\n      </g>\n     </g>\n     <g id=\"text_1\">\n      <!-- 0.160 -->\n      <g transform=\"translate(67.555824 369.556562) scale(0.1 -0.1)\">\n       <defs>\n        <path id=\"DejaVuSans-30\" d=\"M 2034 4250 \nQ 1547 4250 1301 3770 \nQ 1056 3291 1056 2328 \nQ 1056 1369 1301 889 \nQ 1547 409 2034 409 \nQ 2525 409 2770 889 \nQ 3016 1369 3016 2328 \nQ 3016 3291 2770 3770 \nQ 2525 4250 2034 4250 \nz\nM 2034 4750 \nQ 2819 4750 3233 4129 \nQ 3647 3509 3647 2328 \nQ 3647 1150 3233 529 \nQ 2819 -91 2034 -91 \nQ 1250 -91 836 529 \nQ 422 1150 422 2328 \nQ 422 3509 836 4129 \nQ 1250 4750 2034 4750 \nz\n\" transform=\"scale(0.015625)\"/>\n        <path id=\"DejaVuSans-2e\" d=\"M 684 794 \nL 1344 794 \nL 1344 0 \nL 684 0 \nL 684 794 \nz\n\" transform=\"scale(0.015625)\"/>\n        <path id=\"DejaVuSans-31\" d=\"M 794 531 \nL 1825 531 \nL 1825 4091 \nL 703 3866 \nL 703 4441 \nL 1819 4666 \nL 2450 4666 \nL 2450 531 \nL 3481 531 \nL 3481 0 \nL 794 0 \nL 794 531 \nz\n\" transform=\"scale(0.015625)\"/>\n        <path id=\"DejaVuSans-36\" d=\"M 2113 2584 \nQ 1688 2584 1439 2293 \nQ 1191 2003 1191 1497 \nQ 1191 994 1439 701 \nQ 1688 409 2113 409 \nQ 2538 409 2786 701 \nQ 3034 994 3034 1497 \nQ 3034 2003 2786 2293 \nQ 2538 2584 2113 2584 \nz\nM 3366 4563 \nL 3366 3988 \nQ 3128 4100 2886 4159 \nQ 2644 4219 2406 4219 \nQ 1781 4219 1451 3797 \nQ 1122 3375 1075 2522 \nQ 1259 2794 1537 2939 \nQ 1816 3084 2150 3084 \nQ 2853 3084 3261 2657 \nQ 3669 2231 3669 1497 \nQ 3669 778 3244 343 \nQ 2819 -91 2113 -91 \nQ 1303 -91 875 529 \nQ 447 1150 447 2328 \nQ 447 3434 972 4092 \nQ 1497 4750 2381 4750 \nQ 2619 4750 2861 4703 \nQ 3103 4656 3366 4563 \nz\n\" transform=\"scale(0.015625)\"/>\n       </defs>\n       <use xlink:href=\"#DejaVuSans-30\"/>\n       <use xlink:href=\"#DejaVuSans-2e\" x=\"63.623047\"/>\n       <use xlink:href=\"#DejaVuSans-31\" x=\"95.410156\"/>\n       <use xlink:href=\"#DejaVuSans-36\" x=\"159.033203\"/>\n       <use xlink:href=\"#DejaVuSans-30\" x=\"222.65625\"/>\n      </g>\n     </g>\n    </g>\n    <g id=\"xtick_2\">\n     <g id=\"line2d_3\">\n      <path d=\"M 183.324432 354.958125 \nL 183.324432 22.318125 \n\" clip-path=\"url(#p8bb1eda33a)\" style=\"fill: none; stroke: #b0b0b0; stroke-width: 0.8; stroke-linecap: square\"/>\n     </g>\n     <g id=\"line2d_4\">\n      <g>\n       <use xlink:href=\"#mbe4d0ac6f3\" x=\"183.324432\" y=\"354.958125\" style=\"stroke: #000000; stroke-width: 0.8\"/>\n      </g>\n     </g>\n     <g id=\"text_2\">\n      <!-- 0.162 -->\n      <g transform=\"translate(169.010369 369.556562) scale(0.1 -0.1)\">\n       <defs>\n        <path id=\"DejaVuSans-32\" d=\"M 1228 531 \nL 3431 531 \nL 3431 0 \nL 469 0 \nL 469 531 \nQ 828 903 1448 1529 \nQ 2069 2156 2228 2338 \nQ 2531 2678 2651 2914 \nQ 2772 3150 2772 3378 \nQ 2772 3750 2511 3984 \nQ 2250 4219 1831 4219 \nQ 1534 4219 1204 4116 \nQ 875 4013 500 3803 \nL 500 4441 \nQ 881 4594 1212 4672 \nQ 1544 4750 1819 4750 \nQ 2544 4750 2975 4387 \nQ 3406 4025 3406 3419 \nQ 3406 3131 3298 2873 \nQ 3191 2616 2906 2266 \nQ 2828 2175 2409 1742 \nQ 1991 1309 1228 531 \nz\n\" transform=\"scale(0.015625)\"/>\n       </defs>\n       <use xlink:href=\"#DejaVuSans-30\"/>\n       <use xlink:href=\"#DejaVuSans-2e\" x=\"63.623047\"/>\n       <use xlink:href=\"#DejaVuSans-31\" x=\"95.410156\"/>\n       <use xlink:href=\"#DejaVuSans-36\" x=\"159.033203\"/>\n       <use xlink:href=\"#DejaVuSans-32\" x=\"222.65625\"/>\n      </g>\n     </g>\n    </g>\n    <g id=\"xtick_3\">\n     <g id=\"line2d_5\">\n      <path d=\"M 284.778977 354.958125 \nL 284.778977 22.318125 \n\" clip-path=\"url(#p8bb1eda33a)\" style=\"fill: none; stroke: #b0b0b0; stroke-width: 0.8; stroke-linecap: square\"/>\n     </g>\n     <g id=\"line2d_6\">\n      <g>\n       <use xlink:href=\"#mbe4d0ac6f3\" x=\"284.778977\" y=\"354.958125\" style=\"stroke: #000000; stroke-width: 0.8\"/>\n      </g>\n     </g>\n     <g id=\"text_3\">\n      <!-- 0.164 -->\n      <g transform=\"translate(270.464915 369.556562) scale(0.1 -0.1)\">\n       <defs>\n        <path id=\"DejaVuSans-34\" d=\"M 2419 4116 \nL 825 1625 \nL 2419 1625 \nL 2419 4116 \nz\nM 2253 4666 \nL 3047 4666 \nL 3047 1625 \nL 3713 1625 \nL 3713 1100 \nL 3047 1100 \nL 3047 0 \nL 2419 0 \nL 2419 1100 \nL 313 1100 \nL 313 1709 \nL 2253 4666 \nz\n\" transform=\"scale(0.015625)\"/>\n       </defs>\n       <use xlink:href=\"#DejaVuSans-30\"/>\n       <use xlink:href=\"#DejaVuSans-2e\" x=\"63.623047\"/>\n       <use xlink:href=\"#DejaVuSans-31\" x=\"95.410156\"/>\n       <use xlink:href=\"#DejaVuSans-36\" x=\"159.033203\"/>\n       <use xlink:href=\"#DejaVuSans-34\" x=\"222.65625\"/>\n      </g>\n     </g>\n    </g>\n    <g id=\"xtick_4\">\n     <g id=\"line2d_7\">\n      <path d=\"M 386.233523 354.958125 \nL 386.233523 22.318125 \n\" clip-path=\"url(#p8bb1eda33a)\" style=\"fill: none; stroke: #b0b0b0; stroke-width: 0.8; stroke-linecap: square\"/>\n     </g>\n     <g id=\"line2d_8\">\n      <g>\n       <use xlink:href=\"#mbe4d0ac6f3\" x=\"386.233523\" y=\"354.958125\" style=\"stroke: #000000; stroke-width: 0.8\"/>\n      </g>\n     </g>\n     <g id=\"text_4\">\n      <!-- 0.166 -->\n      <g transform=\"translate(371.91946 369.556562) scale(0.1 -0.1)\">\n       <use xlink:href=\"#DejaVuSans-30\"/>\n       <use xlink:href=\"#DejaVuSans-2e\" x=\"63.623047\"/>\n       <use xlink:href=\"#DejaVuSans-31\" x=\"95.410156\"/>\n       <use xlink:href=\"#DejaVuSans-36\" x=\"159.033203\"/>\n       <use xlink:href=\"#DejaVuSans-36\" x=\"222.65625\"/>\n      </g>\n     </g>\n    </g>\n    <g id=\"xtick_5\">\n     <g id=\"line2d_9\">\n      <path d=\"M 487.688068 354.958125 \nL 487.688068 22.318125 \n\" clip-path=\"url(#p8bb1eda33a)\" style=\"fill: none; stroke: #b0b0b0; stroke-width: 0.8; stroke-linecap: square\"/>\n     </g>\n     <g id=\"line2d_10\">\n      <g>\n       <use xlink:href=\"#mbe4d0ac6f3\" x=\"487.688068\" y=\"354.958125\" style=\"stroke: #000000; stroke-width: 0.8\"/>\n      </g>\n     </g>\n     <g id=\"text_5\">\n      <!-- 0.168 -->\n      <g transform=\"translate(473.374006 369.556562) scale(0.1 -0.1)\">\n       <defs>\n        <path id=\"DejaVuSans-38\" d=\"M 2034 2216 \nQ 1584 2216 1326 1975 \nQ 1069 1734 1069 1313 \nQ 1069 891 1326 650 \nQ 1584 409 2034 409 \nQ 2484 409 2743 651 \nQ 3003 894 3003 1313 \nQ 3003 1734 2745 1975 \nQ 2488 2216 2034 2216 \nz\nM 1403 2484 \nQ 997 2584 770 2862 \nQ 544 3141 544 3541 \nQ 544 4100 942 4425 \nQ 1341 4750 2034 4750 \nQ 2731 4750 3128 4425 \nQ 3525 4100 3525 3541 \nQ 3525 3141 3298 2862 \nQ 3072 2584 2669 2484 \nQ 3125 2378 3379 2068 \nQ 3634 1759 3634 1313 \nQ 3634 634 3220 271 \nQ 2806 -91 2034 -91 \nQ 1263 -91 848 271 \nQ 434 634 434 1313 \nQ 434 1759 690 2068 \nQ 947 2378 1403 2484 \nz\nM 1172 3481 \nQ 1172 3119 1398 2916 \nQ 1625 2713 2034 2713 \nQ 2441 2713 2670 2916 \nQ 2900 3119 2900 3481 \nQ 2900 3844 2670 4047 \nQ 2441 4250 2034 4250 \nQ 1625 4250 1398 4047 \nQ 1172 3844 1172 3481 \nz\n\" transform=\"scale(0.015625)\"/>\n       </defs>\n       <use xlink:href=\"#DejaVuSans-30\"/>\n       <use xlink:href=\"#DejaVuSans-2e\" x=\"63.623047\"/>\n       <use xlink:href=\"#DejaVuSans-31\" x=\"95.410156\"/>\n       <use xlink:href=\"#DejaVuSans-36\" x=\"159.033203\"/>\n       <use xlink:href=\"#DejaVuSans-38\" x=\"222.65625\"/>\n      </g>\n     </g>\n    </g>\n    <g id=\"xtick_6\">\n     <g id=\"line2d_11\">\n      <path d=\"M 589.142614 354.958125 \nL 589.142614 22.318125 \n\" clip-path=\"url(#p8bb1eda33a)\" style=\"fill: none; stroke: #b0b0b0; stroke-width: 0.8; stroke-linecap: square\"/>\n     </g>\n     <g id=\"line2d_12\">\n      <g>\n       <use xlink:href=\"#mbe4d0ac6f3\" x=\"589.142614\" y=\"354.958125\" style=\"stroke: #000000; stroke-width: 0.8\"/>\n      </g>\n     </g>\n     <g id=\"text_6\">\n      <!-- 0.170 -->\n      <g transform=\"translate(574.828551 369.556562) scale(0.1 -0.1)\">\n       <defs>\n        <path id=\"DejaVuSans-37\" d=\"M 525 4666 \nL 3525 4666 \nL 3525 4397 \nL 1831 0 \nL 1172 0 \nL 2766 4134 \nL 525 4134 \nL 525 4666 \nz\n\" transform=\"scale(0.015625)\"/>\n       </defs>\n       <use xlink:href=\"#DejaVuSans-30\"/>\n       <use xlink:href=\"#DejaVuSans-2e\" x=\"63.623047\"/>\n       <use xlink:href=\"#DejaVuSans-31\" x=\"95.410156\"/>\n       <use xlink:href=\"#DejaVuSans-37\" x=\"159.033203\"/>\n       <use xlink:href=\"#DejaVuSans-30\" x=\"222.65625\"/>\n      </g>\n     </g>\n    </g>\n    <g id=\"text_7\">\n     <!-- Threshold -->\n     <g transform=\"translate(310.867969 383.234687) scale(0.1 -0.1)\">\n      <defs>\n       <path id=\"DejaVuSans-54\" d=\"M -19 4666 \nL 3928 4666 \nL 3928 4134 \nL 2272 4134 \nL 2272 0 \nL 1638 0 \nL 1638 4134 \nL -19 4134 \nL -19 4666 \nz\n\" transform=\"scale(0.015625)\"/>\n       <path id=\"DejaVuSans-68\" d=\"M 3513 2113 \nL 3513 0 \nL 2938 0 \nL 2938 2094 \nQ 2938 2591 2744 2837 \nQ 2550 3084 2163 3084 \nQ 1697 3084 1428 2787 \nQ 1159 2491 1159 1978 \nL 1159 0 \nL 581 0 \nL 581 4863 \nL 1159 4863 \nL 1159 2956 \nQ 1366 3272 1645 3428 \nQ 1925 3584 2291 3584 \nQ 2894 3584 3203 3211 \nQ 3513 2838 3513 2113 \nz\n\" transform=\"scale(0.015625)\"/>\n       <path id=\"DejaVuSans-72\" d=\"M 2631 2963 \nQ 2534 3019 2420 3045 \nQ 2306 3072 2169 3072 \nQ 1681 3072 1420 2755 \nQ 1159 2438 1159 1844 \nL 1159 0 \nL 581 0 \nL 581 3500 \nL 1159 3500 \nL 1159 2956 \nQ 1341 3275 1631 3429 \nQ 1922 3584 2338 3584 \nQ 2397 3584 2469 3576 \nQ 2541 3569 2628 3553 \nL 2631 2963 \nz\n\" transform=\"scale(0.015625)\"/>\n       <path id=\"DejaVuSans-65\" d=\"M 3597 1894 \nL 3597 1613 \nL 953 1613 \nQ 991 1019 1311 708 \nQ 1631 397 2203 397 \nQ 2534 397 2845 478 \nQ 3156 559 3463 722 \nL 3463 178 \nQ 3153 47 2828 -22 \nQ 2503 -91 2169 -91 \nQ 1331 -91 842 396 \nQ 353 884 353 1716 \nQ 353 2575 817 3079 \nQ 1281 3584 2069 3584 \nQ 2775 3584 3186 3129 \nQ 3597 2675 3597 1894 \nz\nM 3022 2063 \nQ 3016 2534 2758 2815 \nQ 2500 3097 2075 3097 \nQ 1594 3097 1305 2825 \nQ 1016 2553 972 2059 \nL 3022 2063 \nz\n\" transform=\"scale(0.015625)\"/>\n       <path id=\"DejaVuSans-73\" d=\"M 2834 3397 \nL 2834 2853 \nQ 2591 2978 2328 3040 \nQ 2066 3103 1784 3103 \nQ 1356 3103 1142 2972 \nQ 928 2841 928 2578 \nQ 928 2378 1081 2264 \nQ 1234 2150 1697 2047 \nL 1894 2003 \nQ 2506 1872 2764 1633 \nQ 3022 1394 3022 966 \nQ 3022 478 2636 193 \nQ 2250 -91 1575 -91 \nQ 1294 -91 989 -36 \nQ 684 19 347 128 \nL 347 722 \nQ 666 556 975 473 \nQ 1284 391 1588 391 \nQ 1994 391 2212 530 \nQ 2431 669 2431 922 \nQ 2431 1156 2273 1281 \nQ 2116 1406 1581 1522 \nL 1381 1569 \nQ 847 1681 609 1914 \nQ 372 2147 372 2553 \nQ 372 3047 722 3315 \nQ 1072 3584 1716 3584 \nQ 2034 3584 2315 3537 \nQ 2597 3491 2834 3397 \nz\n\" transform=\"scale(0.015625)\"/>\n       <path id=\"DejaVuSans-6f\" d=\"M 1959 3097 \nQ 1497 3097 1228 2736 \nQ 959 2375 959 1747 \nQ 959 1119 1226 758 \nQ 1494 397 1959 397 \nQ 2419 397 2687 759 \nQ 2956 1122 2956 1747 \nQ 2956 2369 2687 2733 \nQ 2419 3097 1959 3097 \nz\nM 1959 3584 \nQ 2709 3584 3137 3096 \nQ 3566 2609 3566 1747 \nQ 3566 888 3137 398 \nQ 2709 -91 1959 -91 \nQ 1206 -91 779 398 \nQ 353 888 353 1747 \nQ 353 2609 779 3096 \nQ 1206 3584 1959 3584 \nz\n\" transform=\"scale(0.015625)\"/>\n       <path id=\"DejaVuSans-6c\" d=\"M 603 4863 \nL 1178 4863 \nL 1178 0 \nL 603 0 \nL 603 4863 \nz\n\" transform=\"scale(0.015625)\"/>\n       <path id=\"DejaVuSans-64\" d=\"M 2906 2969 \nL 2906 4863 \nL 3481 4863 \nL 3481 0 \nL 2906 0 \nL 2906 525 \nQ 2725 213 2448 61 \nQ 2172 -91 1784 -91 \nQ 1150 -91 751 415 \nQ 353 922 353 1747 \nQ 353 2572 751 3078 \nQ 1150 3584 1784 3584 \nQ 2172 3584 2448 3432 \nQ 2725 3281 2906 2969 \nz\nM 947 1747 \nQ 947 1113 1208 752 \nQ 1469 391 1925 391 \nQ 2381 391 2643 752 \nQ 2906 1113 2906 1747 \nQ 2906 2381 2643 2742 \nQ 2381 3103 1925 3103 \nQ 1469 3103 1208 2742 \nQ 947 2381 947 1747 \nz\n\" transform=\"scale(0.015625)\"/>\n      </defs>\n      <use xlink:href=\"#DejaVuSans-54\"/>\n      <use xlink:href=\"#DejaVuSans-68\" x=\"61.083984\"/>\n      <use xlink:href=\"#DejaVuSans-72\" x=\"124.462891\"/>\n      <use xlink:href=\"#DejaVuSans-65\" x=\"163.326172\"/>\n      <use xlink:href=\"#DejaVuSans-73\" x=\"224.849609\"/>\n      <use xlink:href=\"#DejaVuSans-68\" x=\"276.949219\"/>\n      <use xlink:href=\"#DejaVuSans-6f\" x=\"340.328125\"/>\n      <use xlink:href=\"#DejaVuSans-6c\" x=\"401.509766\"/>\n      <use xlink:href=\"#DejaVuSans-64\" x=\"429.292969\"/>\n     </g>\n    </g>\n   </g>\n   <g id=\"matplotlib.axis_2\">\n    <g id=\"ytick_1\">\n     <g id=\"line2d_13\">\n      <path d=\"M 56.50625 349.598158 \nL 614.50625 349.598158 \n\" clip-path=\"url(#p8bb1eda33a)\" style=\"fill: none; stroke: #b0b0b0; stroke-width: 0.8; stroke-linecap: square\"/>\n     </g>\n     <g id=\"line2d_14\">\n      <defs>\n       <path id=\"me5232834d4\" d=\"M 0 0 \nL -3.5 0 \n\" style=\"stroke: #000000; stroke-width: 0.8\"/>\n      </defs>\n      <g>\n       <use xlink:href=\"#me5232834d4\" x=\"56.50625\" y=\"349.598158\" style=\"stroke: #000000; stroke-width: 0.8\"/>\n      </g>\n     </g>\n     <g id=\"text_8\">\n      <!-- 0.650 -->\n      <g transform=\"translate(20.878125 353.397377) scale(0.1 -0.1)\">\n       <defs>\n        <path id=\"DejaVuSans-35\" d=\"M 691 4666 \nL 3169 4666 \nL 3169 4134 \nL 1269 4134 \nL 1269 2991 \nQ 1406 3038 1543 3061 \nQ 1681 3084 1819 3084 \nQ 2600 3084 3056 2656 \nQ 3513 2228 3513 1497 \nQ 3513 744 3044 326 \nQ 2575 -91 1722 -91 \nQ 1428 -91 1123 -41 \nQ 819 9 494 109 \nL 494 744 \nQ 775 591 1075 516 \nQ 1375 441 1709 441 \nQ 2250 441 2565 725 \nQ 2881 1009 2881 1497 \nQ 2881 1984 2565 2268 \nQ 2250 2553 1709 2553 \nQ 1456 2553 1204 2497 \nQ 953 2441 691 2322 \nL 691 4666 \nz\n\" transform=\"scale(0.015625)\"/>\n       </defs>\n       <use xlink:href=\"#DejaVuSans-30\"/>\n       <use xlink:href=\"#DejaVuSans-2e\" x=\"63.623047\"/>\n       <use xlink:href=\"#DejaVuSans-36\" x=\"95.410156\"/>\n       <use xlink:href=\"#DejaVuSans-35\" x=\"159.033203\"/>\n       <use xlink:href=\"#DejaVuSans-30\" x=\"222.65625\"/>\n      </g>\n     </g>\n    </g>\n    <g id=\"ytick_2\">\n     <g id=\"line2d_15\">\n      <path d=\"M 56.50625 308.992221 \nL 614.50625 308.992221 \n\" clip-path=\"url(#p8bb1eda33a)\" style=\"fill: none; stroke: #b0b0b0; stroke-width: 0.8; stroke-linecap: square\"/>\n     </g>\n     <g id=\"line2d_16\">\n      <g>\n       <use xlink:href=\"#me5232834d4\" x=\"56.50625\" y=\"308.992221\" style=\"stroke: #000000; stroke-width: 0.8\"/>\n      </g>\n     </g>\n     <g id=\"text_9\">\n      <!-- 0.675 -->\n      <g transform=\"translate(20.878125 312.791439) scale(0.1 -0.1)\">\n       <use xlink:href=\"#DejaVuSans-30\"/>\n       <use xlink:href=\"#DejaVuSans-2e\" x=\"63.623047\"/>\n       <use xlink:href=\"#DejaVuSans-36\" x=\"95.410156\"/>\n       <use xlink:href=\"#DejaVuSans-37\" x=\"159.033203\"/>\n       <use xlink:href=\"#DejaVuSans-35\" x=\"222.65625\"/>\n      </g>\n     </g>\n    </g>\n    <g id=\"ytick_3\">\n     <g id=\"line2d_17\">\n      <path d=\"M 56.50625 268.386283 \nL 614.50625 268.386283 \n\" clip-path=\"url(#p8bb1eda33a)\" style=\"fill: none; stroke: #b0b0b0; stroke-width: 0.8; stroke-linecap: square\"/>\n     </g>\n     <g id=\"line2d_18\">\n      <g>\n       <use xlink:href=\"#me5232834d4\" x=\"56.50625\" y=\"268.386283\" style=\"stroke: #000000; stroke-width: 0.8\"/>\n      </g>\n     </g>\n     <g id=\"text_10\">\n      <!-- 0.700 -->\n      <g transform=\"translate(20.878125 272.185502) scale(0.1 -0.1)\">\n       <use xlink:href=\"#DejaVuSans-30\"/>\n       <use xlink:href=\"#DejaVuSans-2e\" x=\"63.623047\"/>\n       <use xlink:href=\"#DejaVuSans-37\" x=\"95.410156\"/>\n       <use xlink:href=\"#DejaVuSans-30\" x=\"159.033203\"/>\n       <use xlink:href=\"#DejaVuSans-30\" x=\"222.65625\"/>\n      </g>\n     </g>\n    </g>\n    <g id=\"ytick_4\">\n     <g id=\"line2d_19\">\n      <path d=\"M 56.50625 227.780345 \nL 614.50625 227.780345 \n\" clip-path=\"url(#p8bb1eda33a)\" style=\"fill: none; stroke: #b0b0b0; stroke-width: 0.8; stroke-linecap: square\"/>\n     </g>\n     <g id=\"line2d_20\">\n      <g>\n       <use xlink:href=\"#me5232834d4\" x=\"56.50625\" y=\"227.780345\" style=\"stroke: #000000; stroke-width: 0.8\"/>\n      </g>\n     </g>\n     <g id=\"text_11\">\n      <!-- 0.725 -->\n      <g transform=\"translate(20.878125 231.579564) scale(0.1 -0.1)\">\n       <use xlink:href=\"#DejaVuSans-30\"/>\n       <use xlink:href=\"#DejaVuSans-2e\" x=\"63.623047\"/>\n       <use xlink:href=\"#DejaVuSans-37\" x=\"95.410156\"/>\n       <use xlink:href=\"#DejaVuSans-32\" x=\"159.033203\"/>\n       <use xlink:href=\"#DejaVuSans-35\" x=\"222.65625\"/>\n      </g>\n     </g>\n    </g>\n    <g id=\"ytick_5\">\n     <g id=\"line2d_21\">\n      <path d=\"M 56.50625 187.174408 \nL 614.50625 187.174408 \n\" clip-path=\"url(#p8bb1eda33a)\" style=\"fill: none; stroke: #b0b0b0; stroke-width: 0.8; stroke-linecap: square\"/>\n     </g>\n     <g id=\"line2d_22\">\n      <g>\n       <use xlink:href=\"#me5232834d4\" x=\"56.50625\" y=\"187.174408\" style=\"stroke: #000000; stroke-width: 0.8\"/>\n      </g>\n     </g>\n     <g id=\"text_12\">\n      <!-- 0.750 -->\n      <g transform=\"translate(20.878125 190.973626) scale(0.1 -0.1)\">\n       <use xlink:href=\"#DejaVuSans-30\"/>\n       <use xlink:href=\"#DejaVuSans-2e\" x=\"63.623047\"/>\n       <use xlink:href=\"#DejaVuSans-37\" x=\"95.410156\"/>\n       <use xlink:href=\"#DejaVuSans-35\" x=\"159.033203\"/>\n       <use xlink:href=\"#DejaVuSans-30\" x=\"222.65625\"/>\n      </g>\n     </g>\n    </g>\n    <g id=\"ytick_6\">\n     <g id=\"line2d_23\">\n      <path d=\"M 56.50625 146.56847 \nL 614.50625 146.56847 \n\" clip-path=\"url(#p8bb1eda33a)\" style=\"fill: none; stroke: #b0b0b0; stroke-width: 0.8; stroke-linecap: square\"/>\n     </g>\n     <g id=\"line2d_24\">\n      <g>\n       <use xlink:href=\"#me5232834d4\" x=\"56.50625\" y=\"146.56847\" style=\"stroke: #000000; stroke-width: 0.8\"/>\n      </g>\n     </g>\n     <g id=\"text_13\">\n      <!-- 0.775 -->\n      <g transform=\"translate(20.878125 150.367689) scale(0.1 -0.1)\">\n       <use xlink:href=\"#DejaVuSans-30\"/>\n       <use xlink:href=\"#DejaVuSans-2e\" x=\"63.623047\"/>\n       <use xlink:href=\"#DejaVuSans-37\" x=\"95.410156\"/>\n       <use xlink:href=\"#DejaVuSans-37\" x=\"159.033203\"/>\n       <use xlink:href=\"#DejaVuSans-35\" x=\"222.65625\"/>\n      </g>\n     </g>\n    </g>\n    <g id=\"ytick_7\">\n     <g id=\"line2d_25\">\n      <path d=\"M 56.50625 105.962532 \nL 614.50625 105.962532 \n\" clip-path=\"url(#p8bb1eda33a)\" style=\"fill: none; stroke: #b0b0b0; stroke-width: 0.8; stroke-linecap: square\"/>\n     </g>\n     <g id=\"line2d_26\">\n      <g>\n       <use xlink:href=\"#me5232834d4\" x=\"56.50625\" y=\"105.962532\" style=\"stroke: #000000; stroke-width: 0.8\"/>\n      </g>\n     </g>\n     <g id=\"text_14\">\n      <!-- 0.800 -->\n      <g transform=\"translate(20.878125 109.761751) scale(0.1 -0.1)\">\n       <use xlink:href=\"#DejaVuSans-30\"/>\n       <use xlink:href=\"#DejaVuSans-2e\" x=\"63.623047\"/>\n       <use xlink:href=\"#DejaVuSans-38\" x=\"95.410156\"/>\n       <use xlink:href=\"#DejaVuSans-30\" x=\"159.033203\"/>\n       <use xlink:href=\"#DejaVuSans-30\" x=\"222.65625\"/>\n      </g>\n     </g>\n    </g>\n    <g id=\"ytick_8\">\n     <g id=\"line2d_27\">\n      <path d=\"M 56.50625 65.356594 \nL 614.50625 65.356594 \n\" clip-path=\"url(#p8bb1eda33a)\" style=\"fill: none; stroke: #b0b0b0; stroke-width: 0.8; stroke-linecap: square\"/>\n     </g>\n     <g id=\"line2d_28\">\n      <g>\n       <use xlink:href=\"#me5232834d4\" x=\"56.50625\" y=\"65.356594\" style=\"stroke: #000000; stroke-width: 0.8\"/>\n      </g>\n     </g>\n     <g id=\"text_15\">\n      <!-- 0.825 -->\n      <g transform=\"translate(20.878125 69.155813) scale(0.1 -0.1)\">\n       <use xlink:href=\"#DejaVuSans-30\"/>\n       <use xlink:href=\"#DejaVuSans-2e\" x=\"63.623047\"/>\n       <use xlink:href=\"#DejaVuSans-38\" x=\"95.410156\"/>\n       <use xlink:href=\"#DejaVuSans-32\" x=\"159.033203\"/>\n       <use xlink:href=\"#DejaVuSans-35\" x=\"222.65625\"/>\n      </g>\n     </g>\n    </g>\n    <g id=\"ytick_9\">\n     <g id=\"line2d_29\">\n      <path d=\"M 56.50625 24.750657 \nL 614.50625 24.750657 \n\" clip-path=\"url(#p8bb1eda33a)\" style=\"fill: none; stroke: #b0b0b0; stroke-width: 0.8; stroke-linecap: square\"/>\n     </g>\n     <g id=\"line2d_30\">\n      <g>\n       <use xlink:href=\"#me5232834d4\" x=\"56.50625\" y=\"24.750657\" style=\"stroke: #000000; stroke-width: 0.8\"/>\n      </g>\n     </g>\n     <g id=\"text_16\">\n      <!-- 0.850 -->\n      <g transform=\"translate(20.878125 28.549875) scale(0.1 -0.1)\">\n       <use xlink:href=\"#DejaVuSans-30\"/>\n       <use xlink:href=\"#DejaVuSans-2e\" x=\"63.623047\"/>\n       <use xlink:href=\"#DejaVuSans-38\" x=\"95.410156\"/>\n       <use xlink:href=\"#DejaVuSans-35\" x=\"159.033203\"/>\n       <use xlink:href=\"#DejaVuSans-30\" x=\"222.65625\"/>\n      </g>\n     </g>\n    </g>\n    <g id=\"text_17\">\n     <!-- Accuracy -->\n     <g transform=\"translate(14.798437 211.46625) rotate(-90) scale(0.1 -0.1)\">\n      <defs>\n       <path id=\"DejaVuSans-41\" d=\"M 2188 4044 \nL 1331 1722 \nL 3047 1722 \nL 2188 4044 \nz\nM 1831 4666 \nL 2547 4666 \nL 4325 0 \nL 3669 0 \nL 3244 1197 \nL 1141 1197 \nL 716 0 \nL 50 0 \nL 1831 4666 \nz\n\" transform=\"scale(0.015625)\"/>\n       <path id=\"DejaVuSans-63\" d=\"M 3122 3366 \nL 3122 2828 \nQ 2878 2963 2633 3030 \nQ 2388 3097 2138 3097 \nQ 1578 3097 1268 2742 \nQ 959 2388 959 1747 \nQ 959 1106 1268 751 \nQ 1578 397 2138 397 \nQ 2388 397 2633 464 \nQ 2878 531 3122 666 \nL 3122 134 \nQ 2881 22 2623 -34 \nQ 2366 -91 2075 -91 \nQ 1284 -91 818 406 \nQ 353 903 353 1747 \nQ 353 2603 823 3093 \nQ 1294 3584 2113 3584 \nQ 2378 3584 2631 3529 \nQ 2884 3475 3122 3366 \nz\n\" transform=\"scale(0.015625)\"/>\n       <path id=\"DejaVuSans-75\" d=\"M 544 1381 \nL 544 3500 \nL 1119 3500 \nL 1119 1403 \nQ 1119 906 1312 657 \nQ 1506 409 1894 409 \nQ 2359 409 2629 706 \nQ 2900 1003 2900 1516 \nL 2900 3500 \nL 3475 3500 \nL 3475 0 \nL 2900 0 \nL 2900 538 \nQ 2691 219 2414 64 \nQ 2138 -91 1772 -91 \nQ 1169 -91 856 284 \nQ 544 659 544 1381 \nz\nM 1991 3584 \nL 1991 3584 \nz\n\" transform=\"scale(0.015625)\"/>\n       <path id=\"DejaVuSans-61\" d=\"M 2194 1759 \nQ 1497 1759 1228 1600 \nQ 959 1441 959 1056 \nQ 959 750 1161 570 \nQ 1363 391 1709 391 \nQ 2188 391 2477 730 \nQ 2766 1069 2766 1631 \nL 2766 1759 \nL 2194 1759 \nz\nM 3341 1997 \nL 3341 0 \nL 2766 0 \nL 2766 531 \nQ 2569 213 2275 61 \nQ 1981 -91 1556 -91 \nQ 1019 -91 701 211 \nQ 384 513 384 1019 \nQ 384 1609 779 1909 \nQ 1175 2209 1959 2209 \nL 2766 2209 \nL 2766 2266 \nQ 2766 2663 2505 2880 \nQ 2244 3097 1772 3097 \nQ 1472 3097 1187 3025 \nQ 903 2953 641 2809 \nL 641 3341 \nQ 956 3463 1253 3523 \nQ 1550 3584 1831 3584 \nQ 2591 3584 2966 3190 \nQ 3341 2797 3341 1997 \nz\n\" transform=\"scale(0.015625)\"/>\n       <path id=\"DejaVuSans-79\" d=\"M 2059 -325 \nQ 1816 -950 1584 -1140 \nQ 1353 -1331 966 -1331 \nL 506 -1331 \nL 506 -850 \nL 844 -850 \nQ 1081 -850 1212 -737 \nQ 1344 -625 1503 -206 \nL 1606 56 \nL 191 3500 \nL 800 3500 \nL 1894 763 \nL 2988 3500 \nL 3597 3500 \nL 2059 -325 \nz\n\" transform=\"scale(0.015625)\"/>\n      </defs>\n      <use xlink:href=\"#DejaVuSans-41\"/>\n      <use xlink:href=\"#DejaVuSans-63\" x=\"66.658203\"/>\n      <use xlink:href=\"#DejaVuSans-63\" x=\"121.638672\"/>\n      <use xlink:href=\"#DejaVuSans-75\" x=\"176.619141\"/>\n      <use xlink:href=\"#DejaVuSans-72\" x=\"239.998047\"/>\n      <use xlink:href=\"#DejaVuSans-61\" x=\"281.111328\"/>\n      <use xlink:href=\"#DejaVuSans-63\" x=\"342.390625\"/>\n      <use xlink:href=\"#DejaVuSans-79\" x=\"397.371094\"/>\n     </g>\n    </g>\n   </g>\n   <g id=\"line2d_31\">\n    <path d=\"M 81.869886 339.838125 \nL 86.993853 339.838125 \nL 92.11782 339.838125 \nL 97.241787 339.838125 \nL 102.365754 339.838125 \nL 107.489721 338.817261 \nL 112.613688 338.817261 \nL 117.737655 338.817261 \nL 122.861622 338.817261 \nL 127.985589 338.817261 \nL 133.109556 304.875695 \nL 138.233523 303.952604 \nL 143.35749 276.898274 \nL 148.481457 276.898274 \nL 153.605424 276.898274 \nL 158.72939 253.406903 \nL 163.853357 199.741098 \nL 168.977324 181.963688 \nL 174.101291 181.963688 \nL 179.225258 181.963688 \nL 184.349225 155.225683 \nL 189.473192 106.675699 \nL 194.597159 106.675699 \nL 199.721126 106.675699 \nL 204.845093 106.675699 \nL 209.96906 106.675699 \nL 215.093027 106.675699 \nL 220.216994 106.675699 \nL 225.340961 106.675699 \nL 230.464928 106.675699 \nL 235.588895 106.675699 \nL 240.712862 106.675699 \nL 245.836829 106.675699 \nL 250.960795 106.675699 \nL 256.084762 106.675699 \nL 261.208729 106.675699 \nL 266.332696 106.675699 \nL 271.456663 106.675699 \nL 276.58063 106.675699 \nL 281.704597 106.675699 \nL 286.828564 106.675699 \nL 291.952531 87.345426 \nL 297.076498 87.345426 \nL 302.200465 87.345426 \nL 307.324432 87.345426 \nL 312.448399 87.345426 \nL 317.572366 87.345426 \nL 322.696333 37.438125 \nL 327.8203 37.438125 \nL 332.944267 37.438125 \nL 338.068233 37.438125 \nL 343.1922 37.438125 \nL 348.316167 37.438125 \nL 353.440134 37.438125 \nL 358.564101 37.438125 \nL 363.688068 37.438125 \nL 368.812035 37.438125 \nL 373.936002 37.438125 \nL 379.059969 37.438125 \nL 384.183936 37.438125 \nL 389.307903 37.438125 \nL 394.43187 37.438125 \nL 399.555837 37.438125 \nL 404.679804 37.438125 \nL 409.803771 37.438125 \nL 414.927738 37.438125 \nL 420.051705 37.438125 \nL 425.175671 37.438125 \nL 430.299638 37.438125 \nL 435.423605 37.438125 \nL 440.547572 37.438125 \nL 445.671539 37.438125 \nL 450.795506 37.438125 \nL 455.919473 37.438125 \nL 461.04344 37.438125 \nL 466.167407 37.438125 \nL 471.291374 37.438125 \nL 476.415341 37.438125 \nL 481.539308 37.438125 \nL 486.663275 37.438125 \nL 491.787242 37.438125 \nL 496.911209 37.438125 \nL 502.035176 37.438125 \nL 507.159143 37.438125 \nL 512.28311 37.438125 \nL 517.407076 37.438125 \nL 522.531043 37.438125 \nL 527.65501 37.438125 \nL 532.778977 37.438125 \nL 537.902944 37.438125 \nL 543.026911 37.438125 \nL 548.150878 37.438125 \nL 553.274845 37.438125 \nL 558.398812 37.438125 \nL 563.522779 37.438125 \nL 568.646746 37.438125 \nL 573.770713 37.438125 \nL 578.89468 37.438125 \nL 584.018647 37.438125 \nL 589.142614 37.438125 \n\" clip-path=\"url(#p8bb1eda33a)\" style=\"fill: none; stroke: #0000ff; stroke-width: 1.5; stroke-linecap: square\"/>\n   </g>\n   <g id=\"line2d_32\">\n    <path d=\"M 81.869886 37.438125 \nL 86.993853 37.438125 \nL 92.11782 37.438125 \nL 97.241787 37.438125 \nL 102.365754 37.438125 \nL 107.489721 37.438125 \nL 112.613688 37.438125 \nL 117.737655 37.438125 \nL 122.861622 37.438125 \nL 127.985589 37.438125 \nL 133.109556 37.438125 \nL 138.233523 37.438125 \nL 143.35749 37.438125 \nL 148.481457 37.438125 \nL 153.605424 37.438125 \nL 158.72939 37.438125 \nL 163.853357 37.438125 \nL 168.977324 37.438125 \nL 174.101291 37.438125 \nL 179.225258 37.438125 \nL 184.349225 37.438125 \nL 189.473192 37.438125 \nL 194.597159 37.438125 \nL 199.721126 37.438125 \nL 204.845093 37.438125 \nL 209.96906 37.438125 \nL 215.093027 37.438125 \nL 220.216994 37.438125 \nL 225.340961 37.438125 \nL 230.464928 37.438125 \nL 235.588895 37.438125 \nL 240.712862 37.438125 \nL 245.836829 37.438125 \nL 250.960795 37.438125 \nL 256.084762 37.438125 \nL 261.208729 37.438125 \nL 266.332696 37.438125 \nL 271.456663 37.438125 \nL 276.58063 37.438125 \nL 281.704597 37.438125 \nL 286.828564 37.438125 \nL 291.952531 37.438125 \nL 297.076498 37.438125 \nL 302.200465 37.438125 \nL 307.324432 37.438125 \nL 312.448399 37.438125 \nL 317.572366 37.438125 \nL 322.696333 37.438125 \nL 327.8203 37.438125 \nL 332.944267 37.438125 \nL 338.068233 37.438125 \nL 343.1922 37.438125 \nL 348.316167 37.438125 \nL 353.440134 37.438125 \nL 358.564101 37.438125 \nL 363.688068 37.438125 \nL 368.812035 37.438125 \nL 373.936002 37.438125 \nL 379.059969 37.438125 \nL 384.183936 37.438125 \nL 389.307903 37.438125 \nL 394.43187 37.438125 \nL 399.555837 37.438125 \nL 404.679804 37.438125 \nL 409.803771 37.438125 \nL 414.927738 37.438125 \nL 420.051705 37.438125 \nL 425.175671 37.438125 \nL 430.299638 37.438125 \nL 435.423605 37.438125 \nL 440.547572 37.438125 \nL 445.671539 37.438125 \nL 450.795506 37.438125 \nL 455.919473 37.438125 \nL 461.04344 37.438125 \nL 466.167407 37.438125 \nL 471.291374 37.438125 \nL 476.415341 37.438125 \nL 481.539308 37.438125 \nL 486.663275 37.438125 \nL 491.787242 37.438125 \nL 496.911209 37.438125 \nL 502.035176 37.438125 \nL 507.159143 37.438125 \nL 512.28311 37.438125 \nL 517.407076 37.438125 \nL 522.531043 37.438125 \nL 527.65501 37.438125 \nL 532.778977 37.438125 \nL 537.902944 37.438125 \nL 543.026911 37.438125 \nL 548.150878 37.438125 \nL 553.274845 37.438125 \nL 558.398812 37.438125 \nL 563.522779 37.438125 \nL 568.646746 37.438125 \nL 573.770713 37.438125 \nL 578.89468 37.438125 \nL 584.018647 37.438125 \nL 589.142614 37.438125 \n\" clip-path=\"url(#p8bb1eda33a)\" style=\"fill: none; stroke: #008000; stroke-width: 1.5; stroke-linecap: square\"/>\n   </g>\n   <g id=\"line2d_33\">\n    <path d=\"M 322.696333 354.958125 \nL 322.696333 22.318125 \n\" clip-path=\"url(#p8bb1eda33a)\" style=\"fill: none; stroke-dasharray: 5.55,2.4; stroke-dashoffset: 0; stroke: #ff0000; stroke-width: 1.5\"/>\n   </g>\n   <g id=\"patch_3\">\n    <path d=\"M 56.50625 354.958125 \nL 56.50625 22.318125 \n\" style=\"fill: none; stroke: #000000; stroke-width: 0.8; stroke-linejoin: miter; stroke-linecap: square\"/>\n   </g>\n   <g id=\"patch_4\">\n    <path d=\"M 614.50625 354.958125 \nL 614.50625 22.318125 \n\" style=\"fill: none; stroke: #000000; stroke-width: 0.8; stroke-linejoin: miter; stroke-linecap: square\"/>\n   </g>\n   <g id=\"patch_5\">\n    <path d=\"M 56.50625 354.958125 \nL 614.50625 354.958125 \n\" style=\"fill: none; stroke: #000000; stroke-width: 0.8; stroke-linejoin: miter; stroke-linecap: square\"/>\n   </g>\n   <g id=\"patch_6\">\n    <path d=\"M 56.50625 22.318125 \nL 614.50625 22.318125 \n\" style=\"fill: none; stroke: #000000; stroke-width: 0.8; stroke-linejoin: miter; stroke-linecap: square\"/>\n   </g>\n   <g id=\"text_18\">\n    <!-- 0.84 -->\n    <g transform=\"translate(295.977583 34.9425) scale(0.12 -0.12)\">\n     <use xlink:href=\"#DejaVuSans-30\"/>\n     <use xlink:href=\"#DejaVuSans-2e\" x=\"63.623047\"/>\n     <use xlink:href=\"#DejaVuSans-38\" x=\"95.410156\"/>\n     <use xlink:href=\"#DejaVuSans-34\" x=\"159.033203\"/>\n    </g>\n   </g>\n   <g id=\"text_19\">\n    <!-- 0.84 -->\n    <g transform=\"translate(295.977583 46.55625) scale(0.12 -0.12)\">\n     <use xlink:href=\"#DejaVuSans-30\"/>\n     <use xlink:href=\"#DejaVuSans-2e\" x=\"63.623047\"/>\n     <use xlink:href=\"#DejaVuSans-38\" x=\"95.410156\"/>\n     <use xlink:href=\"#DejaVuSans-34\" x=\"159.033203\"/>\n    </g>\n   </g>\n   <g id=\"text_20\">\n    <!-- Accuracy vs Threshold for Predicting \"yes\" and \"no\" -->\n    <g transform=\"translate(180.15875 16.318125) scale(0.12 -0.12)\">\n     <defs>\n      <path id=\"DejaVuSans-20\" transform=\"scale(0.015625)\"/>\n      <path id=\"DejaVuSans-76\" d=\"M 191 3500 \nL 800 3500 \nL 1894 563 \nL 2988 3500 \nL 3597 3500 \nL 2284 0 \nL 1503 0 \nL 191 3500 \nz\n\" transform=\"scale(0.015625)\"/>\n      <path id=\"DejaVuSans-66\" d=\"M 2375 4863 \nL 2375 4384 \nL 1825 4384 \nQ 1516 4384 1395 4259 \nQ 1275 4134 1275 3809 \nL 1275 3500 \nL 2222 3500 \nL 2222 3053 \nL 1275 3053 \nL 1275 0 \nL 697 0 \nL 697 3053 \nL 147 3053 \nL 147 3500 \nL 697 3500 \nL 697 3744 \nQ 697 4328 969 4595 \nQ 1241 4863 1831 4863 \nL 2375 4863 \nz\n\" transform=\"scale(0.015625)\"/>\n      <path id=\"DejaVuSans-50\" d=\"M 1259 4147 \nL 1259 2394 \nL 2053 2394 \nQ 2494 2394 2734 2622 \nQ 2975 2850 2975 3272 \nQ 2975 3691 2734 3919 \nQ 2494 4147 2053 4147 \nL 1259 4147 \nz\nM 628 4666 \nL 2053 4666 \nQ 2838 4666 3239 4311 \nQ 3641 3956 3641 3272 \nQ 3641 2581 3239 2228 \nQ 2838 1875 2053 1875 \nL 1259 1875 \nL 1259 0 \nL 628 0 \nL 628 4666 \nz\n\" transform=\"scale(0.015625)\"/>\n      <path id=\"DejaVuSans-69\" d=\"M 603 3500 \nL 1178 3500 \nL 1178 0 \nL 603 0 \nL 603 3500 \nz\nM 603 4863 \nL 1178 4863 \nL 1178 4134 \nL 603 4134 \nL 603 4863 \nz\n\" transform=\"scale(0.015625)\"/>\n      <path id=\"DejaVuSans-74\" d=\"M 1172 4494 \nL 1172 3500 \nL 2356 3500 \nL 2356 3053 \nL 1172 3053 \nL 1172 1153 \nQ 1172 725 1289 603 \nQ 1406 481 1766 481 \nL 2356 481 \nL 2356 0 \nL 1766 0 \nQ 1100 0 847 248 \nQ 594 497 594 1153 \nL 594 3053 \nL 172 3053 \nL 172 3500 \nL 594 3500 \nL 594 4494 \nL 1172 4494 \nz\n\" transform=\"scale(0.015625)\"/>\n      <path id=\"DejaVuSans-6e\" d=\"M 3513 2113 \nL 3513 0 \nL 2938 0 \nL 2938 2094 \nQ 2938 2591 2744 2837 \nQ 2550 3084 2163 3084 \nQ 1697 3084 1428 2787 \nQ 1159 2491 1159 1978 \nL 1159 0 \nL 581 0 \nL 581 3500 \nL 1159 3500 \nL 1159 2956 \nQ 1366 3272 1645 3428 \nQ 1925 3584 2291 3584 \nQ 2894 3584 3203 3211 \nQ 3513 2838 3513 2113 \nz\n\" transform=\"scale(0.015625)\"/>\n      <path id=\"DejaVuSans-67\" d=\"M 2906 1791 \nQ 2906 2416 2648 2759 \nQ 2391 3103 1925 3103 \nQ 1463 3103 1205 2759 \nQ 947 2416 947 1791 \nQ 947 1169 1205 825 \nQ 1463 481 1925 481 \nQ 2391 481 2648 825 \nQ 2906 1169 2906 1791 \nz\nM 3481 434 \nQ 3481 -459 3084 -895 \nQ 2688 -1331 1869 -1331 \nQ 1566 -1331 1297 -1286 \nQ 1028 -1241 775 -1147 \nL 775 -588 \nQ 1028 -725 1275 -790 \nQ 1522 -856 1778 -856 \nQ 2344 -856 2625 -561 \nQ 2906 -266 2906 331 \nL 2906 616 \nQ 2728 306 2450 153 \nQ 2172 0 1784 0 \nQ 1141 0 747 490 \nQ 353 981 353 1791 \nQ 353 2603 747 3093 \nQ 1141 3584 1784 3584 \nQ 2172 3584 2450 3431 \nQ 2728 3278 2906 2969 \nL 2906 3500 \nL 3481 3500 \nL 3481 434 \nz\n\" transform=\"scale(0.015625)\"/>\n      <path id=\"DejaVuSans-22\" d=\"M 1147 4666 \nL 1147 2931 \nL 616 2931 \nL 616 4666 \nL 1147 4666 \nz\nM 2328 4666 \nL 2328 2931 \nL 1797 2931 \nL 1797 4666 \nL 2328 4666 \nz\n\" transform=\"scale(0.015625)\"/>\n     </defs>\n     <use xlink:href=\"#DejaVuSans-41\"/>\n     <use xlink:href=\"#DejaVuSans-63\" x=\"66.658203\"/>\n     <use xlink:href=\"#DejaVuSans-63\" x=\"121.638672\"/>\n     <use xlink:href=\"#DejaVuSans-75\" x=\"176.619141\"/>\n     <use xlink:href=\"#DejaVuSans-72\" x=\"239.998047\"/>\n     <use xlink:href=\"#DejaVuSans-61\" x=\"281.111328\"/>\n     <use xlink:href=\"#DejaVuSans-63\" x=\"342.390625\"/>\n     <use xlink:href=\"#DejaVuSans-79\" x=\"397.371094\"/>\n     <use xlink:href=\"#DejaVuSans-20\" x=\"456.550781\"/>\n     <use xlink:href=\"#DejaVuSans-76\" x=\"488.337891\"/>\n     <use xlink:href=\"#DejaVuSans-73\" x=\"547.517578\"/>\n     <use xlink:href=\"#DejaVuSans-20\" x=\"599.617188\"/>\n     <use xlink:href=\"#DejaVuSans-54\" x=\"631.404297\"/>\n     <use xlink:href=\"#DejaVuSans-68\" x=\"692.488281\"/>\n     <use xlink:href=\"#DejaVuSans-72\" x=\"755.867188\"/>\n     <use xlink:href=\"#DejaVuSans-65\" x=\"794.730469\"/>\n     <use xlink:href=\"#DejaVuSans-73\" x=\"856.253906\"/>\n     <use xlink:href=\"#DejaVuSans-68\" x=\"908.353516\"/>\n     <use xlink:href=\"#DejaVuSans-6f\" x=\"971.732422\"/>\n     <use xlink:href=\"#DejaVuSans-6c\" x=\"1032.914062\"/>\n     <use xlink:href=\"#DejaVuSans-64\" x=\"1060.697266\"/>\n     <use xlink:href=\"#DejaVuSans-20\" x=\"1124.173828\"/>\n     <use xlink:href=\"#DejaVuSans-66\" x=\"1155.960938\"/>\n     <use xlink:href=\"#DejaVuSans-6f\" x=\"1191.166016\"/>\n     <use xlink:href=\"#DejaVuSans-72\" x=\"1252.347656\"/>\n     <use xlink:href=\"#DejaVuSans-20\" x=\"1293.460938\"/>\n     <use xlink:href=\"#DejaVuSans-50\" x=\"1325.248047\"/>\n     <use xlink:href=\"#DejaVuSans-72\" x=\"1383.800781\"/>\n     <use xlink:href=\"#DejaVuSans-65\" x=\"1422.664062\"/>\n     <use xlink:href=\"#DejaVuSans-64\" x=\"1484.1875\"/>\n     <use xlink:href=\"#DejaVuSans-69\" x=\"1547.664062\"/>\n     <use xlink:href=\"#DejaVuSans-63\" x=\"1575.447266\"/>\n     <use xlink:href=\"#DejaVuSans-74\" x=\"1630.427734\"/>\n     <use xlink:href=\"#DejaVuSans-69\" x=\"1669.636719\"/>\n     <use xlink:href=\"#DejaVuSans-6e\" x=\"1697.419922\"/>\n     <use xlink:href=\"#DejaVuSans-67\" x=\"1760.798828\"/>\n     <use xlink:href=\"#DejaVuSans-20\" x=\"1824.275391\"/>\n     <use xlink:href=\"#DejaVuSans-22\" x=\"1856.0625\"/>\n     <use xlink:href=\"#DejaVuSans-79\" x=\"1902.058594\"/>\n     <use xlink:href=\"#DejaVuSans-65\" x=\"1961.238281\"/>\n     <use xlink:href=\"#DejaVuSans-73\" x=\"2022.761719\"/>\n     <use xlink:href=\"#DejaVuSans-22\" x=\"2074.861328\"/>\n     <use xlink:href=\"#DejaVuSans-20\" x=\"2120.857422\"/>\n     <use xlink:href=\"#DejaVuSans-61\" x=\"2152.644531\"/>\n     <use xlink:href=\"#DejaVuSans-6e\" x=\"2213.923828\"/>\n     <use xlink:href=\"#DejaVuSans-64\" x=\"2277.302734\"/>\n     <use xlink:href=\"#DejaVuSans-20\" x=\"2340.779297\"/>\n     <use xlink:href=\"#DejaVuSans-22\" x=\"2372.566406\"/>\n     <use xlink:href=\"#DejaVuSans-6e\" x=\"2418.5625\"/>\n     <use xlink:href=\"#DejaVuSans-6f\" x=\"2481.941406\"/>\n     <use xlink:href=\"#DejaVuSans-22\" x=\"2543.123047\"/>\n    </g>\n   </g>\n   <g id=\"PathCollection_1\">\n    <defs>\n     <path id=\"mfba1d0e3a6\" d=\"M 0 3 \nC 0.795609 3 1.55874 2.683901 2.12132 2.12132 \nC 2.683901 1.55874 3 0.795609 3 0 \nC 3 -0.795609 2.683901 -1.55874 2.12132 -2.12132 \nC 1.55874 -2.683901 0.795609 -3 0 -3 \nC -0.795609 -3 -1.55874 -2.683901 -2.12132 -2.12132 \nC -2.683901 -1.55874 -3 -0.795609 -3 0 \nC -3 0.795609 -2.683901 1.55874 -2.12132 2.12132 \nC -1.55874 2.683901 -0.795609 3 0 3 \nz\n\" style=\"stroke: #ff0000\"/>\n    </defs>\n    <g clip-path=\"url(#p8bb1eda33a)\">\n     <use xlink:href=\"#mfba1d0e3a6\" x=\"322.696333\" y=\"37.438125\" style=\"fill: #ff0000; stroke: #ff0000\"/>\n    </g>\n   </g>\n   <g id=\"PathCollection_2\">\n    <g clip-path=\"url(#p8bb1eda33a)\">\n     <use xlink:href=\"#mfba1d0e3a6\" x=\"322.696333\" y=\"37.438125\" style=\"fill: #ff0000; stroke: #ff0000\"/>\n    </g>\n   </g>\n   <g id=\"legend_1\">\n    <g id=\"patch_7\">\n     <path d=\"M 454.673437 349.958125 \nL 607.50625 349.958125 \nQ 609.50625 349.958125 609.50625 347.958125 \nL 609.50625 304.92375 \nQ 609.50625 302.92375 607.50625 302.92375 \nL 454.673437 302.92375 \nQ 452.673437 302.92375 452.673437 304.92375 \nL 452.673437 347.958125 \nQ 452.673437 349.958125 454.673437 349.958125 \nz\n\" style=\"fill: #ffffff; opacity: 0.8; stroke: #cccccc; stroke-linejoin: miter\"/>\n    </g>\n    <g id=\"line2d_34\">\n     <path d=\"M 456.673437 311.022187 \nL 466.673437 311.022187 \nL 476.673437 311.022187 \n\" style=\"fill: none; stroke: #0000ff; stroke-width: 1.5; stroke-linecap: square\"/>\n    </g>\n    <g id=\"text_21\">\n     <!-- Accuracy \"yes\" -->\n     <g transform=\"translate(484.673437 314.522187) scale(0.1 -0.1)\">\n      <use xlink:href=\"#DejaVuSans-41\"/>\n      <use xlink:href=\"#DejaVuSans-63\" x=\"66.658203\"/>\n      <use xlink:href=\"#DejaVuSans-63\" x=\"121.638672\"/>\n      <use xlink:href=\"#DejaVuSans-75\" x=\"176.619141\"/>\n      <use xlink:href=\"#DejaVuSans-72\" x=\"239.998047\"/>\n      <use xlink:href=\"#DejaVuSans-61\" x=\"281.111328\"/>\n      <use xlink:href=\"#DejaVuSans-63\" x=\"342.390625\"/>\n      <use xlink:href=\"#DejaVuSans-79\" x=\"397.371094\"/>\n      <use xlink:href=\"#DejaVuSans-20\" x=\"456.550781\"/>\n      <use xlink:href=\"#DejaVuSans-22\" x=\"488.337891\"/>\n      <use xlink:href=\"#DejaVuSans-79\" x=\"534.333984\"/>\n      <use xlink:href=\"#DejaVuSans-65\" x=\"593.513672\"/>\n      <use xlink:href=\"#DejaVuSans-73\" x=\"655.037109\"/>\n      <use xlink:href=\"#DejaVuSans-22\" x=\"707.136719\"/>\n     </g>\n    </g>\n    <g id=\"line2d_35\">\n     <path d=\"M 456.673437 325.700312 \nL 466.673437 325.700312 \nL 476.673437 325.700312 \n\" style=\"fill: none; stroke: #008000; stroke-width: 1.5; stroke-linecap: square\"/>\n    </g>\n    <g id=\"text_22\">\n     <!-- Accuracy \"no\" -->\n     <g transform=\"translate(484.673437 329.200312) scale(0.1 -0.1)\">\n      <use xlink:href=\"#DejaVuSans-41\"/>\n      <use xlink:href=\"#DejaVuSans-63\" x=\"66.658203\"/>\n      <use xlink:href=\"#DejaVuSans-63\" x=\"121.638672\"/>\n      <use xlink:href=\"#DejaVuSans-75\" x=\"176.619141\"/>\n      <use xlink:href=\"#DejaVuSans-72\" x=\"239.998047\"/>\n      <use xlink:href=\"#DejaVuSans-61\" x=\"281.111328\"/>\n      <use xlink:href=\"#DejaVuSans-63\" x=\"342.390625\"/>\n      <use xlink:href=\"#DejaVuSans-79\" x=\"397.371094\"/>\n      <use xlink:href=\"#DejaVuSans-20\" x=\"456.550781\"/>\n      <use xlink:href=\"#DejaVuSans-22\" x=\"488.337891\"/>\n      <use xlink:href=\"#DejaVuSans-6e\" x=\"534.333984\"/>\n      <use xlink:href=\"#DejaVuSans-6f\" x=\"597.712891\"/>\n      <use xlink:href=\"#DejaVuSans-22\" x=\"658.894531\"/>\n     </g>\n    </g>\n    <g id=\"line2d_36\">\n     <path d=\"M 456.673437 340.378437 \nL 466.673437 340.378437 \nL 476.673437 340.378437 \n\" style=\"fill: none; stroke-dasharray: 5.55,2.4; stroke-dashoffset: 0; stroke: #ff0000; stroke-width: 1.5\"/>\n    </g>\n    <g id=\"text_23\">\n     <!-- Threshold Optimal: 0.16 -->\n     <g transform=\"translate(484.673437 343.878437) scale(0.1 -0.1)\">\n      <defs>\n       <path id=\"DejaVuSans-4f\" d=\"M 2522 4238 \nQ 1834 4238 1429 3725 \nQ 1025 3213 1025 2328 \nQ 1025 1447 1429 934 \nQ 1834 422 2522 422 \nQ 3209 422 3611 934 \nQ 4013 1447 4013 2328 \nQ 4013 3213 3611 3725 \nQ 3209 4238 2522 4238 \nz\nM 2522 4750 \nQ 3503 4750 4090 4092 \nQ 4678 3434 4678 2328 \nQ 4678 1225 4090 567 \nQ 3503 -91 2522 -91 \nQ 1538 -91 948 565 \nQ 359 1222 359 2328 \nQ 359 3434 948 4092 \nQ 1538 4750 2522 4750 \nz\n\" transform=\"scale(0.015625)\"/>\n       <path id=\"DejaVuSans-70\" d=\"M 1159 525 \nL 1159 -1331 \nL 581 -1331 \nL 581 3500 \nL 1159 3500 \nL 1159 2969 \nQ 1341 3281 1617 3432 \nQ 1894 3584 2278 3584 \nQ 2916 3584 3314 3078 \nQ 3713 2572 3713 1747 \nQ 3713 922 3314 415 \nQ 2916 -91 2278 -91 \nQ 1894 -91 1617 61 \nQ 1341 213 1159 525 \nz\nM 3116 1747 \nQ 3116 2381 2855 2742 \nQ 2594 3103 2138 3103 \nQ 1681 3103 1420 2742 \nQ 1159 2381 1159 1747 \nQ 1159 1113 1420 752 \nQ 1681 391 2138 391 \nQ 2594 391 2855 752 \nQ 3116 1113 3116 1747 \nz\n\" transform=\"scale(0.015625)\"/>\n       <path id=\"DejaVuSans-6d\" d=\"M 3328 2828 \nQ 3544 3216 3844 3400 \nQ 4144 3584 4550 3584 \nQ 5097 3584 5394 3201 \nQ 5691 2819 5691 2113 \nL 5691 0 \nL 5113 0 \nL 5113 2094 \nQ 5113 2597 4934 2840 \nQ 4756 3084 4391 3084 \nQ 3944 3084 3684 2787 \nQ 3425 2491 3425 1978 \nL 3425 0 \nL 2847 0 \nL 2847 2094 \nQ 2847 2600 2669 2842 \nQ 2491 3084 2119 3084 \nQ 1678 3084 1418 2786 \nQ 1159 2488 1159 1978 \nL 1159 0 \nL 581 0 \nL 581 3500 \nL 1159 3500 \nL 1159 2956 \nQ 1356 3278 1631 3431 \nQ 1906 3584 2284 3584 \nQ 2666 3584 2933 3390 \nQ 3200 3197 3328 2828 \nz\n\" transform=\"scale(0.015625)\"/>\n       <path id=\"DejaVuSans-3a\" d=\"M 750 794 \nL 1409 794 \nL 1409 0 \nL 750 0 \nL 750 794 \nz\nM 750 3309 \nL 1409 3309 \nL 1409 2516 \nL 750 2516 \nL 750 3309 \nz\n\" transform=\"scale(0.015625)\"/>\n      </defs>\n      <use xlink:href=\"#DejaVuSans-54\"/>\n      <use xlink:href=\"#DejaVuSans-68\" x=\"61.083984\"/>\n      <use xlink:href=\"#DejaVuSans-72\" x=\"124.462891\"/>\n      <use xlink:href=\"#DejaVuSans-65\" x=\"163.326172\"/>\n      <use xlink:href=\"#DejaVuSans-73\" x=\"224.849609\"/>\n      <use xlink:href=\"#DejaVuSans-68\" x=\"276.949219\"/>\n      <use xlink:href=\"#DejaVuSans-6f\" x=\"340.328125\"/>\n      <use xlink:href=\"#DejaVuSans-6c\" x=\"401.509766\"/>\n      <use xlink:href=\"#DejaVuSans-64\" x=\"429.292969\"/>\n      <use xlink:href=\"#DejaVuSans-20\" x=\"492.769531\"/>\n      <use xlink:href=\"#DejaVuSans-4f\" x=\"524.556641\"/>\n      <use xlink:href=\"#DejaVuSans-70\" x=\"603.267578\"/>\n      <use xlink:href=\"#DejaVuSans-74\" x=\"666.744141\"/>\n      <use xlink:href=\"#DejaVuSans-69\" x=\"705.953125\"/>\n      <use xlink:href=\"#DejaVuSans-6d\" x=\"733.736328\"/>\n      <use xlink:href=\"#DejaVuSans-61\" x=\"831.148438\"/>\n      <use xlink:href=\"#DejaVuSans-6c\" x=\"892.427734\"/>\n      <use xlink:href=\"#DejaVuSans-3a\" x=\"920.210938\"/>\n      <use xlink:href=\"#DejaVuSans-20\" x=\"953.902344\"/>\n      <use xlink:href=\"#DejaVuSans-30\" x=\"985.689453\"/>\n      <use xlink:href=\"#DejaVuSans-2e\" x=\"1049.3125\"/>\n      <use xlink:href=\"#DejaVuSans-31\" x=\"1081.099609\"/>\n      <use xlink:href=\"#DejaVuSans-36\" x=\"1144.722656\"/>\n     </g>\n    </g>\n   </g>\n  </g>\n </g>\n <defs>\n  <clipPath id=\"p8bb1eda33a\">\n   <rect x=\"56.50625\" y=\"22.318125\" width=\"558\" height=\"332.64\"/>\n  </clipPath>\n </defs>\n</svg>\n"
          },
          "metadata": {}
        }
      ]
    }
  ]
}